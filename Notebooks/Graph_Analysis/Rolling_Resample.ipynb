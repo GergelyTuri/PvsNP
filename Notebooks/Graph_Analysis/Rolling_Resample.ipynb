{
 "cells": [
  {
   "cell_type": "markdown",
   "metadata": {},
   "source": [
    "# Rolling Resample\n",
    "\n",
    "#### 1. Check rates in overall session, and then accounting for rearing and not-rearing *Remember to convert to binary, i.e., spike or no spike.* \n",
    "\n",
    "#### 2. Check small-worldness of networks during anxiety tasks, in each experiment. "
   ]
  },
  {
   "cell_type": "code",
   "execution_count": 1,
   "metadata": {},
   "outputs": [],
   "source": [
    "# Bring your packages onto the path\n",
    "import os\n",
    "import sys\n",
    "sys.path.append(os.path.abspath(os.path.join(\"..\", \"..\")))\n",
    "\n",
    "import pandas as pd\n",
    "import networkx as nx\n",
    "import numpy as np\n",
    "import matplotlib.pylab as plt\n",
    "from analysis.sig_proc import Deconvoluter\n",
    "from analysis.graph_analysis_utils import NeuronNetwork\n",
    "from analysis.analysis_utils import FeatureExtractor\n",
    "from IPython.core.interactiveshell import InteractiveShell\n",
    "\n",
    "# from oasis.functions import gen_data, gen_sinusoidal_data, deconvolve, estimate_parameters\n",
    "# from oasis.plotting import simpleaxis\n",
    "# from oasis.oasis_methods import oasisAR1, oasisAR2"
   ]
  },
  {
   "cell_type": "code",
   "execution_count": 2,
   "metadata": {},
   "outputs": [],
   "source": [
    "InteractiveShell.ast_node_interactivity = \"all\"\n",
    "%matplotlib inline"
   ]
  },
  {
   "cell_type": "code",
   "execution_count": 3,
   "metadata": {},
   "outputs": [
    {
     "name": "stdout",
     "output_type": "stream",
     "text": [
      "0. full path of: EPM_NO_OFT_POPP_cellreg_dict.csv is: /Users/saveliyyusufov/Hen_Lab/Mice/DRD87/EPM_NO_OFT_POPP_cellreg_dict.csv\n",
      "1. full path of: behavior_drd87_POPP.csv is: /Users/saveliyyusufov/Hen_Lab/Mice/DRD87/behavior_drd87_POPP.csv\n",
      "2. full path of: EPM_NO_OFT_POPP_centroids.csv is: /Users/saveliyyusufov/Hen_Lab/Mice/DRD87/EPM_NO_OFT_POPP_centroids.csv\n",
      "3. full path of: D87_POPP_C_raw.csv is: /Users/saveliyyusufov/Hen_Lab/Mice/DRD87/D87_POPP_C_raw.csv\n",
      "4. full path of: D87_OFT_C_raw.csv is: /Users/saveliyyusufov/Hen_Lab/Mice/DRD87/D87_OFT_C_raw.csv\n",
      "5. full path of: Behavior_DRD87_NO.csv is: /Users/saveliyyusufov/Hen_Lab/Mice/DRD87/Behavior_DRD87_NO.csv\n",
      "6. full path of: D87_NO_C_raw.csv is: /Users/saveliyyusufov/Hen_Lab/Mice/DRD87/D87_NO_C_raw.csv\n",
      "7. full path of: Raw_EPM2_drd87.csv is: /Users/saveliyyusufov/Hen_Lab/Mice/DRD87/Raw_EPM2_drd87.csv\n",
      "8. full path of: Behavior_DRD87_EPM.csv is: /Users/saveliyyusufov/Hen_Lab/Mice/DRD87/Behavior_DRD87_EPM.csv\n"
     ]
    }
   ],
   "source": [
    "mouse_directory = os.path.join(os.path.expanduser(\"~\"), \"Hen_Lab/Mice/DRD87\")\n",
    "\n",
    "if not os.path.exists(mouse_directory):\n",
    "    print(\"The mouse directory does not exist\", file=sys.stderr)\n",
    "\n",
    "file_num = 0\n",
    "raw_files = list()\n",
    "for dir_name, subdir_list, file_list in os.walk(mouse_directory):\n",
    "    for file_name in file_list:\n",
    "        if file_name.endswith(\".csv\"):\n",
    "            print(\"{}. full path of: {} is: {}\".format(file_num, file_name, os.path.join(dir_name, file_name)))\n",
    "            file_num += 1\n",
    "            raw_files.append(os.path.join(dir_name, file_name))"
   ]
  },
  {
   "cell_type": "code",
   "execution_count": 4,
   "metadata": {},
   "outputs": [
    {
     "name": "stderr",
     "output_type": "stream",
     "text": [
      "/Users/saveliyyusufov/Hen_Lab/analysis/analysis_utils.py:29: Warning:\n",
      "\n",
      "Row multiple to downsample behavior dataframe not specified. Behavior dataframe will be downsampled by a row multiple of 3\n",
      "\n"
     ]
    }
   ],
   "source": [
    "drd87_data = pd.read_csv(raw_files[7], header=None)\n",
    "deconvoluter = Deconvoluter(drd87_data)\n",
    "\n",
    "beh_cols = [\n",
    "    \"Trial_time\", \"Recording_time\", \"X_center\", \"Y_center\", \"Area\", \"Areachange\", \"Elongation\", \"Distance_moved\", \"Velocity\", \"Arena_centerpoint\", \n",
    "    \"Open1_centerpoint\", \"Open2_centerpoint\", \"Closed1_centerpoint\", \"Closed2_centerpoint\", \"OpenArms_centerpoint\", \"ClosedArms_centerpoint\", \"Result_1\"\n",
    "]\n",
    "\n",
    "# Reindex neuron column vectors from 0, 1, 2, ..., n --> 1, 2, 3, ..., n, n+1\n",
    "deconvoluter.cell_transients.columns = [col+1 for col in deconvoluter.cell_transients.columns]\n",
    "deconvoluter.cell_auc_df.columns = [col+1 for col in deconvoluter.cell_auc_df.columns]\n",
    "\n",
    "behavior_df = pd.read_csv(raw_files[8], header=None)\n",
    "drd87_fe = FeatureExtractor(cell_transients_df=deconvoluter.cell_transients, auc_df=deconvoluter.cell_auc_df, behavior_df=behavior_df, behavior_col_names=beh_cols)"
   ]
  },
  {
   "cell_type": "code",
   "execution_count": 5,
   "metadata": {},
   "outputs": [],
   "source": [
    "drd87_fe.auc_df = drd87_fe.auc_df.where(drd87_fe.auc_df == 0, 1)"
   ]
  },
  {
   "cell_type": "code",
   "execution_count": 6,
   "metadata": {},
   "outputs": [
    {
     "data": {
      "image/png": "[encoded data removed]",
      "text/plain": [
       "<Figure size 1440x288 with 1 Axes>"
      ]
     },
     "metadata": {},
     "output_type": "display_data"
    }
   ],
   "source": [
    "plt.figure(figsize=(20,4))\n",
    "plt.plot(drd87_fe.auc_df[55]);"
   ]
  },
  {
   "cell_type": "code",
   "execution_count": null,
   "metadata": {},
   "outputs": [],
   "source": []
  },
  {
   "cell_type": "code",
   "execution_count": null,
   "metadata": {},
   "outputs": [],
   "source": [
    "def roll_worker(queue, dataframe, neuron_x, neuron_y, resamples):\n",
    "    corr_coefficients = []\n",
    "    high = len(dataframe.loc[:, neuron_x].index)\n",
    "    \n",
    "    time_series_y = dataframe.loc[:, neuron_y]\n",
    "    for _ in range(resamples):\n",
    "        time_series_x = np.roll(-1*dataframe.loc[:, neuron_x], shift=np.random.randint(1, high))\n",
    "        corr_coefficients.append(np.corrcoef(time_series_x, time_series_y)[0][1])\n",
    "    \n",
    "    queue.put(corr_coefficients)"
   ]
  },
  {
   "cell_type": "code",
   "execution_count": null,
   "metadata": {},
   "outputs": [],
   "source": [
    "from multiprocessing import Process\n",
    "from multiprocessing import Queue\n",
    "\n",
    "def roll(dataframe, neuron_x, neuron_y, resamples):\n",
    "    resamples_per_worker = resamples // os.cpu_count()\n",
    "    queue = Queue()\n",
    "    processes = []\n",
    "    rets = []\n",
    "    \n",
    "    for _ in range(os.cpu_count()):\n",
    "        process = Process(target=roll_worker, args=(queue, dataframe, neuron_x, neuron_y, resamples_per_worker))\n",
    "        processes.append(process)\n",
    "        process.start()\n",
    "    for process in processes:\n",
    "        ret = queue.get()  # will block\n",
    "        rets.append(ret)\n",
    "    for process in processes:\n",
    "        process.join()\n",
    "\n",
    "    flattened_list = [item for sublist in rets for item in sublist]\n",
    "        \n",
    "    return flattened_list"
   ]
  },
  {
   "cell_type": "code",
   "execution_count": null,
   "metadata": {},
   "outputs": [],
   "source": [
    "roll(drd87_fe.cell_transients_df, 1, 12, 10000)"
   ]
  },
  {
   "cell_type": "code",
   "execution_count": null,
   "metadata": {},
   "outputs": [],
   "source": [
    "def two_sided_p_val(real_corrcoef, corr_coefficients):\n",
    "    p = len(corr_coefficients)\n",
    "    D = real_corrcoef\n",
    "    \n",
    "    count = 0\n",
    "    corr_coefficients = np.abs(corr_coefficients)\n",
    "    for D_i in np.abs(corr_coefficients):\n",
    "        if D_i >= abs(D):\n",
    "            count += 1\n",
    "            \n",
    "    return (1 / p) * count"
   ]
  },
  {
   "cell_type": "code",
   "execution_count": null,
   "metadata": {},
   "outputs": [],
   "source": [
    "df = drd87_fe.cell_transients_df\n",
    "\n",
    "for i in range(1, len(df.columns)+1):\n",
    "    for j in range(i+1, len(df.columns)+1):\n",
    "        real_corrcoef = np.corrcoef(df.loc[:, i], df.loc[:, j])[0][1]\n",
    "        resampled_vals = roll(df, i, j, 10000)\n",
    "        if two_sided_p_val(real_corrcoef, resampled_vals) < 0.01:\n",
    "            print(\"{}, {}, r={}\".format(i, j, real_corrcoef))\n",
    "        else:\n",
    "            print(\"{}, {} is not statistically significant! r={}\".format(i, j, real_corrcoef))"
   ]
  }
 ],
 "metadata": {
  "kernelspec": {
   "display_name": "Python 3",
   "language": "python",
   "name": "python3"
  },
  "language_info": {
   "codemirror_mode": {
    "name": "ipython",
    "version": 3
   },
   "file_extension": ".py",
   "mimetype": "text/x-python",
   "name": "python",
   "nbconvert_exporter": "python",
   "pygments_lexer": "ipython3",
   "version": "3.6.6"
  }
 },
 "nbformat": 4,
 "nbformat_minor": 2
}
