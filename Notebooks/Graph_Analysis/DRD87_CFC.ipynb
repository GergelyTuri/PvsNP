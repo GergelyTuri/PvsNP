{
 "cells": [
  {
   "cell_type": "markdown",
   "metadata": {},
   "source": [
    "# Contextual Fear Conditioning"
   ]
  },
  {
   "cell_type": "code",
   "execution_count": 1,
   "metadata": {},
   "outputs": [],
   "source": [
    "# Bring packages onto the same path as this notebook\n",
    "import os\n",
    "import sys\n",
    "sys.path.append(os.path.abspath(os.path.join(\"..\", \"..\")))\n",
    "\n",
    "import pandas as pd\n",
    "import networkx as nx\n",
    "import numpy as np\n",
    "from analysis import sig_proc\n",
    "from analysis.graph_analysis_utils import NeuronNetwork\n",
    "from analysis.analysis_utils import FeatureExtractor\n",
    "from IPython.core.interactiveshell import InteractiveShell"
   ]
  },
  {
   "cell_type": "code",
   "execution_count": 2,
   "metadata": {},
   "outputs": [],
   "source": [
    "InteractiveShell.ast_node_interactivity = \"all\"\n",
    "%matplotlib inline"
   ]
  },
  {
   "cell_type": "markdown",
   "metadata": {},
   "source": [
    "### Process the neuron signal data for DRD87 neurons on day 1"
   ]
  },
  {
   "cell_type": "code",
   "execution_count": 3,
   "metadata": {},
   "outputs": [
    {
     "name": "stderr",
     "output_type": "stream",
     "text": [
      "/Users/saveliyyusufov/Hen_Lab/analysis/analysis_utils.py:43: Warning:\n",
      "\n",
      "A behavior dataframe was not provided.\n",
      "\n"
     ]
    }
   ],
   "source": [
    "drd87_day1_raw = pd.read_csv(os.path.join(os.path.expanduser(\"~\"), \"Hen_Lab/Mice/CFC/DRD87/drd87_encode_Raw.csv\"), header=None)\n",
    "_, auc_dataframe, cell_transients_dataframe = sig_proc.detect_ca_transients_mossy(drd87_day1_raw, 2, 0.5, 0.2, 10)\n",
    "\n",
    "drd87_day1_fe = FeatureExtractor(cell_transients_df=cell_transients_dataframe, auc_df=auc_dataframe)\n",
    "\n",
    "# We drop the first 600 frames (since FPS=20), and the first 30 seconds are not fit for analysis.\n",
    "drd87_day1_fe.cell_transients_df.drop(cell_transients_dataframe.index[:600], inplace=True)\n",
    "drd87_day1_fe.cell_transients_df.reset_index(drop=True, inplace=True)\n",
    "\n",
    "# Rename all the columns from \"neuron_x\" --> \"x\". This makes the graphs neater by making sure the neuron names fit into the nodes\n",
    "drd87_day1_fe.cell_transients_df.columns = [i for i in range(1, len(cell_transients_dataframe.columns)+1)]"
   ]
  },
  {
   "cell_type": "markdown",
   "metadata": {},
   "source": [
    "### Process the neuron signal data for DRD87 neurons on day 2"
   ]
  },
  {
   "cell_type": "code",
   "execution_count": 4,
   "metadata": {},
   "outputs": [
    {
     "name": "stderr",
     "output_type": "stream",
     "text": [
      "/Users/saveliyyusufov/Hen_Lab/analysis/analysis_utils.py:43: Warning:\n",
      "\n",
      "A behavior dataframe was not provided.\n",
      "\n"
     ]
    }
   ],
   "source": [
    "drd87_day2_raw = pd.read_csv(os.path.join(os.path.expanduser(\"~\"), \"Hen_Lab/Mice/CFC/DRD87/drd87_CSplus_Raw.csv\"), header=None)\n",
    "_, auc_dataframe, cell_transients_dataframe = sig_proc.detect_ca_transients_mossy(drd87_day2_raw, 2, 0.5, 0.2, 10)\n",
    "\n",
    "drd87_day2_fe = FeatureExtractor(cell_transients_df=cell_transients_dataframe, auc_df=auc_dataframe)\n",
    "\n",
    "# We drop the first 600 frames (since FPS=20), and the first 30 seconds are not fit for analysis.\n",
    "drd87_day2_fe.cell_transients_df.drop(cell_transients_dataframe.index[:600], inplace=True)\n",
    "drd87_day2_fe.cell_transients_df.reset_index(drop=True, inplace=True)\n",
    "\n",
    "# Rename all the columns from \"neuron_x\" --> \"x\". This makes the graphs neater by making sure the neuron names fit into the nodes\n",
    "drd87_day2_fe.cell_transients_df.columns = [i for i in range(1, len(cell_transients_dataframe.columns)+1)]"
   ]
  },
  {
   "cell_type": "markdown",
   "metadata": {},
   "source": [
    "### Process the neuron signal data for DRD87 neurons on day 3"
   ]
  },
  {
   "cell_type": "code",
   "execution_count": 5,
   "metadata": {},
   "outputs": [
    {
     "name": "stderr",
     "output_type": "stream",
     "text": [
      "/Users/saveliyyusufov/Hen_Lab/analysis/analysis_utils.py:43: Warning:\n",
      "\n",
      "A behavior dataframe was not provided.\n",
      "\n"
     ]
    }
   ],
   "source": [
    "drd87_day3_raw = pd.read_csv(os.path.join(os.path.expanduser(\"~\"), \"Hen_Lab/Mice/CFC/DRD87/drd87_CSminus_Raw.csv\"), header=None)\n",
    "_, auc_dataframe, cell_transients_dataframe = sig_proc.detect_ca_transients_mossy(drd87_day3_raw, 2, 0.5, 0.2, 10)\n",
    "\n",
    "drd87_day3_fe = FeatureExtractor(cell_transients_df=cell_transients_dataframe, auc_df=auc_dataframe)\n",
    "\n",
    "# We drop the first 600 frames (since FPS=20), and the first 30 seconds are not fit for analysis.\n",
    "drd87_day3_fe.cell_transients_df.drop(cell_transients_dataframe.index[:600], inplace=True)\n",
    "drd87_day3_fe.cell_transients_df.reset_index(drop=True, inplace=True)\n",
    "\n",
    "# Rename all the columns from \"neuron_x\" --> \"x\". This makes the graphs neater by making sure the neuron names fit into the nodes\n",
    "drd87_day3_fe.cell_transients_df.columns = [i for i in range(1, len(cell_transients_dataframe.columns)+1)]"
   ]
  },
  {
   "cell_type": "code",
   "execution_count": 6,
   "metadata": {},
   "outputs": [],
   "source": [
    "import plotly\n",
    "import plotly.graph_objs as go\n",
    "\n",
    "def plot_network_measures(x, y, **kwargs):\n",
    "    trace1 = go.Bar(\n",
    "        x=x,\n",
    "        y=y,\n",
    "        text=y,\n",
    "        textposition = \"auto\",\n",
    "        name=kwargs.get(\"measure1\", \"1\"),\n",
    "        marker=dict(color=kwargs.get(\"color\", \"rgb(0, 255, 0)\")),\n",
    "        opacity=0.7\n",
    "    )\n",
    "    data = [trace1]\n",
    "    layout = go.Layout(\n",
    "        title = kwargs.get(\"title\", \"Graph Title Goes Here\"),\n",
    "    )\n",
    "    fig = go.Figure(data=data, layout=layout)\n",
    "    plotly.offline.iplot(fig)"
   ]
  },
  {
   "cell_type": "code",
   "execution_count": 7,
   "metadata": {},
   "outputs": [],
   "source": [
    "drd87_day1_graph = NeuronNetwork(drd87_day1_fe.cell_transients_df)\n",
    "drd87_day2_graph = NeuronNetwork(drd87_day2_fe.cell_transients_df)\n",
    "drd87_day3_graph = NeuronNetwork(drd87_day3_fe.cell_transients_df)"
   ]
  },
  {
   "cell_type": "code",
   "execution_count": 8,
   "metadata": {},
   "outputs": [
    {
     "data": {
      "application/vnd.plotly.v1+json": {
       "data": [
        {
         "marker": {
          "color": "rgb(0, 255, 0)"
         },
         "name": "1",
         "opacity": 0.7,
         "text": [
          0.05750350631136045,
          0.11508771929824561,
          0.05297297297297298
         ],
         "textposition": "auto",
         "type": "bar",
         "uid": "cd9e46",
         "x": [
          "Day 1",
          "Day 2",
          "Day 3"
         ],
         "y": [
          0.05750350631136045,
          0.11508771929824561,
          0.05297297297297298
         ]
        }
       ],
       "layout": {
        "autosize": true,
        "title": "DRD87 Mean Degree Centrality",
        "xaxis": {
         "autorange": true,
         "range": [
          -0.5,
          2.5
         ],
         "type": "category"
        },
        "yaxis": {
         "autorange": true,
         "range": [
          0,
          0.12114496768236381
         ],
         "type": "linear"
        }
       }
      }
     },
     "metadata": {},
     "output_type": "display_data"
    }
   ],
   "source": [
    "x = [\"Day 1\", \"Day 2\", \"Day 3\"]\n",
    "y = [drd87_day1_graph.mean_degree_centrality, drd87_day2_graph.mean_degree_centrality, drd87_day3_graph.mean_degree_centrality]\n",
    "plot_network_measures(x, y, title=\"DRD87 Mean Degree Centrality\")"
   ]
  },
  {
   "cell_type": "code",
   "execution_count": 9,
   "metadata": {},
   "outputs": [
    {
     "data": {
      "application/vnd.plotly.v1+json": {
       "data": [
        {
         "marker": {
          "color": "rgb(200,0,100)"
         },
         "name": "1",
         "opacity": 0.7,
         "text": [
          0.02124079753813274,
          0.021360834518729256,
          0.025990373935579417
         ],
         "textposition": "auto",
         "type": "bar",
         "uid": "2b7613",
         "x": [
          "Day 1",
          "Day 2",
          "Day 3"
         ],
         "y": [
          0.02124079753813274,
          0.021360834518729256,
          0.025990373935579417
         ]
        }
       ],
       "layout": {
        "autosize": true,
        "title": "DRD87 Mean Betweeness Centrality",
        "xaxis": {
         "autorange": true,
         "range": [
          -0.5,
          2.5
         ],
         "type": "category"
        },
        "yaxis": {
         "autorange": true,
         "range": [
          0,
          0.027358288353241493
         ],
         "type": "linear"
        }
       }
      }
     },
     "metadata": {},
     "output_type": "display_data"
    }
   ],
   "source": [
    "x = [\"Day 1\", \"Day 2\", \"Day 3\"]\n",
    "y = [drd87_day1_graph.mean_betw_centrality, drd87_day2_graph.mean_betw_centrality, drd87_day3_graph.mean_betw_centrality]\n",
    "plot_network_measures(x, y, title=\"DRD87 Mean Betweeness Centrality\", color=\"rgb(200,0,100)\")"
   ]
  },
  {
   "cell_type": "code",
   "execution_count": 10,
   "metadata": {},
   "outputs": [
    {
     "data": {
      "application/vnd.plotly.v1+json": {
       "data": [
        {
         "marker": {
          "color": "rgb(0,0,255)"
         },
         "name": "1",
         "opacity": 0.7,
         "text": [
          0.05750350631136045,
          0.11508771929824561,
          0.05297297297297297
         ],
         "textposition": "auto",
         "type": "bar",
         "uid": "4e4e1a",
         "x": [
          "Day 1",
          "Day 2",
          "Day 3"
         ],
         "y": [
          0.05750350631136045,
          0.11508771929824561,
          0.05297297297297297
         ]
        }
       ],
       "layout": {
        "autosize": true,
        "title": "DRD87 Connection Density",
        "xaxis": {
         "autorange": true,
         "range": [
          -0.5,
          2.5
         ],
         "type": "category"
        },
        "yaxis": {
         "autorange": true,
         "range": [
          0,
          0.12114496768236381
         ],
         "type": "linear"
        }
       }
      }
     },
     "metadata": {},
     "output_type": "display_data"
    }
   ],
   "source": [
    "x = [\"Day 1\", \"Day 2\", \"Day 3\"]\n",
    "y = [drd87_day1_graph.connection_density, drd87_day2_graph.connection_density, drd87_day3_graph.connection_density]\n",
    "plot_network_measures(x, y, title=\"DRD87 Connection Density\", color=\"rgb(0,0,255)\")"
   ]
  },
  {
   "cell_type": "code",
   "execution_count": 11,
   "metadata": {},
   "outputs": [
    {
     "data": {
      "application/vnd.plotly.v1+json": {
       "data": [
        {
         "marker": {
          "color": "rgb(200,0,0)"
         },
         "name": "1",
         "opacity": 0.7,
         "text": [
          0.2726625111997494,
          0.2854091548252803,
          0.2028072395454691
         ],
         "textposition": "auto",
         "type": "bar",
         "uid": "c35537",
         "x": [
          "Day 1",
          "Day 2",
          "Day 3"
         ],
         "y": [
          0.2726625111997494,
          0.2854091548252803,
          0.2028072395454691
         ]
        }
       ],
       "layout": {
        "autosize": true,
        "title": "DRD87 Average Clustering",
        "xaxis": {
         "autorange": true,
         "range": [
          -0.5,
          2.5
         ],
         "type": "category"
        },
        "yaxis": {
         "autorange": true,
         "range": [
          0,
          0.30043068928976874
         ],
         "type": "linear"
        }
       }
      }
     },
     "metadata": {},
     "output_type": "display_data"
    }
   ],
   "source": [
    "x = [\"Day 1\", \"Day 2\", \"Day 3\"]\n",
    "y = [drd87_day1_graph.clustering_coefficient, drd87_day2_graph.clustering_coefficient, drd87_day3_graph.clustering_coefficient]\n",
    "plot_network_measures(x, y, title=\"DRD87 Average Clustering\", color=\"rgb(200,0,0)\")"
   ]
  },
  {
   "cell_type": "code",
   "execution_count": 12,
   "metadata": {},
   "outputs": [
    {
     "data": {
      "application/vnd.plotly.v1+json": {
       "data": [
        {
         "marker": {
          "color": "rgb(0,200,100)"
         },
         "name": "1",
         "opacity": 0.7,
         "text": [
          2.7872062663185377,
          4.386241810601549,
          2.585253456221198
         ],
         "textposition": "auto",
         "type": "bar",
         "uid": "554e49",
         "x": [
          "Day 1",
          "Day 2",
          "Day 3"
         ],
         "y": [
          2.7872062663185377,
          4.386241810601549,
          2.585253456221198
         ]
        }
       ],
       "layout": {
        "autosize": true,
        "title": "DRD87 Mean Clique Size",
        "xaxis": {
         "autorange": true,
         "range": [
          -0.5,
          2.5
         ],
         "type": "category"
        },
        "yaxis": {
         "autorange": true,
         "range": [
          0,
          4.617096642738472
         ],
         "type": "linear"
        }
       }
      }
     },
     "metadata": {},
     "output_type": "display_data"
    }
   ],
   "source": [
    "x = [\"Day 1\", \"Day 2\", \"Day 3\"]\n",
    "y = [drd87_day1_graph.mean_clique_size, drd87_day2_graph.mean_clique_size, drd87_day3_graph.mean_clique_size]\n",
    "plot_network_measures(x, y, title=\"DRD87 Mean Clique Size\", color=\"rgb(0,200,100)\")"
   ]
  },
  {
   "cell_type": "code",
   "execution_count": 13,
   "metadata": {},
   "outputs": [
    {
     "data": {
      "application/vnd.plotly.v1+json": {
       "data": [
        {
         "marker": {
          "color": "rgb(0, 255, 0)"
         },
         "name": "1",
         "opacity": 0.7,
         "text": [
          6,
          8,
          6
         ],
         "textposition": "auto",
         "type": "bar",
         "uid": "7d2c68",
         "x": [
          "Day 1",
          "Day 2",
          "Day 3"
         ],
         "y": [
          6,
          8,
          6
         ]
        }
       ],
       "layout": {
        "autosize": true,
        "title": "DRD87 Max Clique Size",
        "xaxis": {
         "autorange": true,
         "range": [
          -0.5,
          2.5
         ],
         "type": "category"
        },
        "yaxis": {
         "autorange": true,
         "range": [
          0,
          8.421052631578947
         ],
         "type": "linear"
        }
       }
      }
     },
     "metadata": {},
     "output_type": "display_data"
    }
   ],
   "source": [
    "x = [\"Day 1\", \"Day 2\", \"Day 3\"]\n",
    "y = [drd87_day1_graph.max_clique_size, drd87_day2_graph.max_clique_size, drd87_day3_graph.max_clique_size]\n",
    "plot_network_measures(x, y, title=\"DRD87 Max Clique Size\")"
   ]
  },
  {
   "cell_type": "code",
   "execution_count": 14,
   "metadata": {},
   "outputs": [
    {
     "data": {
      "application/vnd.plotly.v1+json": {
       "data": [
        {
         "marker": {
          "color": "rgb(100,0,100)"
         },
         "name": "1",
         "opacity": 0.7,
         "text": [
          0.29632505175983515,
          0.4034519632414353,
          0.23343414843415045
         ],
         "textposition": "auto",
         "type": "bar",
         "uid": "5a7c67",
         "x": [
          "Day 1",
          "Day 2",
          "Day 3"
         ],
         "y": [
          0.29632505175983515,
          0.4034519632414353,
          0.23343414843415045
         ]
        }
       ],
       "layout": {
        "autosize": true,
        "title": "DRD87 Global Efficiency",
        "xaxis": {
         "autorange": true,
         "range": [
          -0.5,
          2.5
         ],
         "type": "category"
        },
        "yaxis": {
         "autorange": true,
         "range": [
          0,
          0.4246862770962477
         ],
         "type": "linear"
        }
       }
      }
     },
     "metadata": {},
     "output_type": "display_data"
    }
   ],
   "source": [
    "x = [\"Day 1\", \"Day 2\", \"Day 3\"]\n",
    "y = [drd87_day1_graph.global_efficiency, drd87_day2_graph.global_efficiency, drd87_day3_graph.global_efficiency]\n",
    "plot_network_measures(x, y, title=\"DRD87 Global Efficiency\", color=\"rgb(100,0,100)\")"
   ]
  },
  {
   "cell_type": "code",
   "execution_count": 15,
   "metadata": {},
   "outputs": [],
   "source": [
    "def compute_avg_shortest_path_len(graph):\n",
    "    shortest_path_lengths = list()\n",
    "    node_list = list(graph.nodes)\n",
    "    \n",
    "    for i in range(0, len(node_list)):\n",
    "        for j in range(i+1, len(node_list)):\n",
    "            source = node_list[i]\n",
    "            target = node_list[j]\n",
    "            if not nx.has_path(graph, source, target):\n",
    "                continue\n",
    "\n",
    "            shortest_path_lengths.append(nx.shortest_path_length(graph, source=source, target=target, weight=\"weight\"))\n",
    "    \n",
    "    return np.mean(shortest_path_lengths)"
   ]
  },
  {
   "cell_type": "code",
   "execution_count": 16,
   "metadata": {},
   "outputs": [
    {
     "data": {
      "application/vnd.plotly.v1+json": {
       "data": [
        {
         "marker": {
          "color": "rgb(100,0,100)"
         },
         "name": "1",
         "opacity": 0.7,
         "text": [
          0.21324243609547397,
          0.27306574964221614,
          0.13399626316832555
         ],
         "textposition": "auto",
         "type": "bar",
         "uid": "5e4030",
         "x": [
          "Day 1",
          "Day 2",
          "Day 3"
         ],
         "y": [
          0.21324243609547397,
          0.27306574964221614,
          0.13399626316832555
         ]
        }
       ],
       "layout": {
        "autosize": true,
        "title": "DRD87 'Small Worldness'",
        "xaxis": {
         "autorange": true,
         "range": [
          -0.5,
          2.5
         ],
         "type": "category"
        },
        "yaxis": {
         "autorange": true,
         "range": [
          0,
          0.2874376312023328
         ],
         "type": "linear"
        }
       }
      }
     },
     "metadata": {},
     "output_type": "display_data"
    }
   ],
   "source": [
    "day1_small_worldness = drd87_day1_graph.clustering_coefficient / compute_avg_shortest_path_len(drd87_day1_graph.network)\n",
    "day2_small_worldness = drd87_day2_graph.clustering_coefficient / compute_avg_shortest_path_len(drd87_day2_graph.network)\n",
    "day3_small_worldness = drd87_day3_graph.clustering_coefficient / compute_avg_shortest_path_len(drd87_day3_graph.network)\n",
    "\n",
    "x = [\"Day 1\", \"Day 2\", \"Day 3\"]\n",
    "y = [day1_small_worldness, day2_small_worldness, day3_small_worldness]\n",
    "plot_network_measures(x, y, title=\"DRD87 'Small Worldness'\", color=\"rgb(100,0,100)\")"
   ]
  }
 ],
 "metadata": {
  "kernelspec": {
   "display_name": "Python 3",
   "language": "python",
   "name": "python3"
  },
  "language_info": {
   "codemirror_mode": {
    "name": "ipython",
    "version": 3
   },
   "file_extension": ".py",
   "mimetype": "text/x-python",
   "name": "python",
   "nbconvert_exporter": "python",
   "pygments_lexer": "ipython3",
   "version": "3.6.5"
  }
 },
 "nbformat": 4,
 "nbformat_minor": 2
}
