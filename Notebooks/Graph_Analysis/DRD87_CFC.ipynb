{
 "cells": [
  {
   "cell_type": "markdown",
   "metadata": {},
   "source": [
    "# Graph Theoretical Analysis of data collected during Contextual Fear Conditioning (CFC) experiment on DRD87"
   ]
  },
  {
   "cell_type": "code",
   "execution_count": 1,
   "metadata": {},
   "outputs": [],
   "source": [
    "# Bring packages onto the same path as this notebook\n",
    "import os\n",
    "import sys\n",
    "sys.path.append(os.path.abspath(os.path.join(\"..\", \"..\")))\n",
    "\n",
    "import pandas as pd\n",
    "import networkx as nx\n",
    "import numpy as np\n",
    "from analysis.sig_proc import Deconvoluter\n",
    "from analysis.graph_analysis_utils import NeuronNetwork\n",
    "from analysis.analysis_utils import FeatureExtractor\n",
    "from IPython.core.interactiveshell import InteractiveShell"
   ]
  },
  {
   "cell_type": "code",
   "execution_count": 2,
   "metadata": {},
   "outputs": [],
   "source": [
    "InteractiveShell.ast_node_interactivity = \"all\"\n",
    "%matplotlib inline"
   ]
  },
  {
   "cell_type": "markdown",
   "metadata": {},
   "source": [
    "### Process the neuron signal data for DRD87 neurons on day 1"
   ]
  },
  {
   "cell_type": "code",
   "execution_count": 3,
   "metadata": {},
   "outputs": [
    {
     "name": "stderr",
     "output_type": "stream",
     "text": [
      "/Users/saveliyyusufov/Hen_Lab/analysis/analysis_utils.py:46: Warning:\n",
      "\n",
      "A behavior dataframe was not provided.\n",
      "\n"
     ]
    }
   ],
   "source": [
    "drd87_day1_raw = pd.read_csv(os.path.join(os.path.expanduser(\"~\"), \"Hen_Lab/Mice/CFC/DRD87/drd87_encode_Raw.csv\"), header=None)\n",
    "deconvoluter = Deconvoluter(drd87_day1_raw)\n",
    "\n",
    "# Reindex the neuron column vectors from 0, 1, 2, ..., n --> 1, 2, 3, ..., n, n+1\n",
    "deconvoluter.cell_transients.columns = [col+1 for col in deconvoluter.cell_transients.columns]\n",
    "deconvoluter.cell_auc_df.columns = [col+1 for col in deconvoluter.cell_auc_df.columns]\n",
    "\n",
    "drd87_day1 = FeatureExtractor(cell_transients_df=deconvoluter.cell_transients, auc_df=deconvoluter.cell_auc_df)\n",
    "\n",
    "# We drop the first 600 frames (since FPS=20), and the first 30 seconds are not fit for analysis.\n",
    "drd87_day1.cell_transients_df.drop(deconvoluter.cell_transients.index[:600], inplace=True)\n",
    "drd87_day1.auc_df.drop(deconvoluter.cell_transients.index[:600], inplace=True)\n",
    "drd87_day1.cell_transients_df.reset_index(drop=True, inplace=True)\n",
    "drd87_day1.auc_df.reset_index(drop=True, inplace=True)\n",
    "\n",
    "# Convert auc dataframe to boolean matrix, where spikes is a 1 and no spike is a 0\n",
    "drd87_day1.auc_df = drd87_day1.auc_df.where(drd87_day1.auc_df == 0, 1)"
   ]
  },
  {
   "cell_type": "markdown",
   "metadata": {},
   "source": [
    "### Process the neuron signal data for DRD87 neurons on day 2"
   ]
  },
  {
   "cell_type": "code",
   "execution_count": 4,
   "metadata": {},
   "outputs": [
    {
     "name": "stderr",
     "output_type": "stream",
     "text": [
      "/Users/saveliyyusufov/Hen_Lab/analysis/analysis_utils.py:46: Warning:\n",
      "\n",
      "A behavior dataframe was not provided.\n",
      "\n"
     ]
    }
   ],
   "source": [
    "drd87_day2_raw = pd.read_csv(os.path.join(os.path.expanduser(\"~\"), \"Hen_Lab/Mice/CFC/DRD87/drd87_CSplus_Raw.csv\"), header=None)\n",
    "deconvoluter = Deconvoluter(drd87_day2_raw)\n",
    "\n",
    "# Reindex the neuron column vectors from 0, 1, 2, ..., n --> 1, 2, 3, ..., n, n+1\n",
    "deconvoluter.cell_transients.columns = [col+1 for col in deconvoluter.cell_transients.columns]\n",
    "deconvoluter.cell_auc_df.columns = [col+1 for col in deconvoluter.cell_auc_df.columns]\n",
    "\n",
    "drd87_day2 = FeatureExtractor(cell_transients_df=deconvoluter.cell_transients, auc_df=deconvoluter.cell_auc_df)\n",
    "\n",
    "# We drop the first 600 frames (since FPS=20), and the first 30 seconds are not fit for analysis.\n",
    "drd87_day2.cell_transients_df.drop(deconvoluter.cell_transients.index[:600], inplace=True)\n",
    "drd87_day2.auc_df.drop(deconvoluter.cell_transients.index[:600], inplace=True)\n",
    "drd87_day2.cell_transients_df.reset_index(drop=True, inplace=True)\n",
    "drd87_day2.auc_df.reset_index(drop=True, inplace=True)\n",
    "\n",
    "# Convert auc dataframe to boolean matrix, where spikes is a 1 and no spike is a 0\n",
    "drd87_day2.auc_df = drd87_day2.auc_df.where(drd87_day2.auc_df == 0, 1)"
   ]
  },
  {
   "cell_type": "markdown",
   "metadata": {},
   "source": [
    "### Process the neuron signal data for DRD87 neurons on day 3"
   ]
  },
  {
   "cell_type": "code",
   "execution_count": 5,
   "metadata": {},
   "outputs": [
    {
     "name": "stderr",
     "output_type": "stream",
     "text": [
      "/Users/saveliyyusufov/Hen_Lab/analysis/analysis_utils.py:46: Warning:\n",
      "\n",
      "A behavior dataframe was not provided.\n",
      "\n"
     ]
    }
   ],
   "source": [
    "drd87_day3_raw = pd.read_csv(os.path.join(os.path.expanduser(\"~\"), \"Hen_Lab/Mice/CFC/DRD87/drd87_CSminus_Raw.csv\"), header=None)\n",
    "deconvoluter = Deconvoluter(drd87_day3_raw)\n",
    "\n",
    "# Reindex the neuron column vectors from 0, 1, 2, ..., n --> 1, 2, 3, ..., n, n+1\n",
    "deconvoluter.cell_transients.columns = [col+1 for col in deconvoluter.cell_transients.columns]\n",
    "deconvoluter.cell_auc_df.columns = [col+1 for col in deconvoluter.cell_auc_df.columns]\n",
    "\n",
    "drd87_day3 = FeatureExtractor(cell_transients_df=deconvoluter.cell_transients, auc_df=deconvoluter.cell_auc_df)\n",
    "\n",
    "# We drop the first 600 frames (since FPS=20), and the first 30 seconds are not fit for analysis.\n",
    "drd87_day3.cell_transients_df.drop(deconvoluter.cell_transients.index[:600], inplace=True)\n",
    "drd87_day3.auc_df.drop(deconvoluter.cell_transients.index[:600], inplace=True)\n",
    "drd87_day3.cell_transients_df.reset_index(drop=True, inplace=True)\n",
    "drd87_day3.auc_df.reset_index(drop=True, inplace=True)\n",
    "\n",
    "# Convert auc dataframe to boolean matrix, where spikes is a 1 and no spike is a 0\n",
    "drd87_day3.auc_df = drd87_day3.auc_df.where(drd87_day3.auc_df == 0, 1)"
   ]
  },
  {
   "cell_type": "code",
   "execution_count": 6,
   "metadata": {},
   "outputs": [],
   "source": [
    "import plotly\n",
    "import plotly.graph_objs as go\n",
    "\n",
    "def plot_network_measures(x, y, **kwargs):\n",
    "    trace1 = go.Bar(\n",
    "        x=x,\n",
    "        y=y,\n",
    "        text=y,\n",
    "        textposition = \"auto\",\n",
    "        name=kwargs.get(\"measure1\", \"1\"),\n",
    "        marker=dict(color=kwargs.get(\"color\", \"rgb(0, 255, 0)\")),\n",
    "        opacity=0.7\n",
    "    )\n",
    "    data = [trace1]\n",
    "    layout = go.Layout(\n",
    "        title = kwargs.get(\"title\", \"Graph Title Goes Here\"),\n",
    "    )\n",
    "    fig = go.Figure(data=data, layout=layout)\n",
    "    plotly.offline.iplot(fig)"
   ]
  },
  {
   "cell_type": "code",
   "execution_count": 7,
   "metadata": {},
   "outputs": [],
   "source": [
    "drd87_day1_graph = NeuronNetwork(drd87_day1.auc_df)\n",
    "drd87_day2_graph = NeuronNetwork(drd87_day2.auc_df)\n",
    "drd87_day3_graph = NeuronNetwork(drd87_day3.auc_df)"
   ]
  },
  {
   "cell_type": "code",
   "execution_count": 8,
   "metadata": {},
   "outputs": [
    {
     "data": {
      "application/vnd.plotly.v1+json": {
       "data": [
        {
         "marker": {
          "color": "rgb(0, 255, 0)"
         },
         "name": "1",
         "opacity": 0.7,
         "text": [
          0.031323048153342685,
          0.06947368421052631,
          0.024864864864864864
         ],
         "textposition": "auto",
         "type": "bar",
         "uid": "8004ba",
         "x": [
          "Day 1",
          "Day 2",
          "Day 3"
         ],
         "y": [
          0.031323048153342685,
          0.06947368421052631,
          0.024864864864864864
         ]
        }
       ],
       "layout": {
        "autosize": true,
        "title": "DRD87 Mean Degree Centrality",
        "xaxis": {
         "autorange": true,
         "range": [
          -0.5,
          2.5
         ],
         "type": "category"
        },
        "yaxis": {
         "autorange": true,
         "range": [
          0,
          0.07313019390581717
         ],
         "type": "linear"
        }
       }
      }
     },
     "metadata": {},
     "output_type": "display_data"
    }
   ],
   "source": [
    "x = [\"Day 1\", \"Day 2\", \"Day 3\"]\n",
    "y = [drd87_day1_graph.mean_degree_centrality, drd87_day2_graph.mean_degree_centrality, drd87_day3_graph.mean_degree_centrality]\n",
    "plot_network_measures(x, y, title=\"DRD87 Mean Degree Centrality\")"
   ]
  },
  {
   "cell_type": "code",
   "execution_count": 9,
   "metadata": {},
   "outputs": [
    {
     "data": {
      "application/vnd.plotly.v1+json": {
       "data": [
        {
         "marker": {
          "color": "rgb(200,0,100)"
         },
         "name": "1",
         "opacity": 0.7,
         "text": [
          0.02275120858571069,
          0.029052078394183656,
          0.026602492903862764
         ],
         "textposition": "auto",
         "type": "bar",
         "uid": "335bb8",
         "x": [
          "Day 1",
          "Day 2",
          "Day 3"
         ],
         "y": [
          0.02275120858571069,
          0.029052078394183656,
          0.026602492903862764
         ]
        }
       ],
       "layout": {
        "autosize": true,
        "title": "DRD87 Mean Betweeness Centrality",
        "xaxis": {
         "autorange": true,
         "range": [
          -0.5,
          2.5
         ],
         "type": "category"
        },
        "yaxis": {
         "autorange": true,
         "range": [
          0,
          0.03058113515177227
         ],
         "type": "linear"
        }
       }
      }
     },
     "metadata": {},
     "output_type": "display_data"
    }
   ],
   "source": [
    "x = [\"Day 1\", \"Day 2\", \"Day 3\"]\n",
    "y = [drd87_day1_graph.mean_betw_centrality, drd87_day2_graph.mean_betw_centrality, drd87_day3_graph.mean_betw_centrality]\n",
    "plot_network_measures(x, y, title=\"DRD87 Mean Betweeness Centrality\", color=\"rgb(200,0,100)\")"
   ]
  },
  {
   "cell_type": "code",
   "execution_count": 10,
   "metadata": {},
   "outputs": [
    {
     "data": {
      "application/vnd.plotly.v1+json": {
       "data": [
        {
         "marker": {
          "color": "rgb(0,0,255)"
         },
         "name": "1",
         "opacity": 0.7,
         "text": [
          0.031323048153342685,
          0.06947368421052631,
          0.024864864864864864
         ],
         "textposition": "auto",
         "type": "bar",
         "uid": "36846c",
         "x": [
          "Day 1",
          "Day 2",
          "Day 3"
         ],
         "y": [
          0.031323048153342685,
          0.06947368421052631,
          0.024864864864864864
         ]
        }
       ],
       "layout": {
        "autosize": true,
        "title": "DRD87 Connection Density",
        "xaxis": {
         "autorange": true,
         "range": [
          -0.5,
          2.5
         ],
         "type": "category"
        },
        "yaxis": {
         "autorange": true,
         "range": [
          0,
          0.07313019390581717
         ],
         "type": "linear"
        }
       }
      }
     },
     "metadata": {},
     "output_type": "display_data"
    }
   ],
   "source": [
    "x = [\"Day 1\", \"Day 2\", \"Day 3\"]\n",
    "y = [drd87_day1_graph.connection_density, drd87_day2_graph.connection_density, drd87_day3_graph.connection_density]\n",
    "plot_network_measures(x, y, title=\"DRD87 Connection Density\", color=\"rgb(0,0,255)\")"
   ]
  },
  {
   "cell_type": "code",
   "execution_count": 11,
   "metadata": {},
   "outputs": [
    {
     "data": {
      "application/vnd.plotly.v1+json": {
       "data": [
        {
         "marker": {
          "color": "rgb(200,0,0)"
         },
         "name": "1",
         "opacity": 0.7,
         "text": [
          0.05391910561055552,
          0.074127392792376,
          0.0577344547562355
         ],
         "textposition": "auto",
         "type": "bar",
         "uid": "1b9f36",
         "x": [
          "Day 1",
          "Day 2",
          "Day 3"
         ],
         "y": [
          0.05391910561055552,
          0.074127392792376,
          0.0577344547562355
         ]
        }
       ],
       "layout": {
        "autosize": true,
        "title": "DRD87 Average Clustering",
        "xaxis": {
         "autorange": true,
         "range": [
          -0.5,
          2.5
         ],
         "type": "category"
        },
        "yaxis": {
         "autorange": true,
         "range": [
          0,
          0.07802883451829053
         ],
         "type": "linear"
        }
       }
      }
     },
     "metadata": {},
     "output_type": "display_data"
    }
   ],
   "source": [
    "x = [\"Day 1\", \"Day 2\", \"Day 3\"]\n",
    "y = [drd87_day1_graph.clustering_coefficient, drd87_day2_graph.clustering_coefficient, drd87_day3_graph.clustering_coefficient]\n",
    "plot_network_measures(x, y, title=\"DRD87 Average Clustering\", color=\"rgb(200,0,0)\")"
   ]
  },
  {
   "cell_type": "code",
   "execution_count": 12,
   "metadata": {},
   "outputs": [
    {
     "data": {
      "application/vnd.plotly.v1+json": {
       "data": [
        {
         "marker": {
          "color": "rgb(0,200,100)"
         },
         "name": "1",
         "opacity": 0.7,
         "text": [
          1.7480314960629921,
          2.261904761904762,
          1.6687116564417177
         ],
         "textposition": "auto",
         "type": "bar",
         "uid": "d2b694",
         "x": [
          "Day 1",
          "Day 2",
          "Day 3"
         ],
         "y": [
          1.7480314960629921,
          2.261904761904762,
          1.6687116564417177
         ]
        }
       ],
       "layout": {
        "autosize": true,
        "title": "DRD87 Mean Clique Size",
        "xaxis": {
         "autorange": true,
         "range": [
          -0.5,
          2.5
         ],
         "type": "category"
        },
        "yaxis": {
         "autorange": true,
         "range": [
          0,
          2.380952380952381
         ],
         "type": "linear"
        }
       }
      }
     },
     "metadata": {},
     "output_type": "display_data"
    }
   ],
   "source": [
    "x = [\"Day 1\", \"Day 2\", \"Day 3\"]\n",
    "y = [drd87_day1_graph.mean_clique_size, drd87_day2_graph.mean_clique_size, drd87_day3_graph.mean_clique_size]\n",
    "plot_network_measures(x, y, title=\"DRD87 Mean Clique Size\", color=\"rgb(0,200,100)\")"
   ]
  },
  {
   "cell_type": "code",
   "execution_count": 13,
   "metadata": {},
   "outputs": [
    {
     "data": {
      "application/vnd.plotly.v1+json": {
       "data": [
        {
         "marker": {
          "color": "rgb(0, 255, 0)"
         },
         "name": "1",
         "opacity": 0.7,
         "text": [
          4,
          5,
          3
         ],
         "textposition": "auto",
         "type": "bar",
         "uid": "8e9eb7",
         "x": [
          "Day 1",
          "Day 2",
          "Day 3"
         ],
         "y": [
          4,
          5,
          3
         ]
        }
       ],
       "layout": {
        "autosize": true,
        "title": "DRD87 Max Clique Size",
        "xaxis": {
         "autorange": true,
         "range": [
          -0.5,
          2.5
         ],
         "type": "category"
        },
        "yaxis": {
         "autorange": true,
         "range": [
          0,
          5.2631578947368425
         ],
         "type": "linear"
        }
       }
      }
     },
     "metadata": {},
     "output_type": "display_data"
    }
   ],
   "source": [
    "x = [\"Day 1\", \"Day 2\", \"Day 3\"]\n",
    "y = [drd87_day1_graph.max_clique_size, drd87_day2_graph.max_clique_size, drd87_day3_graph.max_clique_size]\n",
    "plot_network_measures(x, y, title=\"DRD87 Max Clique Size\")"
   ]
  },
  {
   "cell_type": "code",
   "execution_count": 14,
   "metadata": {},
   "outputs": [
    {
     "data": {
      "application/vnd.plotly.v1+json": {
       "data": [
        {
         "marker": {
          "color": "rgb(100,0,100)"
         },
         "name": "1",
         "opacity": 0.7,
         "text": [
          0.21370605979652438,
          0.37491562238929954,
          0.0862566182566178
         ],
         "textposition": "auto",
         "type": "bar",
         "uid": "efc1c4",
         "x": [
          "Day 1",
          "Day 2",
          "Day 3"
         ],
         "y": [
          0.21370605979652438,
          0.37491562238929954,
          0.0862566182566178
         ]
        }
       ],
       "layout": {
        "autosize": true,
        "title": "DRD87 Global Efficiency",
        "xaxis": {
         "autorange": true,
         "range": [
          -0.5,
          2.5
         ],
         "type": "category"
        },
        "yaxis": {
         "autorange": true,
         "range": [
          0,
          0.39464802356768375
         ],
         "type": "linear"
        }
       }
      }
     },
     "metadata": {},
     "output_type": "display_data"
    }
   ],
   "source": [
    "x = [\"Day 1\", \"Day 2\", \"Day 3\"]\n",
    "y = [drd87_day1_graph.global_efficiency, drd87_day2_graph.global_efficiency, drd87_day3_graph.global_efficiency]\n",
    "plot_network_measures(x, y, title=\"DRD87 Global Efficiency\", color=\"rgb(100,0,100)\")"
   ]
  },
  {
   "cell_type": "code",
   "execution_count": 15,
   "metadata": {},
   "outputs": [
    {
     "data": {
      "application/vnd.plotly.v1+json": {
       "data": [
        {
         "marker": {
          "color": "rgb(100,0,100)"
         },
         "name": "1",
         "opacity": 0.7,
         "text": [
          0.10257027477290429,
          0.2006494843235031,
          0.05571567395011718
         ],
         "textposition": "auto",
         "type": "bar",
         "uid": "4003d4",
         "x": [
          "Day 1",
          "Day 2",
          "Day 3"
         ],
         "y": [
          0.10257027477290429,
          0.2006494843235031,
          0.05571567395011718
         ]
        }
       ],
       "layout": {
        "autosize": true,
        "title": "DRD87 'Small Worldness'",
        "xaxis": {
         "autorange": true,
         "range": [
          -0.5,
          2.5
         ],
         "type": "category"
        },
        "yaxis": {
         "autorange": true,
         "range": [
          0,
          0.21120998349842432
         ],
         "type": "linear"
        }
       }
      }
     },
     "metadata": {},
     "output_type": "display_data"
    }
   ],
   "source": [
    "x = [\"Day 1\", \"Day 2\", \"Day 3\"]\n",
    "y = [drd87_day1_graph.small_worldness, drd87_day2_graph.small_worldness, drd87_day3_graph.small_worldness]\n",
    "plot_network_measures(x, y, title=\"DRD87 'Small Worldness'\", color=\"rgb(100,0,100)\")"
   ]
  },
  {
   "cell_type": "code",
   "execution_count": 16,
   "metadata": {},
   "outputs": [
    {
     "name": "stderr",
     "output_type": "stream",
     "text": [
      "/anaconda3/envs/henlabenv/lib/python3.6/site-packages/matplotlib/axes/_axes.py:6462: UserWarning:\n",
      "\n",
      "The 'normed' kwarg is deprecated, and has been replaced by the 'density' kwarg.\n",
      "\n"
     ]
    },
    {
     "data": {
      "image/png": "[encoded data removed]",
      "text/plain": [
       "<Figure size 576x288 with 1 Axes>"
      ]
     },
     "metadata": {},
     "output_type": "display_data"
    }
   ],
   "source": [
    "import seaborn as sns\n",
    "from scipy import stats\n",
    "\n",
    "sns.set(rc={\"figure.figsize\": (8, 4)})\n",
    "sns.distplot(list(dict(drd87_day1_graph.network.degree()).values()), color=\"blue\");"
   ]
  },
  {
   "cell_type": "code",
   "execution_count": 17,
   "metadata": {},
   "outputs": [
    {
     "name": "stderr",
     "output_type": "stream",
     "text": [
      "/anaconda3/envs/henlabenv/lib/python3.6/site-packages/matplotlib/axes/_axes.py:6462: UserWarning:\n",
      "\n",
      "The 'normed' kwarg is deprecated, and has been replaced by the 'density' kwarg.\n",
      "\n"
     ]
    },
    {
     "data": {
      "image/png": "[encoded data removed]",
      "text/plain": [
       "<Figure size 576x288 with 1 Axes>"
      ]
     },
     "metadata": {},
     "output_type": "display_data"
    }
   ],
   "source": [
    "sns.set(rc={\"figure.figsize\": (8, 4)})\n",
    "sns.distplot(list(dict(drd87_day2_graph.network.degree()).values()), color=\"red\", fit=stats.powerlaw);"
   ]
  },
  {
   "cell_type": "code",
   "execution_count": 18,
   "metadata": {},
   "outputs": [
    {
     "name": "stderr",
     "output_type": "stream",
     "text": [
      "/anaconda3/envs/henlabenv/lib/python3.6/site-packages/matplotlib/axes/_axes.py:6462: UserWarning:\n",
      "\n",
      "The 'normed' kwarg is deprecated, and has been replaced by the 'density' kwarg.\n",
      "\n"
     ]
    },
    {
     "data": {
      "image/png": "[encoded data removed]",
      "text/plain": [
       "<Figure size 576x288 with 1 Axes>"
      ]
     },
     "metadata": {},
     "output_type": "display_data"
    }
   ],
   "source": [
    "sns.set(rc={\"figure.figsize\": (8, 4)})\n",
    "sns.distplot(list(dict(drd87_day3_graph.network.degree()).values()), color=\"purple\", fit=stats.powerlaw);"
   ]
  }
 ],
 "metadata": {
  "kernelspec": {
   "display_name": "Python 3",
   "language": "python",
   "name": "python3"
  },
  "language_info": {
   "codemirror_mode": {
    "name": "ipython",
    "version": 3
   },
   "file_extension": ".py",
   "mimetype": "text/x-python",
   "name": "python",
   "nbconvert_exporter": "python",
   "pygments_lexer": "ipython3",
   "version": "3.6.6"
  }
 },
 "nbformat": 4,
 "nbformat_minor": 2
}
