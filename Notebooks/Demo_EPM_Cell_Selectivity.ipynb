{
 "cells": [
  {
   "cell_type": "markdown",
   "metadata": {},
   "source": [
    "# *Official* Analysis of Cell Selectivity for Elevated Plus Maze (EPM).\n",
    "\n",
    "#### *Note: Do not add \"experimental\" code/analysis to this notebook.*"
   ]
  },
  {
   "cell_type": "code",
   "execution_count": 1,
   "metadata": {},
   "outputs": [],
   "source": [
    "import os\n",
    "import pandas as pd\n",
    "import networkx as nx\n",
    "import numpy as np\n",
    "import seaborn as sns\n",
    "import SigProc\n",
    "from analysis.graph_analysis_utils import NeuronNetwork\n",
    "from analysis.analysis_utils import FeatureExtractor\n",
    "from scipy import stats\n",
    "from IPython.core.interactiveshell import InteractiveShell"
   ]
  },
  {
   "cell_type": "code",
   "execution_count": 2,
   "metadata": {},
   "outputs": [],
   "source": [
    "%matplotlib inline\n",
    "InteractiveShell.ast_node_interactivity = \"all\""
   ]
  },
  {
   "cell_type": "code",
   "execution_count": 3,
   "metadata": {},
   "outputs": [
    {
     "name": "stdout",
     "output_type": "stream",
     "text": [
      "0. full path of: behavior_drd87.csv is: /Users/saveliyyusufov/Hen_Lab/Mice/EPM/drd87/behavior_drd87.csv\n",
      "1. full path of: Raw_EPM_drd87.csv is: /Users/saveliyyusufov/Hen_Lab/Mice/EPM/drd87/Raw_EPM_drd87.csv\n",
      "2. full path of: Raw_EPM2_drd87.csv is: /Users/saveliyyusufov/Hen_Lab/Mice/EPM/drd87/Raw_EPM2_drd87.csv\n",
      "3. full path of: Raw_EPM_drd73.csv is: /Users/saveliyyusufov/Hen_Lab/Mice/EPM/drd73/Raw_EPM_drd73.csv\n",
      "4. full path of: behavior_drd73.csv is: /Users/saveliyyusufov/Hen_Lab/Mice/EPM/drd73/behavior_drd73.csv\n",
      "5. full path of: Raw_EPM_drd77.csv is: /Users/saveliyyusufov/Hen_Lab/Mice/EPM/drd77/Raw_EPM_drd77.csv\n",
      "6. full path of: behavior_drd77.csv is: /Users/saveliyyusufov/Hen_Lab/Mice/EPM/drd77/behavior_drd77.csv\n",
      "7. full path of: behavior_drd46.csv is: /Users/saveliyyusufov/Hen_Lab/Mice/EPM/drd46/behavior_drd46.csv\n",
      "8. full path of: Raw_EPM_drd46.csv is: /Users/saveliyyusufov/Hen_Lab/Mice/EPM/drd46/Raw_EPM_drd46.csv\n"
     ]
    }
   ],
   "source": [
    "mouse_directory = os.path.join(os.path.expanduser(\"~\"), \"Hen_Lab/Mice/EPM\")\n",
    "\n",
    "if not os.path.exists(mouse_directory):\n",
    "    print(\"The mouse directory does not exist\", file=sys.stderr)\n",
    "\n",
    "file_num = 0\n",
    "raw_files = list()\n",
    "for dir_name, subdir_list, file_list in os.walk(mouse_directory):\n",
    "    for file_name in file_list:\n",
    "        if file_name.endswith(\".csv\"):\n",
    "            print(\"{}. full path of: {} is: {}\".format(file_num, file_name, os.path.join(dir_name, file_name)))\n",
    "            file_num += 1\n",
    "            raw_files.append(os.path.join(dir_name, file_name))"
   ]
  },
  {
   "cell_type": "markdown",
   "metadata": {},
   "source": [
    "## Import the csv of raw neuron signal data into a pandas DataFrame, and run the data through the Dombeck 2007 signal rocessing algorithm.\n",
    "\n",
    "##### Note: Recall that the raw neuron signal data for DRD77 and DRD73 must be downsampled by $2$."
   ]
  },
  {
   "cell_type": "code",
   "execution_count": 4,
   "metadata": {
    "scrolled": false
   },
   "outputs": [
    {
     "name": "stderr",
     "output_type": "stream",
     "text": [
      "/Users/saveliyyusufov/Hen_Lab/analysis/analysis_utils.py:26: Warning:\n",
      "\n",
      "Row multiple to downsample behavior dataframe not specified. Behavior dataframe will be downsampled by a row multiple of 3\n",
      "\n"
     ]
    }
   ],
   "source": [
    "drd87_data = pd.read_csv(raw_files[2], header=None)\n",
    "_, auc_dataframe, cell_transients_dataframe = SigProc.detect_ca_transients_mossy(drd87_data, 2, 0.5, 0.2, 10)\n",
    "\n",
    "beh_cols = [\n",
    "    \"Trial_time\", \"Recording_time\", \"X_center\", \"Y_center\", \"Area\", \"Areachange\", \"Elongation\", \"Distance_moved\", \"Velocity\", \"Arena_centerpoint\", \n",
    "    \"Open1_centerpoint\", \"Open2_centerpoint\", \"Closed1_centerpoint\", \"Closed2_centerpoint\", \"OpenArms_centerpoint\", \"ClosedArms_centerpoint\", \"Result_1\"\n",
    "]\n",
    "\n",
    "behavior_df = pd.read_csv(raw_files[0], header=None)\n",
    "drd87_fe = FeatureExtractor(cell_transients_df=cell_transients_dataframe, auc_df=auc_dataframe, behavior_df=behavior_df, behavior_col_names=beh_cols)"
   ]
  },
  {
   "cell_type": "markdown",
   "metadata": {},
   "source": [
    "## We compute the actual $\\hat{D}$ values for all of the neuron column vectors in DRD87's `neuron_concated_behavior` dataframe"
   ]
  },
  {
   "cell_type": "code",
   "execution_count": 5,
   "metadata": {},
   "outputs": [
    {
     "name": "stderr",
     "output_type": "stream",
     "text": [
      "/Users/saveliyyusufov/Hen_Lab/analysis/analysis_utils.py:106: Warning:\n",
      "\n",
      "Frame rate wasn't specified, so frame rate will be set to 10\n",
      "\n"
     ]
    },
    {
     "data": {
      "text/html": [
       "<div>\n",
       "<style scoped>\n",
       "    .dataframe tbody tr th:only-of-type {\n",
       "        vertical-align: middle;\n",
       "    }\n",
       "\n",
       "    .dataframe tbody tr th {\n",
       "        vertical-align: top;\n",
       "    }\n",
       "\n",
       "    .dataframe thead th {\n",
       "        text-align: right;\n",
       "    }\n",
       "</style>\n",
       "<table border=\"1\" class=\"dataframe\">\n",
       "  <thead>\n",
       "    <tr style=\"text-align: right;\">\n",
       "      <th></th>\n",
       "      <th>neuron1</th>\n",
       "      <th>neuron2</th>\n",
       "      <th>neuron3</th>\n",
       "      <th>neuron4</th>\n",
       "      <th>neuron5</th>\n",
       "      <th>neuron6</th>\n",
       "      <th>neuron7</th>\n",
       "      <th>neuron8</th>\n",
       "      <th>neuron9</th>\n",
       "      <th>neuron10</th>\n",
       "      <th>...</th>\n",
       "      <th>neuron61</th>\n",
       "      <th>neuron62</th>\n",
       "      <th>neuron63</th>\n",
       "      <th>neuron64</th>\n",
       "      <th>neuron65</th>\n",
       "      <th>neuron66</th>\n",
       "      <th>neuron67</th>\n",
       "      <th>neuron68</th>\n",
       "      <th>neuron69</th>\n",
       "      <th>neuron70</th>\n",
       "    </tr>\n",
       "  </thead>\n",
       "  <tbody>\n",
       "    <tr>\n",
       "      <th>D</th>\n",
       "      <td>5.72857</td>\n",
       "      <td>-3.00185</td>\n",
       "      <td>-1.36973</td>\n",
       "      <td>12.1606</td>\n",
       "      <td>-0.555661</td>\n",
       "      <td>-3.64355</td>\n",
       "      <td>8.0656</td>\n",
       "      <td>-3.7702</td>\n",
       "      <td>-0.683886</td>\n",
       "      <td>-3.68069</td>\n",
       "      <td>...</td>\n",
       "      <td>3.74837</td>\n",
       "      <td>-0.92522</td>\n",
       "      <td>0.176564</td>\n",
       "      <td>0.569157</td>\n",
       "      <td>-1.74818</td>\n",
       "      <td>0.711728</td>\n",
       "      <td>1.67555</td>\n",
       "      <td>1.55181</td>\n",
       "      <td>1.89085</td>\n",
       "      <td>4.47428</td>\n",
       "    </tr>\n",
       "  </tbody>\n",
       "</table>\n",
       "<p>1 rows × 70 columns</p>\n",
       "</div>"
      ],
      "text/plain": [
       "   neuron1  neuron2  neuron3  neuron4   neuron5  neuron6 neuron7 neuron8  \\\n",
       "D  5.72857 -3.00185 -1.36973  12.1606 -0.555661 -3.64355  8.0656 -3.7702   \n",
       "\n",
       "    neuron9 neuron10   ...    neuron61 neuron62  neuron63  neuron64 neuron65  \\\n",
       "D -0.683886 -3.68069   ...     3.74837 -0.92522  0.176564  0.569157 -1.74818   \n",
       "\n",
       "   neuron66 neuron67 neuron68 neuron69 neuron70  \n",
       "D  0.711728  1.67555  1.55181  1.89085  4.47428  \n",
       "\n",
       "[1 rows x 70 columns]"
      ]
     },
     "execution_count": 5,
     "metadata": {},
     "output_type": "execute_result"
    }
   ],
   "source": [
    "drd87_real_diff_vals = drd87_fe.set_real_diff_df(drd87_fe.neuron_concated_behavior, drd87_fe.auc_df.columns, \"OpenArms_centerpoint\", \"ClosedArms_centerpoint\")\n",
    "drd87_real_diff_vals"
   ]
  },
  {
   "cell_type": "markdown",
   "metadata": {},
   "source": [
    "## Now, we construct the permutation distributions of the $\\hat{D}$ values, for each neuron column vector, from its values in a large number of resamples.\n",
    "#### Note: use $1000$ resamples for preliminary analysis, and $\\ge 10000$ for presentation/publication."
   ]
  },
  {
   "cell_type": "code",
   "execution_count": 6,
   "metadata": {},
   "outputs": [
    {
     "ename": "NameError",
     "evalue": "name 'Resampler' is not defined",
     "output_type": "error",
     "traceback": [
      "\u001b[0;31m---------------------------------------------------------------------------\u001b[0m",
      "\u001b[0;31mNameError\u001b[0m                                 Traceback (most recent call last)",
      "\u001b[0;32m<ipython-input-6-2954177621b8>\u001b[0m in \u001b[0;36m<module>\u001b[0;34m()\u001b[0m\n\u001b[0;32m----> 1\u001b[0;31m \u001b[0mresampled_df\u001b[0m \u001b[0;34m=\u001b[0m \u001b[0mResampler\u001b[0m\u001b[0;34m.\u001b[0m\u001b[0mshuffle\u001b[0m\u001b[0;34m(\u001b[0m\u001b[0;36m10000\u001b[0m\u001b[0;34m,\u001b[0m \u001b[0mdrd87_fe\u001b[0m\u001b[0;34m.\u001b[0m\u001b[0mneuron_concated_behavior\u001b[0m\u001b[0;34m,\u001b[0m \u001b[0mdrd87_fe\u001b[0m\u001b[0;34m.\u001b[0m\u001b[0mauc_df\u001b[0m\u001b[0;34m.\u001b[0m\u001b[0mcolumns\u001b[0m\u001b[0;34m,\u001b[0m \u001b[0;34m\"OpenArms_centerpoint\"\u001b[0m\u001b[0;34m,\u001b[0m \u001b[0;34m\"ClosedArms_centerpoint\"\u001b[0m\u001b[0;34m)\u001b[0m\u001b[0;34m\u001b[0m\u001b[0m\n\u001b[0m",
      "\u001b[0;31mNameError\u001b[0m: name 'Resampler' is not defined"
     ]
    }
   ],
   "source": [
    "resampled_df = Resampler.shuffle(10000, drd87_fe.neuron_concated_behavior, drd87_fe.auc_df.columns, \"OpenArms_centerpoint\", \"ClosedArms_centerpoint\")"
   ]
  },
  {
   "cell_type": "markdown",
   "metadata": {},
   "source": [
    "## Next, we plot all the distribution of each neuron, after permutation resampling."
   ]
  },
  {
   "cell_type": "code",
   "execution_count": null,
   "metadata": {},
   "outputs": [],
   "source": [
    "resampled_df.hist(alpha=0.5, color='hotpink', bins=50, figsize=(70, 50));"
   ]
  },
  {
   "cell_type": "markdown",
   "metadata": {},
   "source": [
    "## We can see that almost all of the resampled (permutation) distributions are Gamma distributions. As a result, we must resort to a *non-parametric* test, i.e. the permutation test.\n",
    "\n",
    "#### **Note**: \n",
    "\n",
    "> #### The $t$ test gives accurate $P$-values if the sampling distribution of the difference of means is at least roughly Normal. The permutation test gives accurate $P$-values even when the sampling distribution is not close to Normal. [16-45](http://www2.hawaii.edu/~taylor/z631/ips7e_ch16.pdf)\n",
    "\n",
    "> #### The permutation test is useful even if we plan to use the two-sample $t$ test. Rather than relying on Normal quantile plots of the two samples and the central limit theorem, we can directly check the Normality of the sampling distribution by looking at the permutation distribution. Permutation tests provide a “gold standard” for assessing two-sample $t$ tests. If the two $P$-values differ considerably, it usually indicates that the conditions for the two-sample $t$ don’t hold for these data. Because permutation tests give accurate $P$-values even when the sampling distribution is skewed, they are often used when accuracy is very important. [16-45](http://www2.hawaii.edu/~taylor/z631/ips7e_ch16.pdf)\n",
    "\n",
    "> #### When are permutation tests valid? The two-sample t test starts from the condition that the sampling distribution of $\\bar{x}_1 − \\bar{x}_2$ is Normal. This is the case if both populations have Normal distributions, and it is approximately true for large samples from non-Normal populations because of the central limit theorem. The central limit theorem helps explain the robustness of the two-sample $t$ test. The test works well when both populations are symmetric, especially when the two sample sizes are similar. [16-47](http://www2.hawaii.edu/~taylor/z631/ips7e_ch16.pdf)\n",
    "\n",
    "> #### The permutation test completely removes the Normality condition. *However, resampling in a way that moves observations between the two groups requires that the two populations are identical when the null hypothesis is true -- not only are their means the same, but also their spreads and shapes.* [16-47](http://www2.hawaii.edu/~taylor/z631/ips7e_ch16.pdf)"
   ]
  },
  {
   "cell_type": "markdown",
   "metadata": {},
   "source": [
    "### In the case of DRD87, in the EPM experiment), there are $4275$ observations in `ClosedArms_centerpoint` and $605$ observations in `OpenArms_centerpoint`. \n",
    "### We are interested in the following test statistic: $$\\hat{D} = \\texttt{mean}(X_O)− \\texttt{mean}(X_C)$$, where $X_O$ are neuron signal values observed in `OpenArms_centerpoint`, and $X_C$ are are neuron signal values observed in `ClosedArms_centerpoint`.\n",
    "\n",
    "### This gives us $\\binom{4880}{605} = \\frac{4880!}{605!4275!} \\approx 10^{792}$ possible two-sample datasets (under the null hypothesis).\n",
    "\n",
    "### **How rare is our result?**\n",
    "> ### Namely, how many of these datasets have $|\\texttt{mean}(X_O)− \\texttt{mean}(X_C)| \\ge \\hat{D}$? What is the probability of seeing differences in the group means as extreme (or more extreme) than ours?\n",
    "\n",
    "### We could consider each of the $\\approx 10^{792}$ possible two-sample datasets (note that there are $\\approx 10^{80}$ atoms in the observable universe), compute $|\\texttt{mean}(X_O)− \\texttt{mean}(X_C)|$ for each, and then compare to our original $\\hat{D}$. Instead, we use a **permutation test**, which randomly samples from the $10^{792}$ possible two-sample datasets and estimates a $p$-value based on our original $\\hat{D}$.\n",
    "\n",
    "### **Permutation Principle**:\n",
    "> ### If there were no difference in neuron activity in the OpenArms versus ClosedArms (null hypothesis), then all datasets obtained by randomly assigning the neuron signal data would have equal chance of being observed in the study.\n",
    "\n",
    "### **Permutation test algorithm**:\n",
    "> ###  For step $i = 1,2, \\cdots ,p$:\n",
    "> ### (1) Randomly assign neuron signal data points, while holding the behavior data points constant.\n",
    "> ### (2) Compute $\\hat{D}_i = \\texttt{mean}(X_O,i)− \\texttt{mean}(X_C,i)$, where $X_O,i$ are neuron signal data points in the `OpenArms_centerpoint` behavior in step $i$, and $X_C,i$ are neuron signal data points in the `ClosedArms_centerpoint` behavior in step $i$. \n",
    "### Finally, we utilize the function, `compute_two_side_p_val` to compute a (two-sided) $p$-value as follows: $$\\frac{1}{p} \\sum_{i=1}^{p} \\mathbb{1}(|\\hat{D}_i| \\ge |\\hat{D}|)$$\n",
    "\n",
    "### **What are we actually testing?**\n",
    "> ### Using the permutation test, we test the null hypothesis that the two samples are from the same distribution.\n",
    "> ### How do we do this? Have we seen enough evidence (in the form of the observed difference between the sample means being large enough) to reject the null hypothesis that the two groups have identical probability distributions?\n",
    "\n",
    "##### Sources:\n",
    "- [STAT GU4206/GR5206 Statistical Computing & Introduction to Data Science. Grabriel Young, Columbia University]()"
   ]
  },
  {
   "cell_type": "code",
   "execution_count": null,
   "metadata": {},
   "outputs": [],
   "source": [
    "drd87_classified_neurons = Resampler.non_normal_neuron_classifier(drd87_fe.auc_df, resampled_df, drd87_real_diff_vals, p_value=0.05, threshold=5)"
   ]
  },
  {
   "cell_type": "markdown",
   "metadata": {},
   "source": [
    "## After classifying the neurons as either selective, not-selective, or unclassified, we perform a \"deeper classification\". Namely, we go through and classify each *selective* neuron with a $\\hat{D} > 0$ as selective for `OpenArms_centerpoint`. Likewise, we go through and classify each *selective* neuron with a $\\hat{D} < 0$ as selective for `ClosedArms_centerpoint`."
   ]
  },
  {
   "cell_type": "code",
   "execution_count": null,
   "metadata": {},
   "outputs": [],
   "source": [
    "def deep_classify(classified_neurons, real_diff_vals):\n",
    "    deeper_classification = classified_neurons.copy()\n",
    "\n",
    "    for neuron in deeper_classification:\n",
    "        if real_diff_vals[neuron].values > 0:\n",
    "            if deeper_classification[neuron] == \"selective\":\n",
    "                deeper_classification[neuron] = \"OpenArms_centerpoint\"\n",
    "        elif real_diff_vals[neuron].values < 0:\n",
    "            if deeper_classification[neuron] == \"selective\":\n",
    "                deeper_classification[neuron] = \"ClosedArms_centerpoint\"\n",
    "                \n",
    "    return deeper_classification"
   ]
  },
  {
   "cell_type": "code",
   "execution_count": null,
   "metadata": {},
   "outputs": [],
   "source": [
    "import plotly\n",
    "import plotly.graph_objs as go\n",
    "\n",
    "def plot_pie_chart(dict_of_classifications, *labels):\n",
    "    values = [sum([1 for classification in dict_of_classifications.values() if classification == \"OpenArms_centerpoint\"])]\n",
    "    values.append(sum([1 for classification in dict_of_classifications.values() if classification == \"ClosedArms_centerpoint\"]))\n",
    "    values.append(sum([1 for classification in dict_of_classifications.values() if classification == \"not-selective\"]))\n",
    "    values.append(sum([1 for classification in dict_of_classifications.values() if classification == \"unclassified\"]))\n",
    "    \n",
    "    trace = go.Pie(labels=labels, values=values)\n",
    "    plotly.offline.iplot([trace])"
   ]
  },
  {
   "cell_type": "markdown",
   "metadata": {},
   "source": [
    "# Now, we will repeat the aforementioned procedure to classify the cells of DRD77, DRD73, and DRD46."
   ]
  },
  {
   "cell_type": "markdown",
   "metadata": {},
   "source": [
    "## We begin with DRD77."
   ]
  },
  {
   "cell_type": "code",
   "execution_count": null,
   "metadata": {},
   "outputs": [],
   "source": [
    "drd77_data = pd.read_csv(raw_files[4], header=None)\n",
    "drd77_data = FeatureExtractor.downsample_dataframe(drd77_data, 2)\n",
    "_, auc_dataframe, cell_transients_dataframe = SigProc.detect_ca_transients_mossy(drd77_data, 2, 0.5, 0.2, 10)\n",
    "\n",
    "behavior_df = pd.read_csv(raw_files[5], header=None)\n",
    "drd77_fe = FeatureExtractor(cell_transients_df=cell_transients_dataframe, auc_df=auc_dataframe, behavior_df=behavior_df, behavior_col_names=beh_cols)"
   ]
  },
  {
   "cell_type": "code",
   "execution_count": null,
   "metadata": {},
   "outputs": [],
   "source": [
    "drd77_real_diff_vals = drd77_fe.set_real_diff_df(drd77_fe.neuron_concated_behavior, drd77_fe.auc_df.columns, \"OpenArms_centerpoint\", \"ClosedArms_centerpoint\")\n",
    "drd77_real_diff_vals"
   ]
  },
  {
   "cell_type": "code",
   "execution_count": null,
   "metadata": {},
   "outputs": [],
   "source": [
    "resampled_df = Resampler.shuffle(10000, drd77_fe.neuron_concated_behavior, drd77_fe.auc_df.columns, \"OpenArms_centerpoint\", \"ClosedArms_centerpoint\")\n",
    "resampled_df.hist(alpha=0.5, color='blue', bins=50, figsize=(70, 50));"
   ]
  },
  {
   "cell_type": "code",
   "execution_count": null,
   "metadata": {},
   "outputs": [],
   "source": [
    "drd77_classified_neurons = Resampler.non_normal_neuron_classifier(drd77_fe.auc_df, resampled_df, drd77_real_diff_vals, p_value=0.05, threshold=5)"
   ]
  },
  {
   "cell_type": "markdown",
   "metadata": {},
   "source": [
    "## Now, DRD73."
   ]
  },
  {
   "cell_type": "code",
   "execution_count": null,
   "metadata": {},
   "outputs": [],
   "source": [
    "drd73_data = pd.read_csv(raw_files[2], header=None)\n",
    "drd73_data = FeatureExtractor.downsample_dataframe(drd73_data, 2)\n",
    "_, auc_dataframe, cell_transients_dataframe = SigProc.detect_ca_transients_mossy(drd73_data, 2, 0.5, 0.2, 10)\n",
    "\n",
    "behavior_df = pd.read_csv(raw_files[3], header=None)\n",
    "drd73_fe = FeatureExtractor(cell_transients_df=cell_transients_dataframe, auc_df=auc_dataframe, behavior_df=behavior_df, behavior_col_names=beh_cols)"
   ]
  },
  {
   "cell_type": "code",
   "execution_count": null,
   "metadata": {},
   "outputs": [],
   "source": [
    "drd73_real_diff_vals = drd73_fe.set_real_diff_df(drd73_fe.neuron_concated_behavior, drd73_fe.auc_df.columns, \"OpenArms_centerpoint\", \"ClosedArms_centerpoint\")\n",
    "drd73_real_diff_vals"
   ]
  },
  {
   "cell_type": "code",
   "execution_count": null,
   "metadata": {},
   "outputs": [],
   "source": [
    "resampled_df = Resampler.shuffle(10000, drd73_fe.neuron_concated_behavior, drd73_fe.auc_df.columns, \"OpenArms_centerpoint\", \"ClosedArms_centerpoint\")\n",
    "resampled_df.hist(alpha=0.5, color='green', bins=50, figsize=(70, 50));"
   ]
  },
  {
   "cell_type": "code",
   "execution_count": null,
   "metadata": {},
   "outputs": [],
   "source": [
    "drd73_classified_neurons = Resampler.non_normal_neuron_classifier(drd73_fe.auc_df, resampled_df, drd73_real_diff_vals, p_value=0.05, threshold=5)"
   ]
  },
  {
   "cell_type": "markdown",
   "metadata": {},
   "source": [
    "## Finally, DRD46."
   ]
  },
  {
   "cell_type": "code",
   "execution_count": null,
   "metadata": {},
   "outputs": [],
   "source": [
    "drd46_data = pd.read_csv(raw_files[7], header=None)\n",
    "_, auc_dataframe, cell_transients_dataframe = SigProc.detect_ca_transients_mossy(drd46_data, 2, 0.5, 0.2, 10)\n",
    "\n",
    "behavior_df = pd.read_csv(raw_files[6], header=None)\n",
    "drd46_fe = FeatureExtractor(cell_transients_df=cell_transients_dataframe, auc_df=auc_dataframe, behavior_df=behavior_df, behavior_col_names=beh_cols)"
   ]
  },
  {
   "cell_type": "code",
   "execution_count": null,
   "metadata": {},
   "outputs": [],
   "source": [
    "drd46_real_diff_vals = drd46_fe.set_real_diff_df(drd46_fe.neuron_concated_behavior, drd46_fe.auc_df.columns, \"OpenArms_centerpoint\", \"ClosedArms_centerpoint\")\n",
    "drd46_real_diff_vals"
   ]
  },
  {
   "cell_type": "code",
   "execution_count": null,
   "metadata": {},
   "outputs": [],
   "source": [
    "resampled_df = Resampler.shuffle(10000, drd46_fe.neuron_concated_behavior, drd46_fe.auc_df.columns, \"OpenArms_centerpoint\", \"ClosedArms_centerpoint\")\n",
    "resampled_df.hist(alpha=0.5, color='red', bins=50, figsize=(70, 50));"
   ]
  },
  {
   "cell_type": "code",
   "execution_count": null,
   "metadata": {},
   "outputs": [],
   "source": [
    "drd46_classified_neurons = Resampler.non_normal_neuron_classifier(drd46_fe.auc_df, resampled_df, drd46_real_diff_vals, p_value=0.05, threshold=5)"
   ]
  },
  {
   "cell_type": "markdown",
   "metadata": {},
   "source": [
    "## Finally, we plot pie charts to visualize the cell selectivity breakdown for:"
   ]
  },
  {
   "cell_type": "markdown",
   "metadata": {},
   "source": [
    "## DRD87"
   ]
  },
  {
   "cell_type": "code",
   "execution_count": null,
   "metadata": {},
   "outputs": [],
   "source": [
    "drd87_cell_dict = deep_classify(drd87_classified_neurons, drd87_real_diff_vals)\n",
    "plot_pie_chart(drd87_cell_dict, \"OpenArms_centerpoint\", \"ClosedArms_centerpoint\", \"not-selective\", \"unclassified\")"
   ]
  },
  {
   "cell_type": "code",
   "execution_count": null,
   "metadata": {},
   "outputs": [],
   "source": [
    "drd87_cell_dict"
   ]
  },
  {
   "cell_type": "markdown",
   "metadata": {},
   "source": [
    "## DRD77"
   ]
  },
  {
   "cell_type": "code",
   "execution_count": null,
   "metadata": {},
   "outputs": [],
   "source": [
    "drd77_cell_dict = deep_classify(drd77_classified_neurons, drd77_real_diff_vals)\n",
    "plot_pie_chart(drd77_cell_dict, \"OpenArms_centerpoint\", \"ClosedArms_centerpoint\", \"not-selective\", \"unclassified\")"
   ]
  },
  {
   "cell_type": "markdown",
   "metadata": {},
   "source": [
    "## DRD73"
   ]
  },
  {
   "cell_type": "code",
   "execution_count": null,
   "metadata": {},
   "outputs": [],
   "source": [
    "drd73_cell_dict = deep_classify(drd73_classified_neurons, drd73_real_diff_vals)\n",
    "plot_pie_chart(drd73_cell_dict, \"OpenArms_centerpoint\", \"ClosedArms_centerpoint\", \"not-selective\", \"unclassified\")"
   ]
  },
  {
   "cell_type": "markdown",
   "metadata": {},
   "source": [
    "## DRD46"
   ]
  },
  {
   "cell_type": "code",
   "execution_count": null,
   "metadata": {},
   "outputs": [],
   "source": [
    "drd46_cell_dict = deep_classify(drd46_classified_neurons, drd46_real_diff_vals)\n",
    "plot_pie_chart(drd46_cell_dict, \"OpenArms_centerpoint\", \"ClosedArms_centerpoint\", \"not-selective\", \"unclassified\")"
   ]
  },
  {
   "cell_type": "markdown",
   "metadata": {},
   "source": [
    "## Now we concatenate all of our animals' cell selecitivty dictionaries into one dictionary to easily plot the pie chart for all $137$ neurons."
   ]
  },
  {
   "cell_type": "code",
   "execution_count": null,
   "metadata": {},
   "outputs": [],
   "source": [
    "def concat_dictionaries(*dictionaries):\n",
    "    all_cells_dictionary = dict()\n",
    "    key = 1\n",
    "    for dictionary in dictionaries:\n",
    "        for value in dictionary.values():\n",
    "            if key not in all_cells_dictionary:\n",
    "                all_cells_dictionary[key] = value\n",
    "                key += 1\n",
    "                \n",
    "    return all_cells_dictionary"
   ]
  },
  {
   "cell_type": "markdown",
   "metadata": {},
   "source": [
    "## For DRD87, DRD77, DRD73, & DRD46, as a collective, we have:"
   ]
  },
  {
   "cell_type": "code",
   "execution_count": null,
   "metadata": {},
   "outputs": [],
   "source": [
    "all_cells_dictionary = concat_dictionaries(drd87_cell_dict, drd77_cell_dict, drd73_cell_dict, drd46_cell_dict)\n",
    "plot_pie_chart(all_cells_dictionary, \"OpenArms_centerpoint\", \"ClosedArms_centerpoint\", \"not-selective\", \"unclassified\")"
   ]
  },
  {
   "cell_type": "code",
   "execution_count": null,
   "metadata": {},
   "outputs": [],
   "source": [
    "def activity_by_neurons(concated_df, neuron_names, *behaviors, **kwargs):\n",
    "    \"\"\"Computes the neuron activity rates for given behaviors\n",
    "    \n",
    "    This function computes the rates for a given animal's activity and  \n",
    "    neuron, given some set of behaviors.\n",
    "\n",
    "    Args: \n",
    "        concated_df: DataFrame\n",
    "        \n",
    "            A concatenated pandas DataFrame of the neuron activity and \n",
    "            the corresponding behavior, for a given animal.\n",
    "        \n",
    "        neuron_names: list\n",
    "        \n",
    "            The names of the neurons whose rates are to be computed.\n",
    "        \n",
    "        behaviors: \n",
    "            \n",
    "            The behaviors for which to compute the activity rates. \n",
    "        \n",
    "        frame_rate: int, optional\n",
    "        \n",
    "            The framerate to multiply the activity rate by, default is 10.\n",
    "\n",
    "    Returns: \n",
    "        activity_df: a pandas DataFrame of the neuron activity rates.\n",
    "    \"\"\"\n",
    "    frame_rate = kwargs.get(\"frame_rate\", None)\n",
    "    if frame_rate is None:\n",
    "        warnings.warn(\"You did not specify a frame rate, so a frame rate\"\n",
    "                      + \" of 10 will be utilized in the computation\", Warning)\n",
    "        frame_rate = 10\n",
    "        \n",
    "    activity_df = pd.DataFrame(columns=behaviors)\n",
    "    \n",
    "    for behavior in behaviors:\n",
    "        if behavior in concated_df.columns:\n",
    "            activity_df.loc[:, behavior] = frame_rate * concated_df.loc[concated_df[behavior] != 0, neuron_names].mean()\n",
    "        elif '&' in behavior:\n",
    "            beh1 = behavior.split('&')[0]\n",
    "            beh2 = behavior.split('&')[1]\n",
    "            activity_df.loc[:, behavior] = frame_rate * concated_df.loc[(concated_df[beh1] != 0) & ((concated_df[beh2] != 0)), neuron_names].mean()\n",
    "        elif '|' in behavior:\n",
    "            beh1 = behavior.split('|')[0]\n",
    "            beh2 = behavior.split('|')[1]\n",
    "            activity_df.loc[:, behavior] = frame_rate * concated_df.loc[(concated_df[beh1] != 0) | ((concated_df[beh2] != 0)), neuron_names].mean()\n",
    "\n",
    "    return activity_df"
   ]
  },
  {
   "cell_type": "code",
   "execution_count": null,
   "metadata": {},
   "outputs": [],
   "source": [
    "import plotly\n",
    "import plotly.graph_objs as go\n",
    "\n",
    "def plot_activity_rates(activity_rates_df, **kwargs):\n",
    "    \"\"\"Wrapper function for Plotly Bar Charts\n",
    "        \n",
    "        This function wraps the Plotly library Bar Chart plotting functionality\n",
    "        in order to quickly and easily create a bar plot for \n",
    "    \n",
    "    Args:\n",
    "        activity_rates_df: DataFrame\n",
    "        \n",
    "            The pandas DataFrame with all the neuron activity means,\n",
    "            for corresponding behaviors\n",
    "            \n",
    "        title: str, optional\n",
    "        \n",
    "            The title of the bar plot, to be displayed above the plot,\n",
    "            default is \"Title Goes Here\".\n",
    "        \n",
    "        color: str, optional\n",
    "            \n",
    "            The color of the bar plot to be plotted, e.g., \"rgb(10,10,10)\",\n",
    "            default is \"rgb(10,10,200)\".\n",
    "    \"\"\"\n",
    "    x = [beh for beh in activity_rates_df.columns]\n",
    "    y = [activity_rates_df[behavior].mean() for behavior in activity_rates_df.columns]\n",
    "\n",
    "    title = kwargs.get(\"title\", \"Title Goes Here\")\n",
    "    color = kwargs.get(\"color\", \"rgb(10,10,200)\")\n",
    "    trace1 = go.Bar(\n",
    "        x=x,\n",
    "        y=y,\n",
    "        text=y,\n",
    "        marker=dict(\n",
    "            color=color\n",
    "        ),\n",
    "        opacity=0.7\n",
    "    )\n",
    "\n",
    "    data = [trace1]\n",
    "    layout = go.Layout(\n",
    "        title=title,\n",
    "    )\n",
    "    fig = go.Figure(data=data, layout=layout)\n",
    "    plotly.offline.iplot(fig)"
   ]
  },
  {
   "cell_type": "code",
   "execution_count": null,
   "metadata": {},
   "outputs": [],
   "source": [
    "def get_continuous_beh_dfs(feature_extractor, behavior, **kwargs):\n",
    "    seconds = kwargs.get(\"seconds\", 5)\n",
    "    framerate = kwargs.get(\"framerate\", 10)\n",
    "    dataframes = list()\n",
    "    \n",
    "    continuous_beh = dict()\n",
    "    for row in feature_extractor.neuron_concated_behavior.itertuples():\n",
    "        if getattr(row, behavior) == 1:\n",
    "            continuous_beh[row[0]] = 1\n",
    "        else:\n",
    "            if len(continuous_beh) >= seconds*framerate:\n",
    "\n",
    "                # Note the start frame, and the end frame for when the animal entered the area.\n",
    "                begin = list(continuous_beh.keys())[0]\n",
    "                end = list(continuous_beh.keys())[len(list(continuous_beh.keys()))-1]\n",
    "\n",
    "                dataframes.append(feature_extractor.neuron_concated_behavior.iloc[begin:end])\n",
    "\n",
    "                continuous_beh.clear()\n",
    "            else:\n",
    "                continuous_beh.clear()\n",
    "                \n",
    "    return dataframes"
   ]
  },
  {
   "cell_type": "code",
   "execution_count": null,
   "metadata": {},
   "outputs": [],
   "source": [
    "def get_rates_for_cont_beh(feature_extractor, behavior, seconds):\n",
    "    dataframes = get_continuous_beh_dfs(feature_extractor, behavior, seconds=seconds)\n",
    "    \n",
    "    rates = list()\n",
    "    for df in dataframes:\n",
    "        activity_rates_df = activity_by_neurons(df, feature_extractor.auc_df.columns, behavior)\n",
    "        rates.append(activity_rates_df[behavior].mean())\n",
    "        \n",
    "    return rates, dataframes"
   ]
  },
  {
   "cell_type": "code",
   "execution_count": null,
   "metadata": {},
   "outputs": [],
   "source": [
    "def sort_rates_chronological(feature_extractor, open_arms_dataframes, closed_arms_dataframes):\n",
    "    i = 0\n",
    "    j = 0\n",
    "    rates = list()\n",
    "    markers_on = list()\n",
    "\n",
    "    while i < len(open_arms_dataframes):\n",
    "        if open_arms_dataframes[i].index.values[-1] < closed_arms_dataframes[j].index.values[-1]:\n",
    "            # print(\"Appended OpenArms dataframe with indices: {}:{}\".format(open_arms_dataframes[i].index.values[0], open_arms_dataframes[i].index.values[-1]))\n",
    "            activity_rates_df = activity_by_neurons(open_arms_dataframes[i], feature_extractor.auc_df.columns, \"OpenArms_centerpoint\")\n",
    "            rates.append(activity_rates_df[\"OpenArms_centerpoint\"].mean())\n",
    "            markers_on.append(len(rates)-1)\n",
    "            i += 1\n",
    "        else:\n",
    "            # print(\"Appended ClosedArms dataframe with indices: {}:{}\".format(closed_arms_dataframes[j].index.values[0], closed_arms_dataframes[j].index.values[-1]))\n",
    "            activity_rates_df = activity_by_neurons(closed_arms_dataframes[j], feature_extractor.auc_df.columns, \"ClosedArms_centerpoint\")\n",
    "            rates.append(activity_rates_df[\"ClosedArms_centerpoint\"].mean())\n",
    "            j += 1\n",
    "\n",
    "    while j < len(closed_arms_dataframes):\n",
    "        # print(\"Appended ClosedArms dataframe with indices: {}:{}\".format(closed_arms_dataframes[j].index.values[0], closed_arms_dataframes[j].index.values[-1]))\n",
    "        activity_rates_df = activity_by_neurons(closed_arms_dataframes[j], feature_extractor.auc_df.columns, \"ClosedArms_centerpoint\")\n",
    "        rates.append(activity_rates_df[\"ClosedArms_centerpoint\"].mean())\n",
    "        j += 1\n",
    "    \n",
    "    return rates, markers_on"
   ]
  },
  {
   "cell_type": "code",
   "execution_count": null,
   "metadata": {},
   "outputs": [],
   "source": [
    "import matplotlib.pyplot as plt\n",
    "\n",
    "def quick_plot(y_axis, figsize, color=\"blue\", title=\"Title Goes Here\", markevery=None):\n",
    "    plt.figure(figsize=figsize)\n",
    "    plt.plot(y_axis, color=color, marker='o', linestyle=\"solid\", linewidth=1, markersize=7, markevery=markevery)\n",
    "    plt.xlabel(\"Entry\")\n",
    "    plt.ylabel(\"Rate\")\n",
    "    plt.title(title)\n",
    "    plt.grid(True)\n",
    "    plt.show();"
   ]
  },
  {
   "cell_type": "markdown",
   "metadata": {},
   "source": [
    "## DRD87"
   ]
  },
  {
   "cell_type": "code",
   "execution_count": null,
   "metadata": {},
   "outputs": [],
   "source": [
    "drd87_open_arms_rates, drd87_open_arms_dataframes = get_rates_for_cont_beh(drd87_fe, \"OpenArms_centerpoint\", 2)\n",
    "drd87_closed_arms_rates, drd87_closed_arms_dataframes = get_rates_for_cont_beh(drd87_fe, \"ClosedArms_centerpoint\", 2)\n",
    "\n",
    "quick_plot(drd87_open_arms_rates, (10, 5), color=\"red\", title=\"DRD87 Activity Rate per Entry into OpenArms\")\n",
    "quick_plot(drd87_closed_arms_rates, (10, 5), color=\"blue\", title=\"DRD87 Activity Rate per Entry into ClosedArms\")\n",
    "\n",
    "drd87_all_rates, drd87_markers_on = sort_rates_chronological(drd87_fe, drd87_open_arms_dataframes, drd87_closed_arms_dataframes)\n",
    "\n",
    "quick_plot(drd87_all_rates, (10, 5), color=\"green\", title=\"DRD87 Activity Rate per Entry\", markevery=drd87_markers_on)"
   ]
  },
  {
   "cell_type": "markdown",
   "metadata": {},
   "source": [
    "## DRD77"
   ]
  },
  {
   "cell_type": "code",
   "execution_count": null,
   "metadata": {},
   "outputs": [],
   "source": [
    "drd77_open_arms_rates, drd77_open_arms_dataframes = get_rates_for_cont_beh(drd77_fe, \"OpenArms_centerpoint\", 2)\n",
    "drd77_closed_arms_rates, drd77_closed_arms_dataframes = get_rates_for_cont_beh(drd77_fe, \"ClosedArms_centerpoint\", 2)\n",
    "\n",
    "quick_plot(drd77_open_arms_rates, (10, 5), color=\"red\", title=\"DRD77 Activity Rate per Entry into OpenArms\")\n",
    "quick_plot(drd77_closed_arms_rates, (10, 5), color=\"blue\", title=\"DRD77 Activity Rate per Entry into ClosedArms\")\n",
    "\n",
    "drd77_all_rates, drd77_markers_on = sort_rates_chronological(drd77_fe, drd77_open_arms_dataframes, drd77_closed_arms_dataframes)\n",
    "\n",
    "quick_plot(drd77_all_rates, (10, 5), color=\"green\", title=\"DRD77 Activity Rate per Entry\", markevery=drd77_markers_on)"
   ]
  },
  {
   "cell_type": "markdown",
   "metadata": {},
   "source": [
    "## DRD73"
   ]
  },
  {
   "cell_type": "code",
   "execution_count": null,
   "metadata": {},
   "outputs": [],
   "source": [
    "drd73_open_arms_rates, drd73_open_arms_dataframes = get_rates_for_cont_beh(drd73_fe, \"OpenArms_centerpoint\", 2)\n",
    "drd73_closed_arms_rates, drd73_closed_arms_dataframes = get_rates_for_cont_beh(drd73_fe, \"ClosedArms_centerpoint\", 2)\n",
    "\n",
    "quick_plot(drd73_open_arms_rates, (10, 5), color=\"red\", title=\"DRD73 Activity Rate per Entry into OpenArms\")\n",
    "quick_plot(drd73_closed_arms_rates, (10, 5), color=\"blue\", title=\"DRD73 Activity Rate per Entry into ClosedArms\")\n",
    "\n",
    "drd73_all_rates, drd73_markers_on = sort_rates_chronological(drd73_fe, drd73_open_arms_dataframes, drd73_closed_arms_dataframes)\n",
    "\n",
    "quick_plot(drd73_all_rates, (10, 5), color=\"green\", title=\"DRD73 Activity Rate per Entry\", markevery=drd73_markers_on)"
   ]
  },
  {
   "cell_type": "markdown",
   "metadata": {},
   "source": [
    "## DRD46"
   ]
  },
  {
   "cell_type": "code",
   "execution_count": null,
   "metadata": {},
   "outputs": [],
   "source": [
    "drd46_open_arms_rates, drd46_open_arms_dataframes = get_rates_for_cont_beh(drd46_fe, \"OpenArms_centerpoint\", 2)\n",
    "drd46_closed_arms_rates, drd46_closed_arms_dataframes = get_rates_for_cont_beh(drd46_fe, \"ClosedArms_centerpoint\", 2)\n",
    "\n",
    "quick_plot(drd46_open_arms_rates, (10, 5), color=\"red\", title=\"DRD46 Activity Rate per Entry into OpenArms\")\n",
    "quick_plot(drd46_closed_arms_rates, (10, 5), color=\"blue\", title=\"DRD46 Activity Rate per Entry into ClosedArms\")\n",
    "\n",
    "drd46_all_rates, drd46_markers_on = sort_rates_chronological(drd46_fe, drd46_open_arms_dataframes, drd46_closed_arms_dataframes)\n",
    "\n",
    "quick_plot(drd46_all_rates, (10, 5), color=\"green\", title=\"DRD46 Activity Rate per Entry\", markevery=drd46_markers_on)"
   ]
  },
  {
   "cell_type": "markdown",
   "metadata": {},
   "source": [
    "# Now, we will investigate whether or not *OpenArms_centerpoint* cells are more/same/less likely to also be active during other anxiety tasks, i.e., POPP, OFT."
   ]
  },
  {
   "cell_type": "code",
   "execution_count": null,
   "metadata": {},
   "outputs": [],
   "source": [
    "DRD87_POPP_RAW = pd.read_csv(\"~/Hen_Lab/Mice/DRD87_NO_OFT_POPP_reg/D87_POPP_C_raw.csv\" ,header=None)\n",
    "_, auc_dataframe, cell_transients_dataframe = SigProc.detect_ca_transients_mossy(DRD87_POPP_RAW, 2, 0.5, 0.2, 10)"
   ]
  },
  {
   "cell_type": "code",
   "execution_count": null,
   "metadata": {},
   "outputs": [],
   "source": [
    "behavior_df = pd.read_csv(\"~/Hen_Lab/Mice/DRD87_NO_OFT_POPP_reg/Behavior_DRD87_POPP.csv\")\n",
    "behavior_df.drop(columns=[\"X center\", \"Y center\", \"Area\", \"Areachange\", \"Elongation\", \"Distance moved\", \"Velocity\", \"Result 1\"], inplace=True)\n",
    "behavior_df.columns = [\"Trial Time\", \"Recording Time\", \"Arena_centerpoint\", \"Odor_centerpoint\", \"Neutral_centerpoint\", \"Odor_Cup_centerpoint\", \"Neutral_Cup_centerpoint\"]"
   ]
  },
  {
   "cell_type": "code",
   "execution_count": null,
   "metadata": {},
   "outputs": [],
   "source": [
    "drd87_fe_popp = FeatureExtractor(cell_transients_df=cell_transients_dataframe, auc_df=auc_dataframe, behavior_df=behavior_df, row_multiple=2)"
   ]
  },
  {
   "cell_type": "code",
   "execution_count": null,
   "metadata": {},
   "outputs": [],
   "source": [
    "drd87_popp_activity = activity_by_neurons(drd87_fe_popp.neuron_concated_behavior, drd87_fe_popp.auc_df.columns, \"Arena_centerpoint\", \"Odor_centerpoint\", \"Neutral_centerpoint\", \"Odor_Cup_centerpoint\", \"Neutral_Cup_centerpoint\")"
   ]
  },
  {
   "cell_type": "code",
   "execution_count": null,
   "metadata": {},
   "outputs": [],
   "source": [
    "neuron_dictionary = pd.read_csv(\"~/Hen_Lab/Mice/DRD87_NO_OFT_POPP_reg/EPM_NO_OFT_POPP_cellreg_dict.csv\",header=None)\n",
    "neuron_dictionary.columns = [\"EPM\", \"NO\", \"OFT\", \"POPP\"]\n",
    "\n",
    "# Reset the index so that it starts from 1, since we refer to neurons as neurons 1, 2, ..., n\n",
    "neuron_dictionary.index = pd.RangeIndex(1, len(neuron_dictionary.index)+1)"
   ]
  },
  {
   "cell_type": "markdown",
   "metadata": {},
   "source": [
    "## Now we create a dictionary to translate neurons from day $1$ (EPM) to day $2$, (NO)."
   ]
  },
  {
   "cell_type": "code",
   "execution_count": null,
   "metadata": {},
   "outputs": [],
   "source": [
    "epm_to_popp_dict = dict()\n",
    "\n",
    "for row in neuron_dictionary.itertuples():\n",
    "    epm_neuron = getattr(row, \"EPM\")\n",
    "    popp_neuron = getattr(row, \"POPP\")\n",
    "    \n",
    "    if popp_neuron == 0:\n",
    "        continue\n",
    "    \n",
    "    epm_to_popp_dict[epm_neuron] = popp_neuron\n",
    "    print(epm_neuron, popp_neuron)"
   ]
  },
  {
   "cell_type": "code",
   "execution_count": null,
   "metadata": {},
   "outputs": [],
   "source": [
    "plot_activity_rates(drd87_popp_activity, title=\"DRD87 Novel Object Activity Rates\")"
   ]
  },
  {
   "cell_type": "code",
   "execution_count": null,
   "metadata": {},
   "outputs": [],
   "source": [
    "drd87_real_diff_vals = drd87_fe_popp.set_real_diff_df(drd87_fe_popp.neuron_concated_behavior, drd87_fe_popp.auc_df.columns, \"Odor_centerpoint\", \"Neutral_centerpoint\")\n",
    "drd87_real_diff_vals"
   ]
  },
  {
   "cell_type": "code",
   "execution_count": null,
   "metadata": {},
   "outputs": [],
   "source": [
    "resampled_df = Resampler.shuffle(10000, drd87_fe_popp.neuron_concated_behavior, drd87_fe_popp.auc_df.columns, \"Odor_centerpoint\", \"Neutral_centerpoint\")\n",
    "resampled_df.hist(alpha=0.5, color='blue', bins=50, figsize=(70, 50));"
   ]
  },
  {
   "cell_type": "code",
   "execution_count": null,
   "metadata": {},
   "outputs": [],
   "source": [
    "drd87_classified_neurons = Resampler.non_normal_neuron_classifier(drd87_fe_popp.auc_df, resampled_df, drd87_real_diff_vals, p_value=0.05, threshold=5)"
   ]
  },
  {
   "cell_type": "code",
   "execution_count": null,
   "metadata": {},
   "outputs": [],
   "source": [
    "drd87_classified_neurons"
   ]
  },
  {
   "cell_type": "code",
   "execution_count": null,
   "metadata": {},
   "outputs": [],
   "source": []
  }
 ],
 "metadata": {
  "kernelspec": {
   "display_name": "Python 3",
   "language": "python",
   "name": "python3"
  },
  "language_info": {
   "codemirror_mode": {
    "name": "ipython",
    "version": 3
   },
   "file_extension": ".py",
   "mimetype": "text/x-python",
   "name": "python",
   "nbconvert_exporter": "python",
   "pygments_lexer": "ipython3",
   "version": "3.6.5"
  }
 },
 "nbformat": 4,
 "nbformat_minor": 2
}
