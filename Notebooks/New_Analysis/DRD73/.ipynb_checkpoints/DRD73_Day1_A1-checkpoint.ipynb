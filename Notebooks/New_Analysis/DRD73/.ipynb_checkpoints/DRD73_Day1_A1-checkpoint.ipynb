{
 "cells": [
  {
   "cell_type": "markdown",
   "metadata": {},
   "source": [
    "# New Analysis for DRD73 during day 1 A1"
   ]
  },
  {
   "cell_type": "code",
   "execution_count": null,
   "metadata": {},
   "outputs": [],
   "source": [
    "# Bring your packages onto the path\n",
    "import os\n",
    "import sys\n",
    "sys.path.append(os.path.abspath(os.path.join(\"..\", \"..\", \"..\")))\n",
    "\n",
    "import pandas as pd\n",
    "import numpy as np\n",
    "from analysis import sig_proc\n",
    "from analysis.graph_analysis_utils import NeuronNetwork\n",
    "from analysis.analysis_utils import FeatureExtractor\n",
    "from analysis.resampling import Resampler\n",
    "from scipy import stats\n",
    "from IPython.core.interactiveshell import InteractiveShell"
   ]
  },
  {
   "cell_type": "code",
   "execution_count": null,
   "metadata": {},
   "outputs": [],
   "source": [
    "InteractiveShell.ast_node_interactivity = \"all\"\n",
    "%matplotlib inline"
   ]
  },
  {
   "cell_type": "code",
   "execution_count": null,
   "metadata": {},
   "outputs": [],
   "source": [
    "mouse_directory = os.path.join(os.path.expanduser(\"~\"), \"Hen_Lab/Mice/New_Analysis/DRD73\")\n",
    "\n",
    "if not os.path.exists(mouse_directory):\n",
    "    print(\"The mouse directory does not exist\", file=sys.stderr)\n",
    "\n",
    "file_num = 0\n",
    "raw_files = list()\n",
    "for dir_name, subdir_list, file_list in os.walk(mouse_directory):\n",
    "    for file_name in file_list:\n",
    "        if file_name.endswith(\".csv\"):\n",
    "            print(\"{}. full path of: {} is: {}\".format(file_num, file_name, os.path.join(dir_name, file_name)))\n",
    "            file_num += 1\n",
    "            raw_files.append(os.path.join(dir_name, file_name))"
   ]
  },
  {
   "cell_type": "code",
   "execution_count": null,
   "metadata": {},
   "outputs": [],
   "source": [
    "drd73_data = pd.read_csv(raw_files[4], header=None)\n",
    "drd73_data = FeatureExtractor.downsample_dataframe(drd73_data, 2)\n",
    "_, auc_dataframe, cell_transients_dataframe = sig_proc.detect_ca_transients_mossy(drd73_data, 2, 0.5, 0.2, 10)\n",
    "\n",
    "behavior_df = pd.read_csv(raw_files[1])\n",
    "\n",
    "# Drop unnecessary columns from behavior dataframe\n",
    "behavior_df.drop(columns=[\"Observation\", \"Event Log\", \"Time\", \"Rearing\"], inplace=True)\n",
    "\n",
    "drd73_fe = FeatureExtractor(cell_transients_df=cell_transients_dataframe, auc_df=auc_dataframe, behavior_df=behavior_df)"
   ]
  },
  {
   "cell_type": "code",
   "execution_count": null,
   "metadata": {},
   "outputs": [],
   "source": [
    "# Find the difference in length between the neural signal dataframe and the behavior dataframe\n",
    "height_diff = len(drd73_fe.auc_df) - len(drd73_fe.behavior_df)\n",
    "\n",
    "# We append an n amount of rows into the behavior dataframe \"Rear\" column, in order to make it aligned with the neural signal data dataframe.\n",
    "last_row = len(drd73_fe.behavior_df)\n",
    "\n",
    "# Create a list of dictionaries to append as rows to the \"Rear\" column \n",
    "rows_list = []\n",
    "for _ in range(height_diff):\n",
    "    rows_list.append({\"Rear\": 0})\n",
    "    \n",
    "# Append the list of dictionaries to the rows list to align the behavior dataframe with the neural signal dataframe\n",
    "drd73_fe.behavior_df = drd73_fe.behavior_df.append(rows_list, ignore_index=True)\n",
    "\n",
    "# Finally, we add another behavior column, \"NOT_Rear\" that is the logical NOT of the \"Rear\" column\n",
    "drd73_fe.behavior_df = drd73_fe.behavior_df.assign(NOT_Rear = 1-drd73_fe.behavior_df[\"Rear\"])"
   ]
  },
  {
   "cell_type": "code",
   "execution_count": null,
   "metadata": {},
   "outputs": [],
   "source": [
    "drd73_fe.neuron_concated_behavior = drd87_fe.auc_df.join(drd87_fe.behavior_df, how=\"left\")"
   ]
  },
  {
   "cell_type": "code",
   "execution_count": null,
   "metadata": {},
   "outputs": [],
   "source": [
    "def bin_by_time(dataframe, **kwargs):\n",
    "    \"\"\"Split dataframe by frequency\n",
    "    \n",
    "    Split up the time series data into specified time bins. \n",
    "    \n",
    "    Args: \n",
    "        dataframe: DataFrame\n",
    "        \n",
    "            a pandas DataFrame of the signal data for \n",
    "            all the imaged neurons of a given animal activity.\n",
    "        \n",
    "        freq: string, optional\n",
    "            \n",
    "            If specified, this is the frequency by which the \n",
    "            passed DataFrame will be split. The default is \n",
    "            1Min.\n",
    "    \n",
    "    Returns: \n",
    "        time_bins: dictionary\n",
    "            \n",
    "            All of the DataFrames that encompasse the passed-in\n",
    "            DataFrame.\n",
    "    \"\"\"\n",
    "    \n",
    "    # Create copy of the dataframe for a certain behavior\n",
    "    time_binned_df = dataframe.copy()\n",
    "    time_binned_df.reset_index(drop=True, inplace=True)\n",
    "    \n",
    "    # Add a column of the trial time in the form of time deltas\n",
    "    x = pd.to_timedelta(\"0.1s\")\n",
    "    time_binned_df.loc[:, \"TIME\"] = pd.Series(x*i for i in (time_binned_df.index))\n",
    "    \n",
    "    # Group the dataframe by 1 minute intervals\n",
    "    grouped = time_binned_df.set_index(\"TIME\").groupby(pd.Grouper(freq=kwargs.get(\"freq\", \"1Min\")))\n",
    "    \n",
    "    # Place each dataframe that contains the data for every 1 minute intervals into a dictionary\n",
    "    time_bins = {}\n",
    "    freq = 0\n",
    "    for name, group in grouped:\n",
    "        time_bins[freq] = grouped.get_group(name)\n",
    "        freq += 1\n",
    "        \n",
    "    return time_bins"
   ]
  },
  {
   "cell_type": "markdown",
   "metadata": {},
   "source": [
    "## 1. Average rate over time (eg. average rate for each minute) during Day 1 A1."
   ]
  },
  {
   "cell_type": "code",
   "execution_count": null,
   "metadata": {},
   "outputs": [],
   "source": [
    "df_per_minute = bin_by_time(drd73_fe.neuron_concated_behavior)\n",
    "\n",
    "for minute in df_per_minute:\n",
    "    print(\"Minute: {}, avg rate: {}\".format(minute, 10 * df_per_minute[minute].loc[:, drd73_fe.auc_df.columns].mean().mean()))"
   ]
  },
  {
   "cell_type": "markdown",
   "metadata": {},
   "source": [
    "## 2. Average rate during rearing."
   ]
  },
  {
   "cell_type": "code",
   "execution_count": null,
   "metadata": {},
   "outputs": [],
   "source": [
    "10 * drd73_fe.neuron_concated_behavior.loc[drd73_fe.neuron_concated_behavior[\"Rear\"] != 0, drd73_fe.auc_df.columns].mean().mean()"
   ]
  },
  {
   "cell_type": "markdown",
   "metadata": {},
   "source": [
    "## 3: Cell selectivity for rearing (are there rearing selective cells?)."
   ]
  },
  {
   "cell_type": "code",
   "execution_count": null,
   "metadata": {},
   "outputs": [],
   "source": [
    "drd73_fe_real_diff_vals = drd87_fe.set_real_diff_df(drd73_fe.neuron_concated_behavior, drd73_fe.auc_df.columns, \"Rear\", \"NOT_Rear\")\n",
    "drd73_fe_real_diff_vals"
   ]
  },
  {
   "cell_type": "code",
   "execution_count": null,
   "metadata": {},
   "outputs": [],
   "source": [
    "resampled_df = Resampler.shuffle(10000, drd87_fe.neuron_concated_behavior, drd73_fe.auc_df.columns, \"Rear\", \"NOT_Rear\")\n",
    "resampled_df.hist(alpha=0.5, color=\"blue\", bins=50, figsize=(70, 50));"
   ]
  },
  {
   "cell_type": "code",
   "execution_count": null,
   "metadata": {},
   "outputs": [],
   "source": [
    "drd73_classified_neurons = Resampler.non_normal_neuron_classifier(drd73_fe.auc_df, resampled_df, drd73_real_diff_vals, p_value=0.05, threshold=10)\n",
    "drd73_neurons_by_beh = Resampler.classify_by_behavior(drd73_fe_classified_neurons, drd73_real_diff_vals, \"Rear\", \"NOT_Rear\")"
   ]
  },
  {
   "cell_type": "code",
   "execution_count": null,
   "metadata": {},
   "outputs": [],
   "source": [
    "drd73_neurons_by_beh"
   ]
  }
 ],
 "metadata": {
  "kernelspec": {
   "display_name": "Python 3",
   "language": "python",
   "name": "python3"
  },
  "language_info": {
   "codemirror_mode": {
    "name": "ipython",
    "version": 3
   },
   "file_extension": ".py",
   "mimetype": "text/x-python",
   "name": "python",
   "nbconvert_exporter": "python",
   "pygments_lexer": "ipython3",
   "version": "3.6.5"
  }
 },
 "nbformat": 4,
 "nbformat_minor": 2
}
