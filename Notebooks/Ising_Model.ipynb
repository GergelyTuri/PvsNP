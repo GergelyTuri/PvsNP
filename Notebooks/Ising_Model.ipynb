{
 "cells": [
  {
   "cell_type": "markdown",
   "metadata": {},
   "source": [
    "# Ising model's application to Neuroscience\n",
    "\n",
    "#### Applying the Ising model also allows one to test whether the complex activity patterns can be accounted for by the measured pairwise correlations. Only if this is the case, can realistic interaction architectures be derived from analyses of pairwise correlations (Schneidman et al. 2003, 2006; Shlens et al. 2006).\n",
    "\n",
    "#### Let vector $V_t = [\\sigma_1, \\sigma_2, \\ldots, \\sigma_N]$ represent the firing pattern at time $t$, of a selected population of neurons, where $\\sigma_i$ equals $1$ or $−1$, representing the state of the $i$th neuron. More specifically, the state of each neuron at time $t$ is modelled as a spin variable:\n",
    "$$\\sigma_i(t) = \\left\\{ \\begin{array}{cc} \n",
    "                1 & \\hspace{5mm} \\text{spike at time } t \\\\\n",
    "                -1 & \\hspace{5mm} \\text{no spike at time } t \\\\\n",
    "                \\end{array} \\right.$$\n",
    "\n",
    "#### $P(V)$ is the probability of the network of neurons to enter the arbitrary firing pattern, $V$. There are $2^N$ possible firing patterns.\n",
    "\n",
    "#### The average firing rate of a neuron, $i$, is computed as such: \n",
    "$$\\langle \\sigma_i \\rangle = \\frac{1}{T} \\sum_{t=1}^T \\sigma_i(t)$$\n",
    "\n",
    "#### The average pairwise (equal time) firing rate for each pair of neurons, (i, j), are computed as such:\n",
    "$$\\langle \\sigma_i \\sigma_j \\rangle = \\frac{1}{T} \\sum_{t=1}^T \\sigma_i(t) \\sigma_j(t)$$\n",
    "\n",
    "#### We expect that networks have very different behaviors depending on the overall probability that neurons generate spikes, as opposed to remaining silent. Thus, our first choice of functions to constrain in our models is the set of mean spike probabilities or firing rates, which is equivalent to constraining $\\langle \\sigma_i \\rangle$, for each neuron $i$. These constraints contribute a term to the energy function:\n",
    "$$H^{(1)} = -\\sum_{i=1}^N h_i \\sigma_i$$\n",
    "\n",
    "##### *Note: Maximum entropy models that constrain only the firing rates of all the neurons (i.e., $H = H^{(1)}$) are call \"independent models\".*\n",
    "\n",
    "#### As a second contraint, we take the correlations between pairs of neurons. This corresponds to computing $C_{ij} = \\langle \\sigma_i \\sigma_j \\rangle - \\langle \\sigma_i \\rangle \\langle \\sigma_j \\rangle$ for every ordered pair of neurons, (i, j). These constraints contribute a term to the energy function:\n",
    "$$H^{(2)} = -\\frac{1}{2}\\sum_{i \\neq j} J_{ij}\\sigma_i \\sigma_j$$\n",
    "\n",
    "##### *Note: Maximum entropy models that constrain average firing rates and correlations (i.e., $H = H^{(1)} + H^{(2)}$) are known as \"pairwise models\".*\n",
    "\n",
    "#### For the sake of simplicity, we can say that the “energy” of a network of $N$ neurons can be computed as such:\n",
    "\n",
    "$$H(V) = -\\sum_{i=1}^N h_i \\sigma_i -\\frac{1}{2}\\sum_{i \\neq j} J_{ij}\\sigma_i \\sigma_j$$\n",
    "\n",
    "#### Once we compute the \"energy\" of each firing pattern in the network of neurons, we can compute a probability for each firing pattern. This is our maximum entropy distribution:\n",
    "\n",
    "$$P({V_t}) = \\frac{1}{Z(V_i)} e^{-H({V_j})}$$\n",
    "##### where $Z(V_i)$ is the partition function that ensures the distribution is normalized: $$Z(V_i) = \\sum_{i=1}^{2^N} e^{-H(V_i)}$$\n",
    "\n",
    "#### $P(V_j)$ is the probability of the firing pattern at time $j$. We utilize these values in order to compute the expectation values. Namely, we compute:\n",
    "\n",
    "##### the expectation value of individual neuron firing rates:\n",
    "$$\\langle \\sigma_i \\rangle_{model} = \\sum_{j=1}^{2^N} \\sigma_i(V_j) \\cdot P(V_j)$$\n",
    "\n",
    "##### the expectation value pairwise interactions:\n",
    "$$\\langle \\sigma_i \\sigma_j \\rangle_{model} = \\sum_{k=1}^{2^N} \\sigma_i(V_k) \\cdot \\sigma_j(V_k) \\cdot P(V_k)$$\n",
    "\n",
    "#### such that $\\sigma_i(\\sigma_j)$ is the state of $\\sigma_i$ when the network of neurons is in state $\\sigma_j$. The expected values from the model are then compared to $\\langle \\sigma_i \\rangle_{actual}$ and $\\langle \\sigma_i \\sigma_j \\rangle_{actual}$, computed from the actual data. \n",
    "\n",
    "#### $h_i$ and $J_{ij}$ must be set, such that the computed expectation values, $\\langle \\sigma_i \\rangle_{model}$ and $\\langle \\sigma_i \\sigma_j \\rangle_{model}$ match the values that were measured from the experimental data. Namely, $\\langle \\sigma_i \\rangle_{actual}$ and $\\langle \\sigma_i \\sigma_j \\rangle_{actual}$. This can be done using gradient descent, a machine learning algorithm. We start with an estimate of the average firing rate of a neuron for our model, i.e., $\\langle \\sigma_i \\rangle_{model}$. In addition, we estimate the average pairwise (equal time) firing rate for each pair of neurons, i.e., $\\langle \\sigma_i \\sigma_j \\rangle_{model}$ We utilize the following two equations in order to find the averages that agree (relatively) with the actual averages we computed from the data. More specifically, we compute:\n",
    "\n",
    "$$h_{i}^{new} = h_{i}^{old} + \\alpha \\cdot (\\langle \\sigma_i \\rangle_{actual} - \\langle \\sigma_i \\rangle_{model})$$\n",
    "\n",
    "$$J_{ij}^{new} = J_{ij}^{old} + \\alpha \\cdot (\\langle \\sigma_i \\sigma_j \\rangle_{actual} - \\langle \\sigma_i \\sigma_j \\rangle_{model})$$\n",
    "\n",
    "#### until $\\langle \\sigma_i \\rangle_{model}$ converges to $\\langle \\sigma_i \\rangle_{actual}$, within a specified degree of accuracy, and until $\\langle \\sigma_i \\sigma_j \\rangle_{model}$ converges to $\\langle \\sigma_i \\sigma_j \\rangle_{actual}$, within a specified degree of accuracy.\n",
    "\n",
    "#### The final values of $h_i$ and $J_{ij}$ are then passed into $H = -\\sum_{i=1}^N h_i \\sigma_i -\\frac{1}{2}\\sum_{i \\neq j} J_{ij}\\sigma_i \\sigma_j$ to calculate the \"energy\" of each firing pattern, and then this \"energy\" is passed into $P({V_t}) = \\frac{1}{Z(V_i)} e^{-H({V_j})}$ to compute the probability of observing each firing pattern, $V$."
   ]
  },
  {
   "cell_type": "code",
   "execution_count": 1,
   "metadata": {},
   "outputs": [],
   "source": [
    "# Bring your packages onto the path\n",
    "import os\n",
    "import sys\n",
    "sys.path.append(os.path.abspath(os.path.join(\"..\")))\n",
    "\n",
    "import math\n",
    "import numpy as np\n",
    "import pandas as pd\n",
    "from analysis.analysis_utils import FeatureExtractor\n",
    "from analysis.sig_proc import Deconvoluter\n",
    "from IPython.core.interactiveshell import InteractiveShell\n",
    "from analysis import sig_proc"
   ]
  },
  {
   "cell_type": "code",
   "execution_count": 2,
   "metadata": {},
   "outputs": [],
   "source": [
    "%matplotlib inline\n",
    "InteractiveShell.ast_node_interactivity = \"all\""
   ]
  },
  {
   "cell_type": "code",
   "execution_count": 3,
   "metadata": {},
   "outputs": [
    {
     "name": "stdout",
     "output_type": "stream",
     "text": [
      "0. full path of: EPM_NO_OFT_POPP_cellreg_dict.csv is: /Users/saveliyyusufov/Hen_Lab/Mice/DRD87/EPM_NO_OFT_POPP_cellreg_dict.csv\n",
      "1. full path of: behavior_drd87_POPP.csv is: /Users/saveliyyusufov/Hen_Lab/Mice/DRD87/behavior_drd87_POPP.csv\n",
      "2. full path of: EPM_NO_OFT_POPP_centroids.csv is: /Users/saveliyyusufov/Hen_Lab/Mice/DRD87/EPM_NO_OFT_POPP_centroids.csv\n",
      "3. full path of: D87_POPP_C_raw.csv is: /Users/saveliyyusufov/Hen_Lab/Mice/DRD87/D87_POPP_C_raw.csv\n",
      "4. full path of: D87_OFT_C_raw.csv is: /Users/saveliyyusufov/Hen_Lab/Mice/DRD87/D87_OFT_C_raw.csv\n",
      "5. full path of: Behavior_DRD87_NO.csv is: /Users/saveliyyusufov/Hen_Lab/Mice/DRD87/Behavior_DRD87_NO.csv\n",
      "6. full path of: D87_NO_C_raw.csv is: /Users/saveliyyusufov/Hen_Lab/Mice/DRD87/D87_NO_C_raw.csv\n",
      "7. full path of: Raw_EPM2_drd87.csv is: /Users/saveliyyusufov/Hen_Lab/Mice/DRD87/Raw_EPM2_drd87.csv\n",
      "8. full path of: Behavior_DRD87_EPM.csv is: /Users/saveliyyusufov/Hen_Lab/Mice/DRD87/Behavior_DRD87_EPM.csv\n"
     ]
    }
   ],
   "source": [
    "mouse_directory = os.path.join(os.path.expanduser(\"~\"), \"Hen_Lab/Mice/DRD87\")\n",
    "\n",
    "if not os.path.exists(mouse_directory):\n",
    "    print(\"The mouse directory does not exist\", file=sys.stderr)\n",
    "\n",
    "file_num = 0\n",
    "raw_files = list()\n",
    "for dir_name, subdir_list, file_list in os.walk(mouse_directory):\n",
    "    for file_name in file_list:\n",
    "        if file_name.endswith(\".csv\"):\n",
    "            print(\"{}. full path of: {} is: {}\".format(file_num, file_name, os.path.join(dir_name, file_name)))\n",
    "            file_num += 1\n",
    "            raw_files.append(os.path.join(dir_name, file_name))"
   ]
  },
  {
   "cell_type": "code",
   "execution_count": 4,
   "metadata": {},
   "outputs": [
    {
     "name": "stderr",
     "output_type": "stream",
     "text": [
      "/Users/saveliyyusufov/Hen_Lab/analysis/analysis_utils.py:29: Warning:\n",
      "\n",
      "Row multiple to downsample behavior dataframe not specified. Behavior dataframe will be downsampled by a row multiple of 3\n",
      "\n"
     ]
    }
   ],
   "source": [
    "drd87_raw_data = pd.read_csv(raw_files[7], header=None)\n",
    "deconvoluter = Deconvoluter(drd87_raw_data)\n",
    "\n",
    "beh_cols = [\n",
    "    \"Trial_time\", \"Recording_time\", \"X_center\", \"Y_center\", \"Area\", \"Areachange\", \"Elongation\", \"Distance_moved\", \"Velocity\", \"Arena_centerpoint\", \n",
    "    \"Open1_centerpoint\", \"Open2_centerpoint\", \"Closed1_centerpoint\", \"Closed2_centerpoint\", \"OpenArms_centerpoint\", \"ClosedArms_centerpoint\", \"Result_1\"\n",
    "]\n",
    "\n",
    "behavior_df = pd.read_csv(raw_files[8], header=None)\n",
    "drd87_fe = FeatureExtractor(cell_transients_df=deconvoluter.cell_transients, auc_df=deconvoluter.cell_auc_df, behavior_df=behavior_df, behavior_col_names=beh_cols)\n",
    "\n",
    "# Reindex neuron column vectors from 0, 1, 2, ..., n --> 1, 2, 3, ..., n, n+1\n",
    "deconvoluter.cell_transients.columns = [col+1 for col in deconvoluter.cell_transients.columns]\n",
    "deconvoluter.cell_auc_df.columns = [col+1 for col in deconvoluter.cell_auc_df.columns]\n",
    "\n",
    "# Convert auc dataframe to boolean matrix, where spikes is a 1 and no spike is a -1\n",
    "drd87_fe.auc_df = drd87_fe.auc_df.where(drd87_fe.auc_df == 0, 1)\n",
    "drd87_fe.auc_df = drd87_fe.auc_df.where(drd87_fe.auc_df == 1, -1)"
   ]
  },
  {
   "cell_type": "code",
   "execution_count": 5,
   "metadata": {},
   "outputs": [],
   "source": [
    "def corr_betw_neurons(dataframe, neuron_i, neuron_j):\n",
    "    running_sum = 0\n",
    "    for t, row_vector in enumerate(dataframe.itertuples()):\n",
    "        running_sum += row_vector[neuron_i] * row_vector[neuron_i]\n",
    "    \n",
    "    neuron_i_rate = dataframe[neuron_i].mean()\n",
    "    neuron_j_rate = dataframe[neuron_j].mean()\n",
    "    pairwise_corr = running_sum / len(dataframe.index)\n",
    "    J_ij = pairwise_corr - neuron_i_rate * neuron_j_rate\n",
    "    \n",
    "    return J_ij"
   ]
  },
  {
   "cell_type": "code",
   "execution_count": 6,
   "metadata": {},
   "outputs": [
    {
     "data": {
      "text/plain": [
       "0.011184095853860376"
      ]
     },
     "execution_count": 6,
     "metadata": {},
     "output_type": "execute_result"
    }
   ],
   "source": [
    "corr_betw_neurons(drd87_fe.auc_df, 16, 17)"
   ]
  },
  {
   "cell_type": "markdown",
   "metadata": {},
   "source": [
    "## Assign \"energies\" for each firing pattern in the network of neurons."
   ]
  },
  {
   "cell_type": "code",
   "execution_count": 7,
   "metadata": {},
   "outputs": [],
   "source": [
    "def independent_model(dataframe, firing_pattern, h_i):\n",
    "    df = dataframe.transpose()\n",
    "    energy = -1 * h_i * df[firing_pattern].sum()\n",
    "    return energy"
   ]
  },
  {
   "cell_type": "code",
   "execution_count": 8,
   "metadata": {},
   "outputs": [],
   "source": [
    "def pairwise_model(dataframe, firing_pattern, J_ij):\n",
    "    energy = 0\n",
    "    df = dataframe.transpose()\n",
    "    neurons = len(dataframe.columns)\n",
    "    \n",
    "    for i in range(1, neurons):\n",
    "        for j in range(i+1, neurons):\n",
    "            energy += J_ij * df.loc[i, firing_pattern] * df.loc[j, firing_pattern]\n",
    "            \n",
    "    return -0.5 * energy"
   ]
  },
  {
   "cell_type": "code",
   "execution_count": 9,
   "metadata": {},
   "outputs": [
    {
     "data": {
      "text/plain": [
       "7.0"
      ]
     },
     "execution_count": 9,
     "metadata": {},
     "output_type": "execute_result"
    }
   ],
   "source": [
    "independent_model(drd87_fe.auc_df, 894, 0.1)"
   ]
  },
  {
   "cell_type": "code",
   "execution_count": 10,
   "metadata": {},
   "outputs": [
    {
     "data": {
      "text/plain": [
       "-117.29999999999548"
      ]
     },
     "execution_count": 10,
     "metadata": {},
     "output_type": "execute_result"
    }
   ],
   "source": [
    "pairwise_model(drd87_fe.auc_df, 894, 0.1)"
   ]
  },
  {
   "cell_type": "code",
   "execution_count": 11,
   "metadata": {},
   "outputs": [],
   "source": [
    "def energy_func(dataframe, firing_pattern):\n",
    "    H_1 = independent_model(dataframe, firing_pattern, 0.1)\n",
    "    H_2 = pairwise_model(dataframe, firing_pattern, 0.1)\n",
    "    H = H_1 + H_2\n",
    "    \n",
    "    return H"
   ]
  },
  {
   "cell_type": "code",
   "execution_count": 12,
   "metadata": {},
   "outputs": [],
   "source": [
    "def assign_energies(dataframe):\n",
    "    energies = {}\n",
    "    for firing_pattern, row in enumerate(dataframe.itertuples()):  \n",
    "        energy = energy_func(dataframe, firing_pattern)\n",
    "        energies[firing_pattern] = energy\n",
    "        \n",
    "    return energies"
   ]
  },
  {
   "cell_type": "code",
   "execution_count": 13,
   "metadata": {},
   "outputs": [],
   "source": [
    "energies = assign_energies(drd87_fe.auc_df)"
   ]
  },
  {
   "cell_type": "code",
   "execution_count": 14,
   "metadata": {},
   "outputs": [],
   "source": [
    "def assign_probabilities():\n",
    "    pass"
   ]
  }
 ],
 "metadata": {
  "kernelspec": {
   "display_name": "Python 3",
   "language": "python",
   "name": "python3"
  },
  "language_info": {
   "codemirror_mode": {
    "name": "ipython",
    "version": 3
   },
   "file_extension": ".py",
   "mimetype": "text/x-python",
   "name": "python",
   "nbconvert_exporter": "python",
   "pygments_lexer": "ipython3",
   "version": "3.6.6"
  }
 },
 "nbformat": 4,
 "nbformat_minor": 2
}
