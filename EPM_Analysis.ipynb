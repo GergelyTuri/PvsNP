{
 "cells": [
  {
   "cell_type": "markdown",
   "metadata": {},
   "source": [
    "# Elevated-Plus Maze Analysis"
   ]
  },
  {
   "cell_type": "code",
   "execution_count": 1,
   "metadata": {},
   "outputs": [],
   "source": [
    "from analysis import analysis_utils as au\n",
    "from analysis import resampling as rs\n",
    "from IPython.core.interactiveshell import InteractiveShell\n",
    "import matplotlib.pyplot as plt\n",
    "import numpy as np\n",
    "import os\n",
    "import pandas as pd\n",
    "import random\n",
    "from scipy import stats\n",
    "import seaborn as sns\n",
    "import SigProc\n",
    "import sys"
   ]
  },
  {
   "cell_type": "code",
   "execution_count": 2,
   "metadata": {},
   "outputs": [],
   "source": [
    "%matplotlib inline\n",
    "InteractiveShell.ast_node_interactivity = \"all\""
   ]
  },
  {
   "cell_type": "code",
   "execution_count": 3,
   "metadata": {},
   "outputs": [],
   "source": [
    "sns.set_style(\"darkgrid\")"
   ]
  },
  {
   "cell_type": "code",
   "execution_count": 4,
   "metadata": {},
   "outputs": [
    {
     "name": "stdout",
     "output_type": "stream",
     "text": [
      "0. full path of: behavior_drd87.csv is: /Users/saveliyyusufov/Hen_Lab/Mice/EPM/drd87/behavior_drd87.csv\n",
      "1. full path of: Raw_EPM_drd87.csv is: /Users/saveliyyusufov/Hen_Lab/Mice/EPM/drd87/Raw_EPM_drd87.csv\n",
      "2. full path of: Raw_EPM_drd73.csv is: /Users/saveliyyusufov/Hen_Lab/Mice/EPM/drd73/Raw_EPM_drd73.csv\n",
      "3. full path of: behavior_drd73.csv is: /Users/saveliyyusufov/Hen_Lab/Mice/EPM/drd73/behavior_drd73.csv\n",
      "4. full path of: Raw_EPM_drd77.csv is: /Users/saveliyyusufov/Hen_Lab/Mice/EPM/drd77/Raw_EPM_drd77.csv\n",
      "5. full path of: behavior_drd77.csv is: /Users/saveliyyusufov/Hen_Lab/Mice/EPM/drd77/behavior_drd77.csv\n",
      "6. full path of: behavior_drd46.csv is: /Users/saveliyyusufov/Hen_Lab/Mice/EPM/drd46/behavior_drd46.csv\n",
      "7. full path of: Raw_EPM_drd46.csv is: /Users/saveliyyusufov/Hen_Lab/Mice/EPM/drd46/Raw_EPM_drd46.csv\n"
     ]
    }
   ],
   "source": [
    "mouse_directory = os.path.expanduser(\"~\") + \"/Hen_Lab/Mice/EPM\"\n",
    "\n",
    "if not os.path.exists(mouse_directory):\n",
    "    print(\"The mouse directory does not exist\", file=sys.stderr)\n",
    "\n",
    "file_num = 0\n",
    "raw_files = list()\n",
    "for dir_name, subdir_list, file_list in os.walk(mouse_directory):\n",
    "    for file_name in file_list:\n",
    "        if file_name.endswith(\".csv\"):\n",
    "            print(\"{}. full path of: {} is: {}\".format(file_num, file_name, dir_name+\"/\"+file_name))\n",
    "            file_num += 1\n",
    "            raw_files.append(dir_name+\"/\"+file_name)"
   ]
  },
  {
   "cell_type": "code",
   "execution_count": 5,
   "metadata": {
    "scrolled": false
   },
   "outputs": [],
   "source": [
    "data = pd.read_csv(raw_files[1], header=None)\n",
    "_, AUC_dataframe, cell_transients_dataframe = SigProc.detect_ca_transients_mossy(data, 2, 0.5, 0.2, 10)"
   ]
  },
  {
   "cell_type": "code",
   "execution_count": 6,
   "metadata": {},
   "outputs": [],
   "source": [
    "behavior_column_names = ['Trial_time', 'Recording_time', 'X_center', 'Y_center', 'Area', 'Areachange', \n",
    "                         'Elongation', 'Distance_moved', 'Velocity', 'Arena_centerpoint',\n",
    "                         'Open1_centerpoint', 'Open2_centerpoint',\n",
    "                         'Closed1_centerpoint', 'Closed2_centerpoint',\n",
    "                         'OpenArms_centerpoint', 'ClosedArms_centerpoint', 'Result_1']\n",
    "\n",
    "behavior_df = pd.read_csv(raw_files[0], header=None)\n",
    "behavior_df.columns = behavior_column_names\n",
    "behavior_df = au.downsample_dataframe(behavior_df, 3)\n",
    "\n",
    "# Define what constitutes as a running frame\n",
    "VELOCITY_CUTOFF = 4;\n",
    "\n",
    "# Adds \"Running_frames\" column to the end of the behavior Dataframe \n",
    "behavior_df[\"Running_frames\"] = np.where(behavior_df[\"Velocity\"] > VELOCITY_CUTOFF, 1, 0)"
   ]
  },
  {
   "cell_type": "code",
   "execution_count": 7,
   "metadata": {},
   "outputs": [],
   "source": [
    "neuron_concated_behavior = AUC_dataframe.join(behavior_df, how=\"left\")"
   ]
  },
  {
   "cell_type": "code",
   "execution_count": 8,
   "metadata": {},
   "outputs": [
    {
     "data": {
      "text/html": [
       "<div>\n",
       "<style scoped>\n",
       "    .dataframe tbody tr th:only-of-type {\n",
       "        vertical-align: middle;\n",
       "    }\n",
       "\n",
       "    .dataframe tbody tr th {\n",
       "        vertical-align: top;\n",
       "    }\n",
       "\n",
       "    .dataframe thead th {\n",
       "        text-align: right;\n",
       "    }\n",
       "</style>\n",
       "<table border=\"1\" class=\"dataframe\">\n",
       "  <thead>\n",
       "    <tr style=\"text-align: right;\">\n",
       "      <th></th>\n",
       "      <th>neuron1</th>\n",
       "      <th>neuron2</th>\n",
       "      <th>neuron3</th>\n",
       "      <th>neuron4</th>\n",
       "      <th>neuron5</th>\n",
       "      <th>neuron6</th>\n",
       "      <th>neuron7</th>\n",
       "      <th>neuron8</th>\n",
       "      <th>neuron9</th>\n",
       "      <th>neuron10</th>\n",
       "      <th>...</th>\n",
       "      <th>neuron60</th>\n",
       "      <th>neuron61</th>\n",
       "      <th>neuron62</th>\n",
       "      <th>neuron63</th>\n",
       "      <th>neuron64</th>\n",
       "      <th>neuron65</th>\n",
       "      <th>neuron66</th>\n",
       "      <th>neuron67</th>\n",
       "      <th>neuron68</th>\n",
       "      <th>neuron69</th>\n",
       "    </tr>\n",
       "  </thead>\n",
       "  <tbody>\n",
       "    <tr>\n",
       "      <th>d</th>\n",
       "      <td>-4.19561</td>\n",
       "      <td>6.9537</td>\n",
       "      <td>5.86234</td>\n",
       "      <td>12.2911</td>\n",
       "      <td>7.6943</td>\n",
       "      <td>-1.0277</td>\n",
       "      <td>1.02405</td>\n",
       "      <td>-0.860894</td>\n",
       "      <td>-3.20938</td>\n",
       "      <td>2.44695</td>\n",
       "      <td>...</td>\n",
       "      <td>9.97405</td>\n",
       "      <td>-1.6101</td>\n",
       "      <td>6.50104</td>\n",
       "      <td>0.434317</td>\n",
       "      <td>5.00547</td>\n",
       "      <td>9.15386</td>\n",
       "      <td>5.86696</td>\n",
       "      <td>0.973809</td>\n",
       "      <td>-1.97104</td>\n",
       "      <td>13.037</td>\n",
       "    </tr>\n",
       "  </tbody>\n",
       "</table>\n",
       "<p>1 rows × 69 columns</p>\n",
       "</div>"
      ],
      "text/plain": [
       "   neuron1 neuron2  neuron3  neuron4 neuron5 neuron6  neuron7   neuron8  \\\n",
       "d -4.19561  6.9537  5.86234  12.2911  7.6943 -1.0277  1.02405 -0.860894   \n",
       "\n",
       "   neuron9 neuron10   ...    neuron60 neuron61 neuron62  neuron63 neuron64  \\\n",
       "d -3.20938  2.44695   ...     9.97405  -1.6101  6.50104  0.434317  5.00547   \n",
       "\n",
       "  neuron65 neuron66  neuron67 neuron68 neuron69  \n",
       "d  9.15386  5.86696  0.973809 -1.97104   13.037  \n",
       "\n",
       "[1 rows x 69 columns]"
      ]
     },
     "execution_count": 8,
     "metadata": {},
     "output_type": "execute_result"
    }
   ],
   "source": [
    "real_diff_of_means_df = au.set_real_diff_df(neuron_concated_behavior, AUC_dataframe, \"OpenArms_centerpoint\", \"ClosedArms_centerpoint\")\n",
    "real_diff_of_means_df"
   ]
  },
  {
   "cell_type": "code",
   "execution_count": 9,
   "metadata": {},
   "outputs": [],
   "source": [
    "resampled_df = rs.shuffle(20000, neuron_concated_behavior, AUC_dataframe, \"OpenArms_centerpoint\", \"ClosedArms_centerpoint\")"
   ]
  },
  {
   "cell_type": "code",
   "execution_count": null,
   "metadata": {},
   "outputs": [],
   "source": [
    "resampled_df.hist(alpha=0.5, color='g', density=True, figsize=(70, 50));"
   ]
  },
  {
   "cell_type": "code",
   "execution_count": null,
   "metadata": {},
   "outputs": [],
   "source": [
    "classified_neurons = rs.non_normal_neuron_classifier(AUC_dataframe, resampled_df, real_diff_of_means_df, p_value=0.125, threshold=10)"
   ]
  },
  {
   "cell_type": "code",
   "execution_count": null,
   "metadata": {},
   "outputs": [],
   "source": [
    "deeper_classification = classified_neurons.copy()\n",
    "\n",
    "for neuron in deeper_classification:\n",
    "    if real_diff_of_means_df[neuron].values > 0:\n",
    "        if deeper_classification[neuron] == \"selective\":\n",
    "            deeper_classification[neuron] = \"OpenArms_centerpoint\"\n",
    "    elif real_diff_of_means_df[neuron].values < 0:\n",
    "        if deeper_classification[neuron] == \"selective\":\n",
    "            deeper_classification[neuron] = \"ClosedArms_centerpoint\""
   ]
  },
  {
   "cell_type": "code",
   "execution_count": null,
   "metadata": {},
   "outputs": [],
   "source": [
    "deeper_classification"
   ]
  },
  {
   "cell_type": "code",
   "execution_count": null,
   "metadata": {},
   "outputs": [],
   "source": [
    "import plotly\n",
    "import plotly.graph_objs as go\n",
    "\n",
    "def plot_pie_chart(dict_of_classifications, *labels):\n",
    "    values = [sum([1 for classification in dict_of_classifications.values() if classification == \"OpenArms_centerpoint\"])]\n",
    "    values.append(sum([1 for classification in dict_of_classifications.values() if classification == \"ClosedArms_centerpoint\"]))\n",
    "    values.append(sum([1 for classification in dict_of_classifications.values() if classification == \"not-selective\"]))\n",
    "    values.append(sum([1 for classification in dict_of_classifications.values() if classification == \"unclassified\"]))\n",
    "    \n",
    "    trace = go.Pie(labels=labels, values=values)\n",
    "    plotly.offline.iplot([trace])"
   ]
  },
  {
   "cell_type": "code",
   "execution_count": null,
   "metadata": {},
   "outputs": [],
   "source": [
    "plot_pie_chart(deeper_classification, \"OpenArms_centerpoint\", \"ClosedArms_centerpoint\", \"not-selective\", \"unclassified\")"
   ]
  },
  {
   "cell_type": "code",
   "execution_count": null,
   "metadata": {},
   "outputs": [],
   "source": [
    "normal_classification = rs.normal_neuron_classifier(AUC_dataframe, resampled_df, real_diff_of_means_df, behavior1_name=\"OpenArms_centerpoint\", behavior2_name=\"ClosedArms_centerpoint\", high_tail=87.5, low_tail=5, threshold=10)"
   ]
  },
  {
   "cell_type": "code",
   "execution_count": null,
   "metadata": {},
   "outputs": [],
   "source": [
    "normal_classification"
   ]
  },
  {
   "cell_type": "code",
   "execution_count": null,
   "metadata": {},
   "outputs": [],
   "source": [
    "plot_pie_chart(normal_classification, \"OpenArms_centerpoint\", \"ClosedArms_centerpoint\", \"not-selective\", \"unclassified\")"
   ]
  },
  {
   "cell_type": "markdown",
   "metadata": {},
   "source": [
    "# Plot scatterplot of neurons, where $x$-axis is the closedarms rate, $y$-axis is the openarms rate, and the entire scatterplot is bisected by the line $y=x$"
   ]
  },
  {
   "cell_type": "code",
   "execution_count": null,
   "metadata": {},
   "outputs": [],
   "source": [
    "def activity_by_neurons(concated_df, neuron_names, *behaviors, frame_rate=10):\n",
    "    \"\"\"Computes the neuron activity rates for given behaviors\n",
    "    \n",
    "    This function computes the rates for a given animal's activity and  \n",
    "    neuron, given some set of behaviors.\n",
    "\n",
    "    Args: \n",
    "        concated_df: a concatenated pandas DataFrame of the neuron activity and \n",
    "        the corresponding behavior, for a given animal.\n",
    "        neuron_names: the names of the neurons whose rates are to be computed.\n",
    "        behaviors: a list of the behaviors for which to compute the activity rates. \n",
    "        frame_rate: the framerate to multiply the rate by, default is 10.\n",
    "\n",
    "    Returns: \n",
    "        activity_df: a pandas DataFrame of the neuron activity rates.\n",
    "    \"\"\"\n",
    "    activity_df = pd.DataFrame(columns=behaviors)\n",
    "    \n",
    "    for behavior in behaviors:\n",
    "        if behavior in concated_df.columns:\n",
    "            activity_df.loc[:, behavior] = frame_rate * concated_df.loc[concated_df[behavior] != 0, neuron_names].mean()\n",
    "        elif '&' in behavior:\n",
    "            beh1 = behavior.split('&')[0]\n",
    "            beh2 = behavior.split('&')[1]\n",
    "            activity_df.loc[:, behavior] = frame_rate * concated_df.loc[(concated_df[beh1] != 0) & ((concated_df[beh2] != 0)), neuron_names].mean()\n",
    "        elif '|' in behavior:\n",
    "            beh1 = behavior.split('|')[0]\n",
    "            beh2 = behavior.split('|')[1]\n",
    "            activity_df.loc[:, behavior] = frame_rate * concated_df.loc[(concated_df[beh1] != 0) | ((concated_df[beh2] != 0)), neuron_names].mean()\n",
    "\n",
    "    return activity_df"
   ]
  },
  {
   "cell_type": "code",
   "execution_count": null,
   "metadata": {},
   "outputs": [],
   "source": [
    "# activity_rates_df = activity_by_neurons(neuron_concated_behavior, AUC_dataframe.columns, \"ClosedArms_centerpoint\", \"OpenArms_centerpoint\", \"OpenArms_centerpoint&Running_frames\", \"ClosedArms_centerpoint&Running_frames\", \"Running_frames\")\n",
    "activity_rates_df = activity_by_neurons(neuron_concated_behavior, AUC_dataframe.columns, \"ClosedArms_centerpoint\", \"OpenArms_centerpoint\")"
   ]
  },
  {
   "cell_type": "code",
   "execution_count": null,
   "metadata": {},
   "outputs": [],
   "source": [
    "for neuron in classified_neurons:\n",
    "    if deeper_classification[neuron] == \"OpenArms_centerpoint\":\n",
    "        print(neuron)"
   ]
  },
  {
   "cell_type": "code",
   "execution_count": null,
   "metadata": {},
   "outputs": [],
   "source": [
    "# Create traces\n",
    "\n",
    "# Plot selective neurons\n",
    "trace0 = go.Scatter(\n",
    "    x = [activity_rates_df.loc[neuron, \"OpenArms_centerpoint\"] for neuron in deeper_classification if deeper_classification[neuron] == \"OpenArms_centerpoint\"],\n",
    "    y = [activity_rates_df.loc[neuron, \"ClosedArms_centerpoint\"] for neuron in deeper_classification if deeper_classification[neuron] == \"ClosedArms_centerpoint\"],\n",
    "    text = [neuron for neuron in deeper_classification if deeper_classification[neuron] == \"OpenArms_centerpoint\"],\n",
    "    mode = \"markers\",\n",
    "    name = \"selective\",\n",
    "    marker = dict(\n",
    "        color = 'rgb(255, 10, 193)'\n",
    "    )\n",
    ")\n",
    "\n",
    "# Plot not-selective neurons\n",
    "trace1 = go.Scatter(\n",
    "    x = [activity_rates_df.loc[neuron, \"OpenArms_centerpoint\"] for neuron in deeper_classification if deeper_classification[neuron] == \"not-selective\"],\n",
    "    y = [activity_rates_df.loc[neuron, \"ClosedArms_centerpoint\"] for neuron in deeper_classification if deeper_classification[neuron] == \"not-selective\"],\n",
    "    text = [neuron for neuron in deeper_classification if deeper_classification[neuron] == \"not-selective\"],\n",
    "    mode = \"markers\",\n",
    "    name = \"not-selective\",\n",
    "    marker = dict(\n",
    "        color = 'rgb(105, 105, 105)'\n",
    "    )\n",
    ")\n",
    "\n",
    "# Plot unclassified neurons\n",
    "trace2 = go.Scatter(\n",
    "    x = [activity_rates_df.loc[neuron, \"OpenArms_centerpoint\"] for neuron in deeper_classification if deeper_classification[neuron] == \"unclassified\"],\n",
    "    y = [activity_rates_df.loc[neuron, \"ClosedArms_centerpoint\"] for neuron in deeper_classification if deeper_classification[neuron] == \"unclassified\"],\n",
    "    text = [neuron for neuron in classified_neurons if deeper_classification[neuron] == \"unclassified\"],\n",
    "    mode = \"markers\",\n",
    "    name = \"unclassified\",\n",
    "    marker = dict(\n",
    "        color = \"rgb(255, 69, 0)\"\n",
    "    )\n",
    ")\n",
    "\n",
    "# Plot y=x line\n",
    "trace3 = go.Scatter(\n",
    "    x = np.linspace(0, max(activity_rates_df[\"OpenArms_centerpoint\"].max(), activity_rates_df[\"ClosedArms_centerpoint\"].max())),\n",
    "    y = np.linspace(0, max(activity_rates_df[\"OpenArms_centerpoint\"].max(), activity_rates_df[\"ClosedArms_centerpoint\"].max())),\n",
    "    mode = 'lines',\n",
    "    name = 'y=x'\n",
    ")\n",
    "\n",
    "data = [trace0, trace1, trace2, trace3]\n",
    "layout = go.Layout(\n",
    "    width=800,\n",
    "    height=800,\n",
    "    title=\"Open-arms neuron rates vs Closed-arms neuron rates\",\n",
    ")\n",
    "fig = go.Figure(data=data, layout=layout)\n",
    "\n",
    "plotly.offline.iplot(fig)"
   ]
  }
 ],
 "metadata": {
  "kernelspec": {
   "display_name": "Python 3",
   "language": "python",
   "name": "python3"
  },
  "language_info": {
   "codemirror_mode": {
    "name": "ipython",
    "version": 3
   },
   "file_extension": ".py",
   "mimetype": "text/x-python",
   "name": "python",
   "nbconvert_exporter": "python",
   "pygments_lexer": "ipython3",
   "version": "3.6.5"
  }
 },
 "nbformat": 4,
 "nbformat_minor": 2
}
