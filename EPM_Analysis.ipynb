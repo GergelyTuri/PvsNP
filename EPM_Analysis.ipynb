{
 "cells": [
  {
   "cell_type": "markdown",
   "metadata": {},
   "source": [
    "# EPM Analysis\n",
    "### Requires MossyEPM struct containing cell activity and behavior matrices for each mouse. Behavior is 30 fps, cell activity is 20 fps for drd73, drd77 and 10 fps for drd87, drd46"
   ]
  },
  {
   "cell_type": "code",
   "execution_count": null,
   "metadata": {
    "collapsed": true
   },
   "outputs": [],
   "source": [
    "import numpy as np\n",
    "import pandas as pd\n",
    "import seaborn as sns\n",
    "import matplotlib.pyplot as plt\n",
    "import matplotlib.style as style\n",
    "\n",
    "style.use('seaborn')\n",
    "\n",
    "%matplotlib inline"
   ]
  },
  {
   "cell_type": "code",
   "execution_count": null,
   "metadata": {},
   "outputs": [],
   "source": [
    "# TODO: Automate the column numbering\n",
    "activity_column_names = ['neuron 1', 'neuron 2', 'neuron 3', 'neuron 4', 'neuron 5', \n",
    "                         'neuron 6', 'neuron 7', 'neuron 8', 'neuron 9', 'neuron 10']\n",
    "\n",
    "behavior_column_names = ['Trial time', 'Recording time', 'X center', 'Y center', 'Area', 'Areachange', \n",
    "                         'Elongation', 'Distance moved', 'Velocity', 'In zone(Arena / center-point)',\n",
    "                         'In zone(Open1 / center-point)', 'In zone(Open2 / center-point)',\n",
    "                         'In zone(Closed1 / center-point)', 'In zone(Closed2 / center-point)',\n",
    "                         'In zone(OpenArms / center-point)', 'In zone(ClosedArms / center-point)', 'Result 1']\n",
    "\n",
    "activity_df = pd.read_csv('~/Hen_Lab/Mice/drd46_experiments/activity_drd46.csv', header=None)\n",
    "behavior_df = pd.read_csv('~/Hen_Lab/Mice/drd46_experiments/behavior_drd46.csv', header=None)\n",
    "\n",
    "# Save only every nth row in order to downsample behavior Dataframes from 30fps -> 10fps\n",
    "ROW_MULTIPLE = 3\n",
    "behavior_df.drop(behavior_df.index[[i for i in range(0, len(behavior_df.index)) if i % ROW_MULTIPLE != 0]], inplace=True)\n",
    "\n",
    "# For the activity Dataframe, we Change column names to corresponding neuron names \n",
    "activity_df.columns = activity_column_names\n",
    "\n",
    "# Change column names to the behavior column names found in the MossyEPM, MATLAB struct\n",
    "behavior_df.columns = behavior_column_names\n",
    "\n",
    "# Fix indexing after downsample\n",
    "behavior_df.reset_index(drop=True, inplace=True)\n",
    "\n",
    "# Make the behavior Dataframe indexed by Recording time\n",
    "# behavior_df.set_index('Recording time', inplace=True)\n",
    "\n",
    "# Make the behavior Dataframe and the activity Dataframe have the same amount of rows \n",
    "if len(behavior_df.index) > len(activity_df.index):\n",
    "    diff = len(behavior_df.index) - len(activity_df.index)\n",
    "    behavior_df = behavior_df[:-diff]\n",
    "elif len(behavior_df.index) < len(activity_df.index):\n",
    "    diff = len(activity_df.index) - len(behavior_df.index)\n",
    "    activity_df = activity_df[:-diff]\n",
    "\n",
    "# Define running frames\n",
    "VELOCITY_CUTOFF = 4;\n",
    "\n",
    "# Adds column to the end of the behavior Dataframe and make each cell in that column a 0 \n",
    "# if the corresponding velocity < VELOCITY_CUTOFF or a 1 if the corresponding velocity >= VELOCITY_CUTOFF\n",
    "behavior_df['Running frames'] = [1 if velocity > VELOCITY_CUTOFF else 0 for velocity in behavior_df['Velocity'].tolist()]\n",
    "\n",
    "# Calculate rates by arm, running, and time period\n",
    "\n",
    "# Divide session into this many bins\n",
    "TIME_BIN_FACTOR = 3; \n",
    "\n",
    "\"\"\"\n",
    "activity = EPM_activity.(mice{i});\n",
    "behavior = EPM_behavior_ds.(mice{i});\n",
    "\n",
    "# Rates for entire session\n",
    "[AUCrates.(mice{i}), ~] = mc_epm_calc_beh_rates(behavior, activity, 'EPM');\n",
    "AUCrates.(mice{i}) = 10 * AUCrates.(mice{i});\n",
    "\n",
    "# AUCrates_binned = NaN;\n",
    "\n",
    "bin_length = floor(size(activity, 1) / time_bin_factor);\n",
    "\n",
    "for j = in range(0, TIME_BIN_FACTOR):\n",
    "    start_frame = (j - 1) * bin_length + 1;\n",
    "    end_frame = j * bin_length;\n",
    "    [AUCrates_binned.(mice{i}){j}, AUCtotal_binned.(mice{i}){j}] = mc_epm_calc_beh_rates(behavior(start_frame:end_frame, :), activity(start_frame:end_frame, :), 'EPM');  \n",
    "\n",
    "    # Multiply by frame rate to get rate in seconds\n",
    "    AUCrates_binned.(mice{i}){j} = 10 * AUCrates_binned.(mice{i}){j}; \n",
    "    \n",
    "    # Divide by bin_length to get total average total rate per bin\n",
    "    # AUCtotal_binned.(mice{i}){j} = 10*AUCtotal_binned.(mice{i}){j} / bin_length;\n",
    "    \n",
    "    AUCtotal_binned_rate.(mice{i}){j} = 10 * sum(AUCtotal_binned.(mice{i}){j}(:, 1:3), 2) / bin_length; \n",
    "\n",
    "# AUCtotal_binned_rate.(mice{i}) = cell2mat(AUCtotal_binned_rate.(mice{i}));\n",
    "\n",
    "# Create array with all cells by behavior over the whole session \n",
    "for i = 1:numel(mice)\n",
    "    if i == 1:\n",
    "        AUC_all_cells = AUCrates.(mice{i});\n",
    "    else:\n",
    "        AUC_all_cells = [AUC_all_cells; AUCrates.(mice{i})]\n",
    "\n",
    "# Create array with all neurons for each time bin, irrespective of behavior\n",
    "for i = 1:numel(mice):\n",
    "    if i == 1:\n",
    "        AUC_bin_all_cells = AUCtotal_binned_rate.(mice{i})\n",
    "    else:\n",
    "        AUC_bin_all_cells = [AUC_bin_all_cells; AUCtotal_binned_rate.(mice{i})]\n",
    "\n",
    "# Calculate time bin averages and SEM per animal\n",
    "for i = 1:numel(mice):\n",
    "    AUC_all_cells_binned = AUCrates.rates_binned.(mice{i});\n",
    "    AUC_bin_means(i,:) = mean(AUCtotal_binned_rate.(mice{i}));\n",
    "    AUC_bin_SE(i,:) = std(AUCtotal_binned_rate.(mice{i}))/sqrt(size(AUCrates.(mice{i}),1));\n",
    "\n",
    "# Store 10 col. averages per time bin (Nbins x 10)\n",
    "for i = 1:numel(mice):\n",
    "    for j in range(0, TIME_BIN_FACTOR):\n",
    "        sum_closed(j) = sum_closed(j) + sum(AUCrates_binned.(mice{i}){j}(1), 2);\n",
    "        sum_open(j) = sum_open(j) + sum(AUCrates_binned.(mice{i}){j}(2), 2);    \n",
    "\"\"\"\n",
    "\n",
    "# *** TEST ***\n",
    "# activity_df\n",
    "# behavior_df\n",
    "result = pd.concat([activity_df, behavior_df], axis=1)\n",
    "# result"
   ]
  },
  {
   "cell_type": "code",
   "execution_count": 1,
   "metadata": {
    "scrolled": false
   },
   "outputs": [
    {
     "ename": "NameError",
     "evalue": "name 'behavior_df' is not defined",
     "output_type": "error",
     "traceback": [
      "\u001b[0;31m---------------------------------------------------------------------------\u001b[0m",
      "\u001b[0;31mNameError\u001b[0m                                 Traceback (most recent call last)",
      "\u001b[0;32m<ipython-input-1-b9cf4027d33b>\u001b[0m in \u001b[0;36m<module>\u001b[0;34m()\u001b[0m\n\u001b[0;32m----> 1\u001b[0;31m \u001b[0mrun_vector\u001b[0m \u001b[0;34m=\u001b[0m \u001b[0mbehavior_df\u001b[0m\u001b[0;34m[\u001b[0m\u001b[0;34m'Running frames'\u001b[0m\u001b[0;34m]\u001b[0m\u001b[0;34m[\u001b[0m\u001b[0mbehavior_df\u001b[0m\u001b[0;34m[\u001b[0m\u001b[0;34m'Running frames'\u001b[0m\u001b[0;34m]\u001b[0m \u001b[0;34m!=\u001b[0m \u001b[0;36m0\u001b[0m\u001b[0;34m]\u001b[0m\u001b[0;34m.\u001b[0m\u001b[0mindex\u001b[0m\u001b[0;34m.\u001b[0m\u001b[0mtolist\u001b[0m\u001b[0;34m(\u001b[0m\u001b[0;34m)\u001b[0m\u001b[0;34m\u001b[0m\u001b[0m\n\u001b[0m\u001b[1;32m      2\u001b[0m \u001b[0mno_run_vector\u001b[0m \u001b[0;34m=\u001b[0m \u001b[0mbehavior_df\u001b[0m\u001b[0;34m[\u001b[0m\u001b[0;34m'Running frames'\u001b[0m\u001b[0;34m]\u001b[0m\u001b[0;34m[\u001b[0m\u001b[0mbehavior_df\u001b[0m\u001b[0;34m[\u001b[0m\u001b[0;34m'Running frames'\u001b[0m\u001b[0;34m]\u001b[0m \u001b[0;34m==\u001b[0m \u001b[0;36m0\u001b[0m\u001b[0;34m]\u001b[0m\u001b[0;34m.\u001b[0m\u001b[0mindex\u001b[0m\u001b[0;34m.\u001b[0m\u001b[0mtolist\u001b[0m\u001b[0;34m(\u001b[0m\u001b[0;34m)\u001b[0m\u001b[0;34m\u001b[0m\u001b[0m\n\u001b[1;32m      3\u001b[0m \u001b[0;34m\u001b[0m\u001b[0m\n\u001b[1;32m      4\u001b[0m \u001b[0mrun_sums\u001b[0m \u001b[0;34m=\u001b[0m \u001b[0;34m[\u001b[0m\u001b[0mactivity_df\u001b[0m\u001b[0;34m[\u001b[0m\u001b[0mcolumn\u001b[0m\u001b[0;34m]\u001b[0m\u001b[0;34m[\u001b[0m\u001b[0mrun_vector\u001b[0m\u001b[0;34m]\u001b[0m\u001b[0;34m.\u001b[0m\u001b[0msum\u001b[0m\u001b[0;34m(\u001b[0m\u001b[0;34m)\u001b[0m \u001b[0;32mfor\u001b[0m \u001b[0mcolumn\u001b[0m \u001b[0;32min\u001b[0m \u001b[0mactivity_df\u001b[0m\u001b[0;34m]\u001b[0m\u001b[0;34m\u001b[0m\u001b[0m\n\u001b[1;32m      5\u001b[0m \u001b[0mno_run_sums\u001b[0m \u001b[0;34m=\u001b[0m \u001b[0;34m[\u001b[0m\u001b[0mactivity_df\u001b[0m\u001b[0;34m[\u001b[0m\u001b[0mcolumn\u001b[0m\u001b[0;34m]\u001b[0m\u001b[0;34m[\u001b[0m\u001b[0mno_run_vector\u001b[0m\u001b[0;34m]\u001b[0m\u001b[0;34m.\u001b[0m\u001b[0msum\u001b[0m\u001b[0;34m(\u001b[0m\u001b[0;34m)\u001b[0m \u001b[0;32mfor\u001b[0m \u001b[0mcolumn\u001b[0m \u001b[0;32min\u001b[0m \u001b[0mactivity_df\u001b[0m\u001b[0;34m]\u001b[0m\u001b[0;34m\u001b[0m\u001b[0m\n",
      "\u001b[0;31mNameError\u001b[0m: name 'behavior_df' is not defined"
     ]
    }
   ],
   "source": [
    "run_vector = behavior_df['Running frames'][behavior_df['Running frames'] != 0].index.tolist()\n",
    "no_run_vector = behavior_df['Running frames'][behavior_df['Running frames'] == 0].index.tolist()\n",
    "\n",
    "run_sums = [activity_df[column][run_vector].sum() for column in activity_df]\n",
    "no_run_sums = [activity_df[column][no_run_vector].sum() for column in activity_df]   \n",
    "\n",
    "run_sums1 = [10 * run_sums[i] / len(run_vector) for i in range(0, len(run_sums))]\n",
    "no_run_sums1 = [10 * no_run_sums[i] / len(no_run_vector) for i in range(0, len(no_run_sums))]\n",
    "print(run_sums1)\n",
    "print(no_run_sums1)"
   ]
  },
  {
   "cell_type": "code",
   "execution_count": null,
   "metadata": {},
   "outputs": [],
   "source": [
    "# Compute the correlation matrix\n",
    "corr = result.corr()\n",
    "\n",
    "# Generate a mask for the upper triangle\n",
    "mask = np.zeros_like(corr, dtype=np.bool)\n",
    "mask[np.triu_indices_from(mask)] = True\n",
    "\n",
    "# Set up the matplotlib figure\n",
    "f, ax = plt.subplots(figsize=(11, 9))\n",
    "\n",
    "# Generate a custom diverging colormap\n",
    "cmap = sns.diverging_palette(220, 10, as_cmap=True)\n",
    "\n",
    "# Draw the heatmap with the mask and correct aspect ratio\n",
    "sns.heatmap(corr, mask=mask, cmap=cmap, vmax=.3, center=0, square=True, linewidths=.5, cbar_kws={\"shrink\": .5});"
   ]
  },
  {
   "cell_type": "code",
   "execution_count": null,
   "metadata": {
    "collapsed": true
   },
   "outputs": [],
   "source": []
  }
 ],
 "metadata": {
  "kernelspec": {
   "display_name": "Python 3",
   "language": "python",
   "name": "python3"
  },
  "language_info": {
   "codemirror_mode": {
    "name": "ipython",
    "version": 3
   },
   "file_extension": ".py",
   "mimetype": "text/x-python",
   "name": "python",
   "nbconvert_exporter": "python",
   "pygments_lexer": "ipython3",
   "version": "3.6.3"
  }
 },
 "nbformat": 4,
 "nbformat_minor": 2
}
