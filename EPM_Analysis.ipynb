{
 "cells": [
  {
   "cell_type": "markdown",
   "metadata": {},
   "source": [
    "# Elevated-Plus Maze Analysis"
   ]
  },
  {
   "cell_type": "code",
   "execution_count": null,
   "metadata": {},
   "outputs": [],
   "source": [
    "import analysis_utils as au\n",
    "from IPython.core.interactiveshell import InteractiveShell\n",
    "from multiprocessing import Process\n",
    "from multiprocessing import Queue\n",
    "import numpy as np\n",
    "import os\n",
    "import pandas as pd\n",
    "import random\n",
    "from scipy import stats\n",
    "import seaborn as sns\n",
    "import SigProc\n",
    "import sys"
   ]
  },
  {
   "cell_type": "code",
   "execution_count": null,
   "metadata": {},
   "outputs": [],
   "source": [
    "%matplotlib inline\n",
    "InteractiveShell.ast_node_interactivity = \"all\""
   ]
  },
  {
   "cell_type": "code",
   "execution_count": null,
   "metadata": {},
   "outputs": [],
   "source": [
    "sns.set_style(\"darkgrid\")"
   ]
  },
  {
   "cell_type": "code",
   "execution_count": null,
   "metadata": {},
   "outputs": [],
   "source": [
    "mouse_directory = os.path.expanduser(\"~\") + \"/Hen_Lab/Mice/EPM\"\n",
    "\n",
    "if not os.path.exists(mouse_directory):\n",
    "    print(\"The mouse directory does not exist\", file=sys.stderr)\n",
    "    \n",
    "raw_files = list()\n",
    "for dir_name, subdir_list, file_list in os.walk(mouse_directory):\n",
    "    for file_name in file_list:\n",
    "        if file_name.startswith(\"Raw\"):\n",
    "            print(\"Found: {} in: {}\".format(file_name, dir_name))\n",
    "            raw_files.append(dir_name+\"/\"+file_name)"
   ]
  },
  {
   "cell_type": "code",
   "execution_count": null,
   "metadata": {},
   "outputs": [],
   "source": [
    "# au.run_epm_analysis(raw_files)"
   ]
  },
  {
   "cell_type": "code",
   "execution_count": null,
   "metadata": {
    "scrolled": false
   },
   "outputs": [],
   "source": [
    "RAW_DRD87 = \"~/Hen_Lab/Mice/EPM/drd87_experiments/Raw_EPM_drd87.csv\"\n",
    "data = pd.read_csv(RAW_DRD87, header=None)\n",
    "z_scored_dataframe, AUC_dataframe, cell_transients_dataframe = SigProc.detect_ca_transients_mossy(data, 2, 0.5, 0.2, 10)"
   ]
  },
  {
   "cell_type": "code",
   "execution_count": null,
   "metadata": {
    "scrolled": false,
    "slideshow": {
     "slide_type": "slide"
    }
   },
   "outputs": [],
   "source": [
    "fig, r_value = au.neuron_scatter_plot_with_reg(\"neuron38\", \"neuron45\", cell_transients_dataframe)\n",
    "print(\"Correlation(neuron38, neuron45) = {}\".format(r_value))\n",
    "au.neuron_line_plot(cell_transients_dataframe, \"neuron1\", \"neuron45\", \"neuron38\", \"neuron6\")"
   ]
  },
  {
   "cell_type": "code",
   "execution_count": null,
   "metadata": {},
   "outputs": [],
   "source": [
    "au.plot_clustermap(cell_transients_dataframe, size=16)"
   ]
  },
  {
   "cell_type": "markdown",
   "metadata": {},
   "source": [
    "## TODO: Discuss and streamline the below functionality, turn it into a function, make sure the function is sound, and move it to `analysis_utils.py`"
   ]
  },
  {
   "cell_type": "code",
   "execution_count": null,
   "metadata": {},
   "outputs": [],
   "source": [
    "behavior_column_names = ['Trial_time', 'Recording_time', 'X_center', 'Y_center', 'Area', 'Areachange', \n",
    "                         'Elongation', 'Distance_moved', 'Velocity', 'Arena_centerpoint',\n",
    "                         'Open1_centerpoint', 'Open2_centerpoint',\n",
    "                         'Closed1_centerpoint', 'Closed2_centerpoint',\n",
    "                         'OpenArms_centerpoint', 'ClosedArms_centerpoint', 'Result_1']\n",
    "\n",
    "activity_df = pd.read_csv('/Users/saveliyyusufov/Hen_Lab/Mice/drd87_experiments/activity_drd87.csv', header=None)\n",
    "behavior_df = pd.read_csv('/Users/saveliyyusufov/Hen_Lab/Mice/drd87_experiments/behavior_drd87.csv', header=None)\n",
    "\n",
    "# Save only every nth row in order to downsample behavior Dataframes from 30fps -> 10fps\n",
    "ROW_MULTIPLE = 3\n",
    "behavior_df.drop(behavior_df.index[[i for i in range(0, len(behavior_df.index)) if i % ROW_MULTIPLE != 0]], inplace=True)\n",
    "\n",
    "# For the activity Dataframe, we Change column names to corresponding neuron names \n",
    "activity_df.columns = ['neuron' + str(i) for i in range(1, len(activity_df.columns)+1)]\n",
    "\n",
    "# Change column names to the behavior column names found in the MossyEPM, MATLAB struct\n",
    "behavior_df.columns = behavior_column_names\n",
    "\n",
    "# Fix indexing after downsample\n",
    "behavior_df.reset_index(drop=True, inplace=True)\n",
    "\n",
    "# Make the behavior Dataframe indexed by Recording time\n",
    "# behavior_df.set_index('Recording time', inplace=True)\n",
    "\n",
    "# Make the behavior Dataframe and the activity Dataframe have the same amount of rows \n",
    "if len(behavior_df.index) > len(activity_df.index):\n",
    "    diff = len(behavior_df.index) - len(activity_df.index)\n",
    "    behavior_df = behavior_df[:-diff]\n",
    "elif len(behavior_df.index) < len(activity_df.index):\n",
    "    diff = len(activity_df.index) - len(behavior_df.index)\n",
    "    activity_df = activity_df[:-diff]\n",
    "\n",
    "# Define running frames\n",
    "VELOCITY_CUTOFF = 4;\n",
    "\n",
    "# Adds column to the end of the behavior Dataframe and make each cell in that column a 0 \n",
    "# if the corresponding velocity < VELOCITY_CUTOFF or a 1 if the corresponding velocity >= VELOCITY_CUTOFF\n",
    "behavior_df['Running_frames'] = [1 if velocity > VELOCITY_CUTOFF else 0 for velocity in behavior_df['Velocity'].tolist()]\n",
    "\n",
    "result_dataframe = pd.concat([cell_transients_dataframe, behavior_df], axis=1)"
   ]
  },
  {
   "cell_type": "markdown",
   "metadata": {},
   "source": [
    "## One can utilize `plot_neurons_as_function_of_beh()` from `analysis_utils.py` to explore the relationship between two given neurons as a function of some behavior as follows:"
   ]
  },
  {
   "cell_type": "code",
   "execution_count": null,
   "metadata": {},
   "outputs": [],
   "source": [
    "au.plot_neurons_as_function_of_beh(result_dataframe, \"neuron38\", \"neuron45\", \"Closed1_centerpoint\", size_of_plot=6)\n",
    "au.plot_neurons_as_function_of_beh(result_dataframe, \"neuron38\", \"neuron45\", \"Closed2_centerpoint\", size_of_plot=6)"
   ]
  },
  {
   "cell_type": "markdown",
   "metadata": {},
   "source": [
    "## TODO: Make sure implementation of `compute_d_rate()` is sound, write-up documentation, and it move to `analysis_utils.py`"
   ]
  },
  {
   "cell_type": "code",
   "execution_count": null,
   "metadata": {},
   "outputs": [],
   "source": [
    "def compute_d_rate(dataframe, neuron_activity_df, *behaviors):\n",
    "    \"\"\" Computes d rate... \n",
    "    \n",
    "    Args:\n",
    "    \n",
    "    Returns:\n",
    "    \"\"\"\n",
    "    \n",
    "    FRAME_RATE=10\n",
    "    if len(behaviors) == 1:  \n",
    "        beh_vec = dataframe.loc[dataframe[behaviors[0]] != 0, neuron_activity_df.columns]\n",
    "        no_beh_vec = dataframe.loc[dataframe[behaviors[0]] == 0, neuron_activity_df.columns]\n",
    "        return FRAME_RATE * (beh_vec.values.mean(axis=0) - no_beh_vec.values.mean(axis=0))\n",
    "    elif len(behaviors) == 2:\n",
    "        beh_vec = dataframe.loc[dataframe[behaviors[0]] != 0, neuron_activity_df.columns]\n",
    "        no_beh_vec = dataframe.loc[dataframe[behaviors[1]] != 0, neuron_activity_df.columns]\n",
    "        return FRAME_RATE * (beh_vec.values.mean(axis=0) - no_beh_vec.values.mean(axis=0))"
   ]
  },
  {
   "cell_type": "code",
   "execution_count": null,
   "metadata": {},
   "outputs": [],
   "source": [
    "# result_dataframe.loc[result_dataframe[\"OpenArms_centerpoint\"] != 0]\n",
    "# result_dataframe.loc[result_dataframe[\"ClosedArms_centerpoint\"] != 0]\n",
    "\n",
    "# test_compute_d_rate(result_dataframe, cell_transients_dataframe, \"OpenArms_centerpoint\", \"ClosedArms_centerpoint\")\n",
    "compute_d_rate(result_dataframe, cell_transients_dataframe, \"Running_frames\")"
   ]
  },
  {
   "cell_type": "markdown",
   "metadata": {},
   "source": [
    "## TODO: Once all neuron (cell) selectivity code is proven to be sound, write-up documentation for `set_real_d_df()` and move it to `analysis_utils.py`"
   ]
  },
  {
   "cell_type": "code",
   "execution_count": null,
   "metadata": {},
   "outputs": [],
   "source": [
    "def set_real_d_df(dataframe, neuron_activity_df, behavior):\n",
    "    \"\"\" Create dataframe of real $d$ values for all neurons\n",
    "    \n",
    "    Args:\n",
    "    \n",
    "    Returns:\n",
    "    \"\"\"\n",
    "    real_df = pd.DataFrame(columns=neuron_activity_df.columns, index=[\"d\"])\n",
    "    real_df.loc['d'] = compute_d_rate(dataframe, neuron_activity_df, behavior)\n",
    "    return real_df"
   ]
  },
  {
   "cell_type": "code",
   "execution_count": null,
   "metadata": {},
   "outputs": [],
   "source": [
    "real_d_df = set_real_d_df(result_dataframe, cell_transients_dataframe, \"Running_frames\")\n",
    "real_d_df"
   ]
  },
  {
   "cell_type": "code",
   "execution_count": null,
   "metadata": {},
   "outputs": [],
   "source": [
    "def shuffle_worker(q, n, neuron_activity_df, mouse_behavior_df, behavior):\n",
    "    \"\"\" Homebrewed bootstrapping function for EPM Analysis\n",
    "\n",
    "    Bootstrapping function that allows estimation of the sample distribution\n",
    "    using cyclical shifting of the index of a pandas dataframe.\n",
    "\n",
    "    Args:\n",
    "        n: the number of random shuffles to be performed on the given data\n",
    "        neuron_activity_df: the neuron activity dataframe for a given mouse\n",
    "        mouse_behavior_df: the behavior dataframe for a given mouse \n",
    "        (must directly correspond with neuron_activity_df)\n",
    "        behavior: the behavior to be estimated\n",
    "\n",
    "    Returns:\n",
    "        A Pandas DataFrame that contains all the neuron and behavior\n",
    "        data after all the data has been bootstraped\n",
    "    \"\"\" \n",
    "    shifted_beh_df = mouse_behavior_df.copy()\n",
    "    shuffled_df = pd.DataFrame(columns=neuron_activity_df.columns, index=range(1, n+1))\n",
    "    for row in shuffled_df.itertuples():\n",
    "        shifted_beh_df.set_index(np.roll(mouse_behavior_df.index, random.randrange(1, len(mouse_behavior_df.index))), inplace=True)\n",
    "        shifted_df = pd.concat([neuron_activity_df, shifted_beh_df], axis=1)\n",
    "        shuffled_df.loc[row.Index] = compute_d_rate(shifted_df, neuron_activity_df, behavior)\n",
    "\n",
    "    q.put(shuffled_df)"
   ]
  },
  {
   "cell_type": "code",
   "execution_count": null,
   "metadata": {},
   "outputs": [],
   "source": [
    "def shuffle(iterations, neuron_activity_df, mouse_behavior_df, behavior):\n",
    "    \"\"\"\n",
    "    This function...\n",
    "    \n",
    "    Args:\n",
    "    \n",
    "    Returns:\n",
    "    \"\"\"\n",
    "    NUM_OF_ROWS = int(iterations / 10)\n",
    "    q = Queue()\n",
    "    processes = []\n",
    "    rets = []\n",
    "    for _ in range(0, 10):\n",
    "        p = Process(target=shuffle_worker, args=(q, NUM_OF_ROWS, neuron_activity_df, mouse_behavior_df, behavior))\n",
    "        processes.append(p)\n",
    "        p.start()\n",
    "    for p in processes:\n",
    "        ret = q.get() # will block\n",
    "        rets.append(ret)\n",
    "    for p in processes:\n",
    "        p.join()\n",
    "\n",
    "    return pd.concat(rets, ignore_index=True)"
   ]
  },
  {
   "cell_type": "code",
   "execution_count": null,
   "metadata": {},
   "outputs": [],
   "source": [
    "import time\n",
    "s = time.time()\n",
    "bootstrapped = shuffle(10000, cell_transients_dataframe, behavior_df, \"Running_frames\")\n",
    "e = time.time()\n",
    "print(e-s)"
   ]
  },
  {
   "cell_type": "code",
   "execution_count": null,
   "metadata": {},
   "outputs": [],
   "source": [
    "bootstrapped"
   ]
  },
  {
   "cell_type": "code",
   "execution_count": null,
   "metadata": {},
   "outputs": [],
   "source": [
    "sns.distplot(bootstrapped[\"neuron19\"].tolist(), color='m', fit=stats.norm);"
   ]
  },
  {
   "cell_type": "markdown",
   "metadata": {},
   "source": [
    "## TODO: in addition to classifying the neurons, should there be a way to see the distribution plot for each neuron? (To see how well the bootstrapping worked and etc.)"
   ]
  },
  {
   "cell_type": "markdown",
   "metadata": {},
   "source": [
    "## TODO: for `is_neuron_selective()`, make sure implementation is sound, write-up documentation, and move to analysis_utils.py"
   ]
  },
  {
   "cell_type": "code",
   "execution_count": null,
   "metadata": {},
   "outputs": [],
   "source": [
    "def is_neuron_selective(bootstrapped_df, real_d_df, neuron, behavior_name, hi_percentile, lo_percentile):\n",
    "    \"\"\" Classifies a given neuron as selective or non-selective\n",
    "    \n",
    "    Args:\n",
    "    \n",
    "    Returns:\n",
    "    \"\"\"\n",
    "    if real_d_df[neuron]['d'] >= np.percentile(bootstrapped_df[neuron], hi_percentile):\n",
    "        return behavior_name\n",
    "    elif real_d_df[neuron]['d'] <= np.percentile(bootstrapped_df[neuron], lo_percentile):\n",
    "        return \"Non-\" + behavior_name\n",
    "    else: \n",
    "        return \"Non-selective\""
   ]
  },
  {
   "cell_type": "code",
   "execution_count": null,
   "metadata": {},
   "outputs": [],
   "source": [
    "is_neuron_selective(bootstrapped, real_d_df, \"neuron42\", \"Running\", 87.5, 5)"
   ]
  },
  {
   "cell_type": "markdown",
   "metadata": {},
   "source": [
    "## TODO: For `classify_neurons_for_beh()`, make sure implementation is sound, write-up documentation, and move to analysis_utils.py"
   ]
  },
  {
   "cell_type": "code",
   "execution_count": null,
   "metadata": {},
   "outputs": [],
   "source": [
    "def classify_neurons_for_beh(bootstrapped_df, real_d_df, neuron, behavior_name, hi_percentile, lo_percentile):\n",
    "    \"\"\" Classifies all neurons for one mouse as either selective or non-selective\n",
    "    \n",
    "    Args:\n",
    "    \n",
    "    Returns:\n",
    "    \"\"\"\n",
    "    neurons_dict = {}\n",
    "    for neuron in bootstrapped_df.columns:\n",
    "        neurons_dict[neuron] = is_neuron_selective(bootstrapped_df, real_d_df, neuron, behavior_name, hi_percentile, lo_percentile)\n",
    "\n",
    "    return neurons_dict"
   ]
  },
  {
   "cell_type": "code",
   "execution_count": null,
   "metadata": {},
   "outputs": [],
   "source": [
    "classify_neurons_for_beh(bootstrapped, real_d_df, \"neuron42\", \"Running\", 87.5, 5)"
   ]
  },
  {
   "cell_type": "markdown",
   "metadata": {},
   "source": [
    "## TODO: discuss the purpose of `activity_by_neurons()` and `load_Activities_DataFrame()` in order to write up documentation for them."
   ]
  },
  {
   "cell_type": "code",
   "execution_count": null,
   "metadata": {},
   "outputs": [],
   "source": [
    "au.load_activities_dataframe(result_dataframe, cell_transients_dataframe)"
   ]
  }
 ],
 "metadata": {
  "kernelspec": {
   "display_name": "Python 3",
   "language": "python",
   "name": "python3"
  },
  "language_info": {
   "codemirror_mode": {
    "name": "ipython",
    "version": 3
   },
   "file_extension": ".py",
   "mimetype": "text/x-python",
   "name": "python",
   "nbconvert_exporter": "python",
   "pygments_lexer": "ipython3",
   "version": "3.6.4"
  }
 },
 "nbformat": 4,
 "nbformat_minor": 2
}
