{
 "cells": [
  {
   "cell_type": "markdown",
   "metadata": {},
   "source": [
    "# Elevated-Plus Maze Analysis"
   ]
  },
  {
   "cell_type": "code",
   "execution_count": null,
   "metadata": {},
   "outputs": [],
   "source": [
    "from analysis import analysis_utils as au\n",
    "from IPython.core.interactiveshell import InteractiveShell\n",
    "from multiprocessing import Process\n",
    "from multiprocessing import Queue\n",
    "import numpy as np\n",
    "import os\n",
    "import pandas as pd\n",
    "import random\n",
    "from scipy import stats\n",
    "import seaborn as sns\n",
    "import SigProc\n",
    "import sys"
   ]
  },
  {
   "cell_type": "code",
   "execution_count": null,
   "metadata": {},
   "outputs": [],
   "source": [
    "%matplotlib inline\n",
    "InteractiveShell.ast_node_interactivity = \"all\"\n",
    "sns.set_style(\"darkgrid\")"
   ]
  },
  {
   "cell_type": "markdown",
   "metadata": {},
   "source": [
    "## Organize all the files for each mouse. Go through the EPM directory, and for each mouse, add the corresponding behavior data file path name and the corresponding Raw data file path name to a dictionary."
   ]
  },
  {
   "cell_type": "code",
   "execution_count": null,
   "metadata": {},
   "outputs": [],
   "source": [
    "mouse_directory = os.path.expanduser(\"~\") + \"/Hen_Lab/Mice/EPM\"\n",
    "\n",
    "if not os.path.exists(mouse_directory):\n",
    "    print(\"The mouse directory does not exist\", file=sys.stderr)\n",
    "\n",
    "animal_data_files = dict()\n",
    "\n",
    "for dir_name, subdir_list, file_list in os.walk(mouse_directory):\n",
    "    if subdir_list:\n",
    "        mice_directories = subdir_list\n",
    "\n",
    "    for file_name in file_list:\n",
    "        for mouse_name in mice_directories:\n",
    "            if file_name.endswith(\".csv\") and (mouse_name in file_name and \"behavior\" in file_name):\n",
    "                if mouse_name in animal_data_files:\n",
    "                    animal_data_files[mouse_name].update({\"behavior\":dir_name+\"/\"+file_name})\n",
    "                else:\n",
    "                    animal_data_files[mouse_name] = {\"behavior\":dir_name+\"/\"+file_name}\n",
    "            elif file_name.endswith(\".csv\") and (mouse_name in file_name and \"Raw\" in file_name):\n",
    "                if mouse_name in animal_data_files:\n",
    "                    animal_data_files[mouse_name].update({\"Raw\":dir_name+\"/\"+file_name})\n",
    "                else:\n",
    "                    animal_data_files[mouse_name] = {\"Raw\":dir_name+\"/\"+file_name}"
   ]
  },
  {
   "cell_type": "code",
   "execution_count": null,
   "metadata": {},
   "outputs": [],
   "source": [
    "animal_data_files"
   ]
  },
  {
   "cell_type": "markdown",
   "metadata": {},
   "source": [
    "## If a behavior data file or a Raw data file is missing for a particular mouse, then display which file is missing. Then proceed to remove all mice from the dictionary that do not have the required data files, i.e., behavior and raw."
   ]
  },
  {
   "cell_type": "code",
   "execution_count": null,
   "metadata": {},
   "outputs": [],
   "source": [
    "# Check that for each animal a corresponding behavior data file AND Raw neuron data file was found\n",
    "missing_data = list()\n",
    "for mouse_name in animal_data_files:\n",
    "    if not \"behavior\" in animal_data_files[mouse_name]:\n",
    "        print(\"The behavior for {} file is missing\".format(mouse_name))\n",
    "        missing_data.append(mouse_name)\n",
    "    if not \"Raw\" in animal_data_files[mouse_name]:\n",
    "        print(\"The raw file for {} is missing\".format(mouse_name))\n",
    "        missing_data.append(mouse_name)\n",
    "    \n",
    "# Remove all mice from the dictionary if the required data files for them were not found\n",
    "for animal_name in missing_data:\n",
    "    if animal_name in animal_data_files:\n",
    "        del animal_data_files[animal_name]"
   ]
  },
  {
   "cell_type": "code",
   "execution_count": null,
   "metadata": {},
   "outputs": [],
   "source": [
    "animal_data_files"
   ]
  },
  {
   "cell_type": "markdown",
   "metadata": {},
   "source": [
    "### 1. Generate and store all dataframes for each animal in a dictionary. \n",
    "### 2. Plot the correlation heatmap of the neuron concatenated with behavior dataframe for each corresponding mouse\n",
    "### 3. Plot the cluster map of the cell transients dataframe for each corresponding mouse"
   ]
  },
  {
   "cell_type": "code",
   "execution_count": null,
   "metadata": {},
   "outputs": [],
   "source": [
    "# Store all the dataframes for each animal in a dictionary for quick access, when needed\n",
    "animal_dataframes = dict()\n",
    "\n",
    "for animal_name in animal_data_files:\n",
    "    print(animal_name)\n",
    "    \n",
    "    data = pd.read_csv(animal_data_files[animal_name][\"Raw\"], header=None)\n",
    "    _, AUC_dataframe, cell_transients_dataframe = SigProc.detect_ca_transients_mossy(data, 2, 0.5, 0.2, 10)\n",
    "    \n",
    "    behavior_column_names = ['Trial_time', 'Recording_time', 'X_center', 'Y_center', 'Area', 'Areachange', \n",
    "                         'Elongation', 'Distance_moved', 'Velocity', 'Arena_centerpoint',\n",
    "                         'Open1_centerpoint', 'Open2_centerpoint',\n",
    "                         'Closed1_centerpoint', 'Closed2_centerpoint',\n",
    "                         'OpenArms_centerpoint', 'ClosedArms_centerpoint', 'Result_1']\n",
    "\n",
    "    behavior_df = pd.read_csv(animal_data_files[animal_name][\"behavior\"], header=None)\n",
    "    behavior_df.columns = behavior_column_names\n",
    "    \n",
    "    # Only keep every 3rd row of the original behavior dataframe in order to downsample 30 fps --> 10 fps\n",
    "    behavior_df = au.downsample_dataframe(behavior_df, 3)\n",
    "\n",
    "    # Define cutoff for what constitutes as a running frame\n",
    "    VELOCITY_CUTOFF = 4;\n",
    "\n",
    "    # Adds \"Running_frames\" column to the end of the behavior dataframe \n",
    "    behavior_df[\"Running_frames\"] = np.where(behavior_df[\"Velocity\"] > VELOCITY_CUTOFF, 1, 0)\n",
    "    \n",
    "    neuron_concated_behavior = cell_transients_dataframe.join(behavior_df, how=\"left\")\n",
    "    \n",
    "    # Add the corresponding AUC, cell transients, and neuron activity concated with behavior dataframes for each animal to the dictionary\n",
    "    if not animal_name in animal_dataframes:\n",
    "        animal_dataframes[animal_name] = {\"AUC_dataframe\": AUC_dataframe, \"cell_transients_dataframe\": cell_transients_dataframe, \"neuron_concated_behavior\": neuron_concated_behavior} \n",
    "    \n",
    "    au.plot_correlation_heatmap(neuron_concated_behavior, size=20)\n",
    "    au.plot_clustermap(cell_transients_dataframe)"
   ]
  },
  {
   "cell_type": "markdown",
   "metadata": {},
   "source": [
    "## Display the correlation heat map for each animal's corresponding behaviors, e.g., open arms vs. closed arms"
   ]
  },
  {
   "cell_type": "code",
   "execution_count": null,
   "metadata": {},
   "outputs": [],
   "source": [
    "behaviors = [\"Arena_centerpoint\", \"Open1_centerpoint\", \"Open2_centerpoint\", \"Closed1_centerpoint\", \"Closed2_centerpoint\", \"OpenArms_centerpoint\", \"ClosedArms_centerpoint\"]\n",
    "\n",
    "for animal in animal_dataframes:\n",
    "    print(animal)\n",
    "    for behavior in behaviors:\n",
    "        print(\"      ----> {}\".format(behavior))\n",
    "        current_dataframe = animal_dataframes[animal][\"neuron_concated_behavior\"]\n",
    "        indices = current_dataframe.loc[current_dataframe[behavior] != 0].index\n",
    "        au.plot_correlation_heatmap(animal_dataframes[animal][\"cell_transients_dataframe\"].iloc[indices], size=20)"
   ]
  },
  {
   "cell_type": "code",
   "execution_count": null,
   "metadata": {},
   "outputs": [],
   "source": [
    "def activity_by_neurons(concated_df, neuron_names, *behaviors, frame_rate=10):\n",
    "    \"\"\"Computes the neuron activity rates for given behaviors\n",
    "    \n",
    "    This function computes the rates for a given animal's activity and  \n",
    "    neuron, given some set of behaviors.\n",
    "\n",
    "    Args: \n",
    "        concated_df: a concatenated pandas DataFrame of the neuron activity and \n",
    "        the corresponding behavior, for a given animal.\n",
    "        neuron_names: the names of the neurons whose rates are to be computed.\n",
    "        behaviors: a list of the behaviors for which to compute the activity rates. \n",
    "        frame_rate: the framerate to multiply the rate by, default is 10.\n",
    "\n",
    "    Returns: \n",
    "        activity_df: a pandas DataFrame of the neuron activity rates.\n",
    "    \"\"\"\n",
    "    activity_df = pd.DataFrame(columns=behaviors)\n",
    "    for behavior in behaviors:\n",
    "        if behavior in concated_df.columns:\n",
    "            activity_df.loc[:, behavior] = frame_rate * concated_df.loc[concated_df[behavior] != 0, neuron_names].mean()\n",
    "        elif '&' in behavior:\n",
    "            beh1 = behavior.split('&')[0]\n",
    "            beh2 = behavior.split('&')[1]\n",
    "            activity_df.loc[:, behavior] = frame_rate * concated_df.loc[(concated_df[beh1] != 0) & ((concated_df[beh2] != 0)), neuron_names].mean()\n",
    "        elif '|' in behavior:\n",
    "            beh1 = behavior.split('|')[0]\n",
    "            beh2 = behavior.split('|')[1]\n",
    "            activity_df.loc[:, behavior] = frame_rate * concated_df.loc[(concated_df[beh1] != 0) | ((concated_df[beh2] != 0)), neuron_names].mean()\n",
    "\n",
    "    return activity_df"
   ]
  },
  {
   "cell_type": "markdown",
   "metadata": {},
   "source": [
    "## Create a dictionary that will store the neuron activity rates dataframes for each animal"
   ]
  },
  {
   "cell_type": "code",
   "execution_count": null,
   "metadata": {},
   "outputs": [],
   "source": [
    "neuron_activity_rates = dict()\n",
    "\n",
    "for animal in animal_dataframes:\n",
    "    print(animal)\n",
    "    if not animal in neuron_activity_rates:\n",
    "        neuron_activity_rates[animal] = activity_by_neurons(animal_dataframes[animal][\"neuron_concated_behavior\"], animal_dataframes[animal][\"cell_transients_dataframe\"].columns, \"ClosedArms_centerpoint\", \"OpenArms_centerpoint\", \"OpenArms_centerpoint&Running_frames\", \"ClosedArms_centerpoint&Running_frames\", \"Running_frames\")"
   ]
  },
  {
   "cell_type": "code",
   "execution_count": null,
   "metadata": {},
   "outputs": [],
   "source": [
    "import plotly\n",
    "import plotly.graph_objs as go\n",
    "\n",
    "def plot_activity_rates(activity_rates_df, plot_title):\n",
    "    \"\"\"Wrapper function for Plotly Bar Charts\n",
    "        \n",
    "        This function wraps the Plotly library Bar Chart plotting functionality\n",
    "        in order to quickly and easily create a bar plot for \n",
    "    \n",
    "    Args:\n",
    "        activity_rates_df: the pandas DataFrame with all the neuron activity means,\n",
    "        for corresponding behaviors\n",
    "    \"\"\"\n",
    "    x = [beh.replace('_', \"<br>\") for beh in activity_rates_df.columns]\n",
    "    y = [activity_rates_df[behavior].mean() for behavior in activity_rates_df.columns]\n",
    "\n",
    "    trace1 = go.Bar(\n",
    "        x=x,\n",
    "        y=y,\n",
    "        text=y,\n",
    "        marker=dict(\n",
    "            color='rgb(255,100,0)',\n",
    "            line=dict(\n",
    "                color='rgb(255,0,25)',\n",
    "                width=2.5),\n",
    "            ),\n",
    "        opacity=0.7\n",
    "    )\n",
    "\n",
    "    data = [trace1]\n",
    "    layout = go.Layout(\n",
    "        title=plot_title,\n",
    "    )\n",
    "    fig = go.Figure(data=data, layout=layout)\n",
    "    plotly.offline.iplot(fig)"
   ]
  },
  {
   "cell_type": "markdown",
   "metadata": {},
   "source": [
    "## Plot the neuron activity rates bar plots for each corresponding animal"
   ]
  },
  {
   "cell_type": "code",
   "execution_count": null,
   "metadata": {},
   "outputs": [],
   "source": [
    "for animal in neuron_activity_rates:\n",
    "    plot_title = \"Neuron Activity Rates by Behavior for \" + animal\n",
    "    plot_activity_rates(neuron_activity_rates[animal], plot_title)"
   ]
  },
  {
   "cell_type": "markdown",
   "metadata": {},
   "source": [
    "## Stack the neuron activity rates dataframes of all the animals, on top of each other"
   ]
  },
  {
   "cell_type": "code",
   "execution_count": null,
   "metadata": {},
   "outputs": [],
   "source": [
    "rates_of_all_neurons = pd.concat(list(neuron_activity_rates.values()), ignore_index=True)\n",
    "rates_of_all_neurons"
   ]
  },
  {
   "cell_type": "markdown",
   "metadata": {},
   "source": [
    "## Plot the neuron activity rates of all the neurons, combined"
   ]
  },
  {
   "cell_type": "code",
   "execution_count": null,
   "metadata": {},
   "outputs": [],
   "source": [
    "plot_activity_rates(rates_of_all_neurons, \"Neuron Activity Ratres for all Animals Combined\")"
   ]
  }
 ],
 "metadata": {
  "kernelspec": {
   "display_name": "Python 3",
   "language": "python",
   "name": "python3"
  },
  "language_info": {
   "codemirror_mode": {
    "name": "ipython",
    "version": 3
   },
   "file_extension": ".py",
   "mimetype": "text/x-python",
   "name": "python",
   "nbconvert_exporter": "python",
   "pygments_lexer": "ipython3",
   "version": "3.6.5"
  }
 },
 "nbformat": 4,
 "nbformat_minor": 2
}
