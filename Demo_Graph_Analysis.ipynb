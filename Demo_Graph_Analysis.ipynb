{
 "cells": [
  {
   "cell_type": "markdown",
   "metadata": {},
   "source": [
    "# Graph Theoretical Analysis"
   ]
  },
  {
   "cell_type": "code",
   "execution_count": 1,
   "metadata": {},
   "outputs": [],
   "source": [
    "import os\n",
    "import pandas as pd\n",
    "import networkx as nx\n",
    "import numpy as np\n",
    "import seaborn as sns\n",
    "import SigProc\n",
    "from analysis import graph_analysis_utils as gau\n",
    "from analysis import analysis_utils as au\n",
    "from scipy import stats\n",
    "from IPython.core.interactiveshell import InteractiveShell"
   ]
  },
  {
   "cell_type": "code",
   "execution_count": 2,
   "metadata": {},
   "outputs": [],
   "source": [
    "InteractiveShell.ast_node_interactivity = \"all\"\n",
    "%matplotlib inline"
   ]
  },
  {
   "cell_type": "code",
   "execution_count": 3,
   "metadata": {},
   "outputs": [],
   "source": [
    "mouse_directory = os.path.expanduser(\"~\") + \"/Hen_Lab/Mice/EPM\"\n",
    "\n",
    "if not os.path.exists(mouse_directory):\n",
    "    print(\"The mouse directory does not exist\", file=sys.stderr)\n",
    "\n",
    "animal_data_files = dict()\n",
    "\n",
    "for dir_name, subdir_list, file_list in os.walk(mouse_directory):\n",
    "    if subdir_list:\n",
    "        mice_directories = subdir_list\n",
    "\n",
    "    for file_name in file_list:\n",
    "        for mouse_name in mice_directories:\n",
    "            if file_name.endswith(\".csv\") and (mouse_name in file_name and \"behavior\" in file_name):\n",
    "                if mouse_name in animal_data_files:\n",
    "                    animal_data_files[mouse_name].update({\"behavior\":dir_name+\"/\"+file_name})\n",
    "                else:\n",
    "                    animal_data_files[mouse_name] = {\"behavior\":dir_name+\"/\"+file_name}\n",
    "            elif file_name.endswith(\".csv\") and (mouse_name in file_name and \"Raw\" in file_name):\n",
    "                if mouse_name in animal_data_files:\n",
    "                    animal_data_files[mouse_name].update({\"Raw\":dir_name+\"/\"+file_name})\n",
    "                else:\n",
    "                    animal_data_files[mouse_name] = {\"Raw\":dir_name+\"/\"+file_name}"
   ]
  },
  {
   "cell_type": "markdown",
   "metadata": {},
   "source": [
    "## Store all neuron activity and corresponding behavior dataframes, for each animal, in a dictionary"
   ]
  },
  {
   "cell_type": "code",
   "execution_count": 4,
   "metadata": {},
   "outputs": [
    {
     "name": "stdout",
     "output_type": "stream",
     "text": [
      "drd87\n",
      "drd73\n",
      "drd77\n",
      "drd46\n"
     ]
    }
   ],
   "source": [
    "animal_dataframes = dict()\n",
    "\n",
    "for animal_name in animal_data_files:\n",
    "    print(animal_name)\n",
    "    \n",
    "    data = pd.read_csv(animal_data_files[animal_name][\"Raw\"], header=None)\n",
    "    if(animal_name=='drd73' or animal_name =='drd77'):\n",
    "        data = au.downsample_dataframe(data,2)\n",
    "    _, _, cell_transients_dataframe = SigProc.detect_ca_transients_mossy(data, 2, 0.5, 0.2, 10)\n",
    "    \n",
    "    # Rename all the columns from \"neuron_x\" --> \"x\". This makes the graphs neater by making sure the neuron names fit into the nodes\n",
    "    cell_transients_dataframe.columns = [i for i in range(1, len(cell_transients_dataframe.columns)+1)]\n",
    "    \n",
    "    behavior_column_names = ['Trial_time', 'Recording_time', 'X_center', 'Y_center', 'Area', 'Areachange', \n",
    "                         'Elongation', 'Distance_moved', 'Velocity', 'Arena_centerpoint',\n",
    "                         'Open1_centerpoint', 'Open2_centerpoint',\n",
    "                         'Closed1_centerpoint', 'Closed2_centerpoint',\n",
    "                         'OpenArms_centerpoint', 'ClosedArms_centerpoint', 'Result_1']\n",
    "\n",
    "    behavior_df = pd.read_csv(animal_data_files[animal_name][\"behavior\"], header=None)\n",
    "    behavior_df.columns = behavior_column_names\n",
    "    \n",
    "    # Only keep every 3rd row of the original behavior dataframe in order to downsample 30 fps --> 10 fps\n",
    "    behavior_df = au.downsample_dataframe(behavior_df, 3)\n",
    "\n",
    "    # Define cutoff for what constitutes as a running frame\n",
    "    VELOCITY_CUTOFF = 4;\n",
    "\n",
    "    # Adds \"Running_frames\" column to the end of the behavior dataframe \n",
    "    behavior_df[\"Running_frames\"] = np.where(behavior_df[\"Velocity\"] > VELOCITY_CUTOFF, 1, 0)\n",
    "    \n",
    "    neuron_concated_behavior = cell_transients_dataframe.join(behavior_df, how=\"left\")\n",
    "    \n",
    "    if not animal_name in animal_dataframes:\n",
    "        animal_dataframes[animal_name] = {\"cell transients\": cell_transients_dataframe, \"behavior\": behavior_df, \"neuron and beh\": neuron_concated_behavior}"
   ]
  },
  {
   "cell_type": "markdown",
   "metadata": {},
   "source": [
    "## Compute all network measures for each mouse, and store them in a dictionary"
   ]
  },
  {
   "cell_type": "code",
   "execution_count": 5,
   "metadata": {},
   "outputs": [],
   "source": [
    "indices = animal_dataframes[\"drd87\"][\"neuron and beh\"].loc[animal_dataframes[\"drd87\"][\"neuron and beh\"][\"OpenArms_centerpoint\"] != 0].index\n",
    "drd87_open_arms_graph = gau.create_graph(animal_dataframes[\"drd87\"][\"cell transients\"].iloc[indices])"
   ]
  },
  {
   "cell_type": "code",
   "execution_count": 6,
   "metadata": {},
   "outputs": [],
   "source": [
    "animal_network_measures = dict()\n",
    "\n",
    "for animal in animal_dataframes:\n",
    "    indices = animal_dataframes[animal][\"neuron and beh\"].loc[animal_dataframes[animal][\"neuron and beh\"][\"OpenArms_centerpoint\"] != 0].index\n",
    "    open_arms_graph = gau.create_graph(animal_dataframes[animal][\"cell transients\"].iloc[indices])\n",
    "    \n",
    "    indices = animal_dataframes[animal][\"neuron and beh\"].loc[animal_dataframes[animal][\"neuron and beh\"][\"ClosedArms_centerpoint\"] != 0].index\n",
    "    closed_arms_graph = gau.create_graph(animal_dataframes[animal][\"cell transients\"].iloc[indices])\n",
    "    \n",
    "    animal_network_measures[animal] = {\"open betw cent\": gau.compute_mean_betweenness_centrality(open_arms_graph)}\n",
    "    animal_network_measures[animal].update({\"closed betw cent\": gau.compute_mean_betweenness_centrality(closed_arms_graph)})\n",
    "    \n",
    "    animal_network_measures[animal].update({\"open deg cent\": gau.compute_mean_degree_centrality(open_arms_graph)})\n",
    "    animal_network_measures[animal].update({\"closed deg cent\": gau.compute_mean_degree_centrality(closed_arms_graph)})\n",
    "    \n",
    "    animal_network_measures[animal].update({\"open load cent\": gau.compute_mean_load_centrality(open_arms_graph)})\n",
    "    animal_network_measures[animal].update({\"closed load cent\": gau.compute_mean_load_centrality(closed_arms_graph)})\n",
    "    \n",
    "    animal_network_measures[animal].update({\"open avg clust coeff\": nx.average_clustering(open_arms_graph)})\n",
    "    animal_network_measures[animal].update({\"closed avg clust coeff\": nx.average_clustering(closed_arms_graph)})\n",
    "    \n",
    "    animal_network_measures[animal].update({\"open max clique size\": gau.get_max_clique_size(open_arms_graph)})\n",
    "    animal_network_measures[animal].update({\"closed max clique size\": gau.get_max_clique_size(closed_arms_graph)})\n",
    "    \n",
    "    animal_network_measures[animal].update({\"open mean clique size\": gau.compute_mean_clique_size(open_arms_graph)})\n",
    "    animal_network_measures[animal].update({\"closed mean clique size\": gau.compute_mean_clique_size(closed_arms_graph)})\n",
    "    \n",
    "    animal_network_measures[animal].update({\"open connection density\": gau.compute_connection_density(open_arms_graph)})\n",
    "    animal_network_measures[animal].update({\"closed connection density\": gau.compute_connection_density(closed_arms_graph)})\n",
    "    \n",
    "    animal_network_measures[animal].update({\"open local efficiency\": nx.local_efficiency(open_arms_graph)})\n",
    "    animal_network_measures[animal].update({\"closed local efficiency\": nx.local_efficiency(closed_arms_graph)})\n",
    "    \n",
    "    animal_network_measures[animal].update({\"open global efficiency\": nx.global_efficiency(open_arms_graph)})\n",
    "    animal_network_measures[animal].update({\"closed global efficiency\": nx.global_efficiency(closed_arms_graph)})"
   ]
  },
  {
   "cell_type": "code",
   "execution_count": 7,
   "metadata": {},
   "outputs": [],
   "source": [
    "import plotly\n",
    "import plotly.graph_objs as go\n",
    "\n",
    "def plot_network_measures(y, y2, title, *animal_names):\n",
    "    trace1 = go.Bar(\n",
    "        x=animal_names,\n",
    "        y=y,\n",
    "        text=y,\n",
    "        textposition = 'auto',\n",
    "        name=\"Open Arms\",\n",
    "        marker=dict(\n",
    "            color='rgb(255, 0, 0)',\n",
    "            line=dict(\n",
    "                color='rgb(180, 0, 0)',\n",
    "                width=1.5),\n",
    "            ),\n",
    "        opacity=0.6\n",
    "    )\n",
    "    trace2 = go.Bar(\n",
    "        x=animal_names,\n",
    "        y=y2,\n",
    "        text=y2,\n",
    "        textposition = 'auto',\n",
    "        name=\"Closed Arms\",\n",
    "        marker=dict(\n",
    "            color='rgb(58,200,225)',\n",
    "            line=dict(\n",
    "                color='rgb(8,48,107)',\n",
    "                width=1.5),\n",
    "            ),\n",
    "        opacity=0.6\n",
    "    )\n",
    "    data = [trace1, trace2]\n",
    "    layout = go.Layout(\n",
    "        title=title,\n",
    "    )\n",
    "    fig = go.Figure(data=data, layout=layout)\n",
    "    plotly.offline.iplot(fig)"
   ]
  },
  {
   "cell_type": "code",
   "execution_count": 9,
   "metadata": {},
   "outputs": [
    {
     "data": {
      "application/vnd.plotly.v1+json": {
       "data": [
        {
         "marker": {
          "color": "rgb(255, 0, 0)",
          "line": {
           "color": "rgb(180, 0, 0)",
           "width": 1.5
          }
         },
         "name": "Open Arms",
         "opacity": 0.6,
         "text": [
          0.015567940349403876,
          0.02431827431827432,
          0.04236453201970444,
          0
         ],
         "textposition": "auto",
         "type": "bar",
         "uid": "5c4e81",
         "x": [
          "drd87",
          "drd73",
          "drd77",
          "drd46"
         ],
         "y": [
          0.015567940349403876,
          0.02431827431827432,
          0.04236453201970444,
          0
         ]
        },
        {
         "marker": {
          "color": "rgb(58,200,225)",
          "line": {
           "color": "rgb(8,48,107)",
           "width": 1.5
          }
         },
         "name": "Closed Arms",
         "opacity": 0.6,
         "text": [
          0.024137623900955578,
          0.0023402523402523403,
          0.0027914614121510666,
          0.005555555555555555
         ],
         "textposition": "auto",
         "type": "bar",
         "uid": "0c7015",
         "x": [
          "drd87",
          "drd73",
          "drd77",
          "drd46"
         ],
         "y": [
          0.024137623900955578,
          0.0023402523402523403,
          0.0027914614121510666,
          0.005555555555555555
         ]
        }
       ],
       "layout": {
        "autosize": true,
        "title": "Mean Betweeness Centrality",
        "xaxis": {
         "autorange": true,
         "range": [
          -0.5,
          3.5
         ],
         "type": "category"
        },
        "yaxis": {
         "autorange": true,
         "range": [
          0,
          0.044594244231267836
         ],
         "type": "linear"
        }
       }
      }
     },
     "metadata": {},
     "output_type": "display_data"
    },
    {
     "data": {
      "application/vnd.plotly.v1+json": {
       "data": [
        {
         "marker": {
          "color": "rgb(255, 0, 0)",
          "line": {
           "color": "rgb(180, 0, 0)",
           "width": 1.5
          }
         },
         "name": "Open Arms",
         "opacity": 0.6,
         "text": [
          0.09036658141517477,
          0.06349206349206347,
          0.09885057471264366,
          0
         ],
         "textposition": "auto",
         "type": "bar",
         "uid": "876353",
         "x": [
          "drd87",
          "drd73",
          "drd77",
          "drd46"
         ],
         "y": [
          0.09036658141517477,
          0.06349206349206347,
          0.09885057471264366,
          0
         ]
        },
        {
         "marker": {
          "color": "rgb(58,200,225)",
          "line": {
           "color": "rgb(8,48,107)",
           "width": 1.5
          }
         },
         "name": "Closed Arms",
         "opacity": 0.6,
         "text": [
          0.05370843989769821,
          0.042328042328042326,
          0.04827586206896553,
          0.08888888888888888
         ],
         "textposition": "auto",
         "type": "bar",
         "uid": "67adde",
         "x": [
          "drd87",
          "drd73",
          "drd77",
          "drd46"
         ],
         "y": [
          0.05370843989769821,
          0.042328042328042326,
          0.04827586206896553,
          0.08888888888888888
         ]
        }
       ],
       "layout": {
        "autosize": true,
        "title": "Mean Degree Centrality",
        "xaxis": {
         "autorange": true,
         "range": [
          -0.5,
          3.5
         ],
         "type": "category"
        },
        "yaxis": {
         "autorange": true,
         "range": [
          0,
          0.10405323653962491
         ],
         "type": "linear"
        }
       }
      }
     },
     "metadata": {},
     "output_type": "display_data"
    },
    {
     "data": {
      "application/vnd.plotly.v1+json": {
       "data": [
        {
         "marker": {
          "color": "rgb(255, 0, 0)",
          "line": {
           "color": "rgb(180, 0, 0)",
           "width": 1.5
          }
         },
         "name": "Open Arms",
         "opacity": 0.6,
         "text": [
          0.015567940349403876,
          0.02431827431827432,
          0.04236453201970444,
          0
         ],
         "textposition": "auto",
         "type": "bar",
         "uid": "93b89c",
         "x": [
          "drd87",
          "drd73",
          "drd77",
          "drd46"
         ],
         "y": [
          0.015567940349403876,
          0.02431827431827432,
          0.04236453201970444,
          0
         ]
        },
        {
         "marker": {
          "color": "rgb(58,200,225)",
          "line": {
           "color": "rgb(8,48,107)",
           "width": 1.5
          }
         },
         "name": "Closed Arms",
         "opacity": 0.6,
         "text": [
          0.024137623900955578,
          0.0023402523402523403,
          0.0027914614121510666,
          0.005555555555555555
         ],
         "textposition": "auto",
         "type": "bar",
         "uid": "c30674",
         "x": [
          "drd87",
          "drd73",
          "drd77",
          "drd46"
         ],
         "y": [
          0.024137623900955578,
          0.0023402523402523403,
          0.0027914614121510666,
          0.005555555555555555
         ]
        }
       ],
       "layout": {
        "autosize": true,
        "title": "Mean Load Centrality",
        "xaxis": {
         "autorange": true,
         "range": [
          -0.5,
          3.5
         ],
         "type": "category"
        },
        "yaxis": {
         "autorange": true,
         "range": [
          0,
          0.044594244231267836
         ],
         "type": "linear"
        }
       }
      }
     },
     "metadata": {},
     "output_type": "display_data"
    },
    {
     "data": {
      "application/vnd.plotly.v1+json": {
       "data": [
        {
         "marker": {
          "color": "rgb(255, 0, 0)",
          "line": {
           "color": "rgb(180, 0, 0)",
           "width": 1.5
          }
         },
         "name": "Open Arms",
         "opacity": 0.6,
         "text": [
          0.47213303440251886,
          0.36547619047619045,
          0.3943650793650794,
          0
         ],
         "textposition": "auto",
         "type": "bar",
         "uid": "fe1eb5",
         "x": [
          "drd87",
          "drd73",
          "drd77",
          "drd46"
         ],
         "y": [
          0.47213303440251886,
          0.36547619047619045,
          0.3943650793650794,
          0
         ]
        },
        {
         "marker": {
          "color": "rgb(58,200,225)",
          "line": {
           "color": "rgb(8,48,107)",
           "width": 1.5
          }
         },
         "name": "Closed Arms",
         "opacity": 0.6,
         "text": [
          0.3660900291335074,
          0.29166666666666663,
          0.21666666666666667,
          0.2333333333333333
         ],
         "textposition": "auto",
         "type": "bar",
         "uid": "ae46af",
         "x": [
          "drd87",
          "drd73",
          "drd77",
          "drd46"
         ],
         "y": [
          0.3660900291335074,
          0.29166666666666663,
          0.21666666666666667,
          0.2333333333333333
         ]
        }
       ],
       "layout": {
        "autosize": true,
        "title": "Avg Clustering Coefficient",
        "xaxis": {
         "autorange": true,
         "range": [
          -0.5,
          3.5
         ],
         "type": "category"
        },
        "yaxis": {
         "autorange": true,
         "range": [
          0,
          0.4969821414763356
         ],
         "type": "linear"
        }
       }
      }
     },
     "metadata": {},
     "output_type": "display_data"
    },
    {
     "data": {
      "application/vnd.plotly.v1+json": {
       "data": [
        {
         "marker": {
          "color": "rgb(255, 0, 0)",
          "line": {
           "color": "rgb(180, 0, 0)",
           "width": 1.5
          }
         },
         "name": "Open Arms",
         "opacity": 0.6,
         "text": [
          11,
          4,
          5,
          1
         ],
         "textposition": "auto",
         "type": "bar",
         "uid": "e0ac24",
         "x": [
          "drd87",
          "drd73",
          "drd77",
          "drd46"
         ],
         "y": [
          11,
          4,
          5,
          1
         ]
        },
        {
         "marker": {
          "color": "rgb(58,200,225)",
          "line": {
           "color": "rgb(8,48,107)",
           "width": 1.5
          }
         },
         "name": "Closed Arms",
         "opacity": 0.6,
         "text": [
          5,
          3,
          4,
          3
         ],
         "textposition": "auto",
         "type": "bar",
         "uid": "8a5f6d",
         "x": [
          "drd87",
          "drd73",
          "drd77",
          "drd46"
         ],
         "y": [
          5,
          3,
          4,
          3
         ]
        }
       ],
       "layout": {
        "autosize": true,
        "title": "Max Clique Size",
        "xaxis": {
         "autorange": true,
         "range": [
          -0.5,
          3.5
         ],
         "type": "category"
        },
        "yaxis": {
         "autorange": true,
         "range": [
          0,
          11.578947368421053
         ],
         "type": "linear"
        }
       }
      }
     },
     "metadata": {},
     "output_type": "display_data"
    },
    {
     "data": {
      "application/vnd.plotly.v1+json": {
       "data": [
        {
         "marker": {
          "color": "rgb(255, 0, 0)",
          "line": {
           "color": "rgb(180, 0, 0)",
           "width": 1.5
          }
         },
         "name": "Open Arms",
         "opacity": 0.6,
         "text": [
          5.518714555765595,
          1.7258064516129032,
          2.2280701754385963,
          1
         ],
         "textposition": "auto",
         "type": "bar",
         "uid": "cfcfbd",
         "x": [
          "drd87",
          "drd73",
          "drd77",
          "drd46"
         ],
         "y": [
          5.518714555765595,
          1.7258064516129032,
          2.2280701754385963,
          1
         ]
        },
        {
         "marker": {
          "color": "rgb(58,200,225)",
          "line": {
           "color": "rgb(8,48,107)",
           "width": 1.5
          }
         },
         "name": "Closed Arms",
         "opacity": 0.6,
         "text": [
          2.3965014577259476,
          1.4680851063829787,
          1.6206896551724137,
          1.4
         ],
         "textposition": "auto",
         "type": "bar",
         "uid": "16a010",
         "x": [
          "drd87",
          "drd73",
          "drd77",
          "drd46"
         ],
         "y": [
          2.3965014577259476,
          1.4680851063829787,
          1.6206896551724137,
          1.4
         ]
        }
       ],
       "layout": {
        "autosize": true,
        "title": "Mean Clique Size",
        "xaxis": {
         "autorange": true,
         "range": [
          -0.5,
          3.5
         ],
         "type": "category"
        },
        "yaxis": {
         "autorange": true,
         "range": [
          0,
          5.809173216595363
         ],
         "type": "linear"
        }
       }
      }
     },
     "metadata": {},
     "output_type": "display_data"
    },
    {
     "data": {
      "application/vnd.plotly.v1+json": {
       "data": [
        {
         "marker": {
          "color": "rgb(255, 0, 0)",
          "line": {
           "color": "rgb(180, 0, 0)",
           "width": 1.5
          }
         },
         "name": "Open Arms",
         "opacity": 0.6,
         "text": [
          0.09036658141517477,
          0.06349206349206349,
          0.09885057471264368,
          0
         ],
         "textposition": "auto",
         "type": "bar",
         "uid": "128594",
         "x": [
          "drd87",
          "drd73",
          "drd77",
          "drd46"
         ],
         "y": [
          0.09036658141517477,
          0.06349206349206349,
          0.09885057471264368,
          0
         ]
        },
        {
         "marker": {
          "color": "rgb(58,200,225)",
          "line": {
           "color": "rgb(8,48,107)",
           "width": 1.5
          }
         },
         "name": "Closed Arms",
         "opacity": 0.6,
         "text": [
          0.05370843989769821,
          0.042328042328042326,
          0.04827586206896552,
          0.08888888888888889
         ],
         "textposition": "auto",
         "type": "bar",
         "uid": "cd44d7",
         "x": [
          "drd87",
          "drd73",
          "drd77",
          "drd46"
         ],
         "y": [
          0.05370843989769821,
          0.042328042328042326,
          0.04827586206896552,
          0.08888888888888889
         ]
        }
       ],
       "layout": {
        "autosize": true,
        "title": "Connection Density",
        "xaxis": {
         "autorange": true,
         "range": [
          -0.5,
          3.5
         ],
         "type": "category"
        },
        "yaxis": {
         "autorange": true,
         "range": [
          0,
          0.10405323653962492
         ],
         "type": "linear"
        }
       }
      }
     },
     "metadata": {},
     "output_type": "display_data"
    },
    {
     "data": {
      "application/vnd.plotly.v1+json": {
       "data": [
        {
         "marker": {
          "color": "rgb(255, 0, 0)",
          "line": {
           "color": "rgb(180, 0, 0)",
           "width": 1.5
          }
         },
         "name": "Open Arms",
         "opacity": 0.6,
         "text": [
          0.7298713341518565,
          0.5922619047619048,
          0.7553439153439154,
          0
         ],
         "textposition": "auto",
         "type": "bar",
         "uid": "711bf8",
         "x": [
          "drd87",
          "drd73",
          "drd77",
          "drd46"
         ],
         "y": [
          0.7298713341518565,
          0.5922619047619048,
          0.7553439153439154,
          0
         ]
        },
        {
         "marker": {
          "color": "rgb(58,200,225)",
          "line": {
           "color": "rgb(8,48,107)",
           "width": 1.5
          }
         },
         "name": "Closed Arms",
         "opacity": 0.6,
         "text": [
          0.7706079347383696,
          0.6577380952380952,
          0.6994444444444444,
          0.38333333333333336
         ],
         "textposition": "auto",
         "type": "bar",
         "uid": "3fb0e3",
         "x": [
          "drd87",
          "drd73",
          "drd77",
          "drd46"
         ],
         "y": [
          0.7706079347383696,
          0.6577380952380952,
          0.6994444444444444,
          0.38333333333333336
         ]
        }
       ],
       "layout": {
        "autosize": true,
        "title": "Local Efficiency",
        "xaxis": {
         "autorange": true,
         "range": [
          -0.5,
          3.5
         ],
         "type": "category"
        },
        "yaxis": {
         "autorange": true,
         "range": [
          0,
          0.8111662470930207
         ],
         "type": "linear"
        }
       }
      }
     },
     "metadata": {},
     "output_type": "display_data"
    },
    {
     "data": {
      "application/vnd.plotly.v1+json": {
       "data": [
        {
         "marker": {
          "color": "rgb(255, 0, 0)",
          "line": {
           "color": "rgb(180, 0, 0)",
           "width": 1.5
          }
         },
         "name": "Open Arms",
         "opacity": 0.6,
         "text": [
          0.27133418584825264,
          0.13226883345930962,
          0.25828133552271504,
          0
         ],
         "textposition": "auto",
         "type": "bar",
         "uid": "77eed3",
         "x": [
          "drd87",
          "drd73",
          "drd77",
          "drd46"
         ],
         "y": [
          0.27133418584825264,
          0.13226883345930962,
          0.25828133552271504,
          0
         ]
        },
        {
         "marker": {
          "color": "rgb(58,200,225)",
          "line": {
           "color": "rgb(8,48,107)",
           "width": 1.5
          }
         },
         "name": "Closed Arms",
         "opacity": 0.6,
         "text": [
          0.23861588113506585,
          0.057539682539682536,
          0.07049808429118776,
          0.1111111111111111
         ],
         "textposition": "auto",
         "type": "bar",
         "uid": "b17904",
         "x": [
          "drd87",
          "drd73",
          "drd77",
          "drd46"
         ],
         "y": [
          0.23861588113506585,
          0.057539682539682536,
          0.07049808429118776,
          0.1111111111111111
         ]
        }
       ],
       "layout": {
        "autosize": true,
        "title": "Global Efficiency",
        "xaxis": {
         "autorange": true,
         "range": [
          -0.5,
          3.5
         ],
         "type": "category"
        },
        "yaxis": {
         "autorange": true,
         "range": [
          0,
          0.2856149324718449
         ],
         "type": "linear"
        }
       }
      }
     },
     "metadata": {},
     "output_type": "display_data"
    }
   ],
   "source": [
    "titles = [\"Mean Betweeness Centrality\", \"Mean Degree Centrality\", \"Mean Load Centrality\", \"Avg Clustering Coefficient\", \"Max Clique Size\", \"Mean Clique Size\", \"Connection Density\", \"Local Efficiency\", \"Global Efficiency\"]\n",
    "mice_names = [\"drd87\", \"drd73\", \"drd77\", \"drd46\"]\n",
    "\n",
    "y = []\n",
    "y2 = []\n",
    "for mouse_name in mice_names:\n",
    "    y.append(animal_network_measures[mouse_name][\"open betw cent\"])\n",
    "    y2.append(animal_network_measures[mouse_name][\"closed betw cent\"])\n",
    "\n",
    "plot_network_measures(y, y2, titles[0], *mice_names)\n",
    "\n",
    "y = []\n",
    "y2 = []\n",
    "for mouse_name in mice_names:\n",
    "    y.append(animal_network_measures[mouse_name][\"open deg cent\"])\n",
    "    y2.append(animal_network_measures[mouse_name][\"closed deg cent\"])\n",
    "\n",
    "plot_network_measures(y, y2, titles[1], *mice_names)\n",
    "\n",
    "y = []\n",
    "y2 = []\n",
    "for mouse_name in mice_names:\n",
    "    y.append(animal_network_measures[mouse_name][\"open load cent\"])\n",
    "    y2.append(animal_network_measures[mouse_name][\"closed load cent\"])\n",
    "\n",
    "plot_network_measures(y, y2, titles[2], *mice_names)\n",
    "\n",
    "y = []\n",
    "y2 = []\n",
    "for mouse_name in mice_names:\n",
    "    y.append(animal_network_measures[mouse_name][\"open avg clust coeff\"])\n",
    "    y2.append(animal_network_measures[mouse_name][\"closed avg clust coeff\"])\n",
    "\n",
    "plot_network_measures(y, y2, titles[3], *mice_names)\n",
    "\n",
    "y = []\n",
    "y2 = []\n",
    "for mouse_name in mice_names:\n",
    "    y.append(animal_network_measures[mouse_name][\"open max clique size\"])\n",
    "    y2.append(animal_network_measures[mouse_name][\"closed max clique size\"])\n",
    "\n",
    "plot_network_measures(y, y2, titles[4], *mice_names)\n",
    "\n",
    "y = []\n",
    "y2 = []\n",
    "for mouse_name in mice_names:\n",
    "    y.append(animal_network_measures[mouse_name][\"open mean clique size\"])\n",
    "    y2.append(animal_network_measures[mouse_name][\"closed mean clique size\"])\n",
    "\n",
    "plot_network_measures(y, y2, titles[5], *mice_names)\n",
    "\n",
    "y = []\n",
    "y2 = []\n",
    "for mouse_name in mice_names:\n",
    "    y.append(animal_network_measures[mouse_name][\"open connection density\"])\n",
    "    y2.append(animal_network_measures[mouse_name][\"closed connection density\"])\n",
    "\n",
    "plot_network_measures(y, y2, titles[6], *mice_names)\n",
    "\n",
    "y = []\n",
    "y2 = []\n",
    "for mouse_name in mice_names:\n",
    "    y.append(animal_network_measures[mouse_name][\"open local efficiency\"])\n",
    "    y2.append(animal_network_measures[mouse_name][\"closed local efficiency\"])\n",
    "\n",
    "plot_network_measures(y, y2, titles[7], *mice_names)\n",
    "\n",
    "y = []\n",
    "y2 = []\n",
    "for mouse_name in mice_names:\n",
    "    y.append(animal_network_measures[mouse_name][\"open global efficiency\"])\n",
    "    y2.append(animal_network_measures[mouse_name][\"closed global efficiency\"])\n",
    "\n",
    "plot_network_measures(y, y2, titles[8], *mice_names)"
   ]
  },
  {
   "cell_type": "code",
   "execution_count": null,
   "metadata": {},
   "outputs": [],
   "source": []
  }
 ],
 "metadata": {
  "kernelspec": {
   "display_name": "Python 3",
   "language": "python",
   "name": "python3"
  },
  "language_info": {
   "codemirror_mode": {
    "name": "ipython",
    "version": 3
   },
   "file_extension": ".py",
   "mimetype": "text/x-python",
   "name": "python",
   "nbconvert_exporter": "python",
   "pygments_lexer": "ipython3",
   "version": "3.6.5"
  }
 },
 "nbformat": 4,
 "nbformat_minor": 2
}
