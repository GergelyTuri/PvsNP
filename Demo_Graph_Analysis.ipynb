{
 "cells": [
  {
   "cell_type": "markdown",
   "metadata": {},
   "source": [
    "# Graph Theoretical Analysis"
   ]
  },
  {
   "cell_type": "code",
   "execution_count": 1,
   "metadata": {},
   "outputs": [],
   "source": [
    "import os\n",
    "import pandas as pd\n",
    "import networkx as nx\n",
    "import numpy as np\n",
    "import seaborn as sns\n",
    "import SigProc\n",
    "from analysis import graph_analysis_utils as gau\n",
    "from analysis import analysis_utils as au\n",
    "from scipy import stats\n",
    "from IPython.core.interactiveshell import InteractiveShell"
   ]
  },
  {
   "cell_type": "code",
   "execution_count": 2,
   "metadata": {},
   "outputs": [],
   "source": [
    "InteractiveShell.ast_node_interactivity = \"all\"\n",
    "%matplotlib inline"
   ]
  },
  {
   "cell_type": "code",
   "execution_count": 3,
   "metadata": {},
   "outputs": [],
   "source": [
    "mouse_directory = os.path.expanduser(\"~\") + \"/Hen_Lab/Mice/EPM\"\n",
    "\n",
    "if not os.path.exists(mouse_directory):\n",
    "    print(\"The mouse directory does not exist\", file=sys.stderr)\n",
    "\n",
    "animal_data_files = dict()\n",
    "\n",
    "for dir_name, subdir_list, file_list in os.walk(mouse_directory):\n",
    "    if subdir_list:\n",
    "        mice_directories = subdir_list\n",
    "\n",
    "    for file_name in file_list:\n",
    "        for mouse_name in mice_directories:\n",
    "            if file_name.endswith(\".csv\") and (mouse_name in file_name and \"behavior\" in file_name):\n",
    "                if mouse_name in animal_data_files:\n",
    "                    animal_data_files[mouse_name].update({\"behavior\":dir_name+\"/\"+file_name})\n",
    "                else:\n",
    "                    animal_data_files[mouse_name] = {\"behavior\":dir_name+\"/\"+file_name}\n",
    "            elif file_name.endswith(\".csv\") and (mouse_name in file_name and \"Raw\" in file_name):\n",
    "                if mouse_name in animal_data_files:\n",
    "                    animal_data_files[mouse_name].update({\"Raw\":dir_name+\"/\"+file_name})\n",
    "                else:\n",
    "                    animal_data_files[mouse_name] = {\"Raw\":dir_name+\"/\"+file_name}"
   ]
  },
  {
   "cell_type": "markdown",
   "metadata": {},
   "source": [
    "## Store all neuron activity and corresponding behavior dataframes, for each animal, in a dictionary"
   ]
  },
  {
   "cell_type": "code",
   "execution_count": 4,
   "metadata": {},
   "outputs": [
    {
     "name": "stdout",
     "output_type": "stream",
     "text": [
      "drd87\n",
      "drd73\n",
      "drd77\n",
      "drd46\n"
     ]
    }
   ],
   "source": [
    "animal_dataframes = dict()\n",
    "\n",
    "for animal_name in animal_data_files:\n",
    "    print(animal_name)\n",
    "    \n",
    "    data = pd.read_csv(animal_data_files[animal_name][\"Raw\"], header=None)\n",
    "    _, _, cell_transients_dataframe = SigProc.detect_ca_transients_mossy(data, 2, 0.5, 0.2, 10)\n",
    "    \n",
    "    # Rename all the columns from \"neuron_x\" --> \"x\". This makes the graphs neater by making sure the neuron names fit into the nodes\n",
    "    cell_transients_dataframe.columns = [i for i in range(1, len(cell_transients_dataframe.columns)+1)]\n",
    "    \n",
    "    behavior_column_names = ['Trial_time', 'Recording_time', 'X_center', 'Y_center', 'Area', 'Areachange', \n",
    "                         'Elongation', 'Distance_moved', 'Velocity', 'Arena_centerpoint',\n",
    "                         'Open1_centerpoint', 'Open2_centerpoint',\n",
    "                         'Closed1_centerpoint', 'Closed2_centerpoint',\n",
    "                         'OpenArms_centerpoint', 'ClosedArms_centerpoint', 'Result_1']\n",
    "\n",
    "    behavior_df = pd.read_csv(animal_data_files[animal_name][\"behavior\"], header=None)\n",
    "    behavior_df.columns = behavior_column_names\n",
    "    \n",
    "    # Only keep every 3rd row of the original behavior dataframe in order to downsample 30 fps --> 10 fps\n",
    "    behavior_df = au.downsample_dataframe(behavior_df, 3)\n",
    "\n",
    "    # Define cutoff for what constitutes as a running frame\n",
    "    VELOCITY_CUTOFF = 4;\n",
    "\n",
    "    # Adds \"Running_frames\" column to the end of the behavior dataframe \n",
    "    behavior_df[\"Running_frames\"] = np.where(behavior_df[\"Velocity\"] > VELOCITY_CUTOFF, 1, 0)\n",
    "    \n",
    "    neuron_concated_behavior = cell_transients_dataframe.join(behavior_df, how=\"left\")\n",
    "    \n",
    "    if not animal_name in animal_dataframes:\n",
    "        animal_dataframes[animal_name] = {\"cell transients\": cell_transients_dataframe, \"behavior\": behavior_df, \"neuron and beh\": neuron_concated_behavior}"
   ]
  },
  {
   "cell_type": "markdown",
   "metadata": {},
   "source": [
    "## Compute all network measures for each mouse, and store them in a dictionary"
   ]
  },
  {
   "cell_type": "code",
   "execution_count": 5,
   "metadata": {},
   "outputs": [],
   "source": [
    "animal_network_measures = dict()\n",
    "\n",
    "for animal in animal_dataframes:\n",
    "    # print(animal)\n",
    "    \n",
    "    indices = animal_dataframes[animal][\"neuron and beh\"].loc[animal_dataframes[animal][\"neuron and beh\"][\"OpenArms_centerpoint\"] != 0].index\n",
    "    open_arms_graph = gau.create_graph(animal_dataframes[animal][\"cell transients\"].iloc[indices])\n",
    "    \n",
    "    indices = animal_dataframes[animal][\"neuron and beh\"].loc[animal_dataframes[animal][\"neuron and beh\"][\"ClosedArms_centerpoint\"] != 0].index\n",
    "    closed_arms_graph = gau.create_graph(animal_dataframes[animal][\"cell transients\"].iloc[indices])\n",
    "    \n",
    "    animal_network_measures[animal] = {\"open betw cent\": gau.compute_mean_betweenness_centrality(open_arms_graph)}\n",
    "    animal_network_measures[animal].update({\"closed betw cent\": gau.compute_mean_betweenness_centrality(closed_arms_graph)})\n",
    "    \n",
    "    animal_network_measures[animal].update({\"open deg cent\": gau.compute_mean_degree_centrality(open_arms_graph)})\n",
    "    animal_network_measures[animal].update({\"closed deg cent\": gau.compute_mean_degree_centrality(closed_arms_graph)})\n",
    "    \n",
    "    animal_network_measures[animal].update({\"open load cent\": gau.compute_mean_load_centrality(open_arms_graph)})\n",
    "    animal_network_measures[animal].update({\"closed load cent\": gau.compute_mean_load_centrality(closed_arms_graph)})\n",
    "    \n",
    "    animal_network_measures[animal].update({\"open avg clust coeff\": nx.average_clustering(open_arms_graph)})\n",
    "    animal_network_measures[animal].update({\"closed avg clust coeff\": nx.average_clustering(closed_arms_graph)})\n",
    "    \n",
    "    animal_network_measures[animal].update({\"open max clique size\": gau.get_max_clique_size(open_arms_graph)})\n",
    "    animal_network_measures[animal].update({\"closed max clique size\": gau.get_max_clique_size(closed_arms_graph)})\n",
    "    \n",
    "    animal_network_measures[animal].update({\"open connection density\": gau.compute_connection_density(open_arms_graph)})\n",
    "    animal_network_measures[animal].update({\"closed connection density\": gau.compute_connection_density(closed_arms_graph)})\n",
    "    \n",
    "    animal_network_measures[animal].update({\"open local efficiency\": nx.local_efficiency(open_arms_graph)})\n",
    "    animal_network_measures[animal].update({\"closed local efficiency\": nx.local_efficiency(closed_arms_graph)})\n",
    "    animal_network_measures[animal].update({\"open global efficiency\": nx.global_efficiency(open_arms_graph)})\n",
    "    animal_network_measures[animal].update({\"closed global efficiency\": nx.global_efficiency(closed_arms_graph)})"
   ]
  },
  {
   "cell_type": "code",
   "execution_count": 6,
   "metadata": {},
   "outputs": [
    {
     "data": {
      "text/plain": [
       "{'drd87': {'open betw cent': 0.015567940349403876,\n",
       "  'closed betw cent': 0.024137623900955578,\n",
       "  'open deg cent': 0.09036658141517477,\n",
       "  'closed deg cent': 0.05370843989769821,\n",
       "  'open load cent': 0.015567940349403876,\n",
       "  'closed load cent': 0.024137623900955578,\n",
       "  'open avg clust coeff': 0.47213303440251886,\n",
       "  'closed avg clust coeff': 0.3660900291335074,\n",
       "  'open max clique size': 11,\n",
       "  'closed max clique size': 5,\n",
       "  'open connection density': 0.09036658141517477,\n",
       "  'closed connection density': 0.05370843989769821,\n",
       "  'open local efficiency': 0.7298713341518565,\n",
       "  'closed local efficiency': 0.7706079347383696,\n",
       "  'open global efficiency': 0.27133418584825264,\n",
       "  'closed global efficiency': 0.23861588113506585},\n",
       " 'drd73': {'open betw cent': 0.012922262922262923,\n",
       "  'closed betw cent': 0.014652014652014652,\n",
       "  'open deg cent': 0.0873015873015873,\n",
       "  'closed deg cent': 0.060846560846560836,\n",
       "  'open load cent': 0.012922262922262923,\n",
       "  'closed load cent': 0.014652014652014652,\n",
       "  'open avg clust coeff': 0.25,\n",
       "  'closed avg clust coeff': 0.2619047619047619,\n",
       "  'open max clique size': 4,\n",
       "  'closed max clique size': 3,\n",
       "  'open connection density': 0.0873015873015873,\n",
       "  'closed connection density': 0.06084656084656084,\n",
       "  'open local efficiency': 0.6955924036281179,\n",
       "  'closed local efficiency': 0.8047619047619047,\n",
       "  'open global efficiency': 0.1675044091710757,\n",
       "  'closed global efficiency': 0.10415406903502145},\n",
       " 'drd77': {'open betw cent': 0.011822660098522168,\n",
       "  'closed betw cent': 0.011576354679802956,\n",
       "  'open deg cent': 0.04827586206896551,\n",
       "  'closed deg cent': 0.06206896551724137,\n",
       "  'open load cent': 0.011822660098522168,\n",
       "  'closed load cent': 0.011576354679802956,\n",
       "  'open avg clust coeff': 0.2111111111111111,\n",
       "  'closed avg clust coeff': 0.28111111111111114,\n",
       "  'open max clique size': 3,\n",
       "  'closed max clique size': 3,\n",
       "  'open connection density': 0.04827586206896552,\n",
       "  'closed connection density': 0.06206896551724138,\n",
       "  'open local efficiency': 0.675,\n",
       "  'closed local efficiency': 0.6711111111111112,\n",
       "  'open global efficiency': 0.0911932129173509,\n",
       "  'closed global efficiency': 0.11072796934865901},\n",
       " 'drd46': {'open betw cent': 0.0,\n",
       "  'closed betw cent': 0.005555555555555555,\n",
       "  'open deg cent': 0.0,\n",
       "  'closed deg cent': 0.08888888888888888,\n",
       "  'open load cent': 0.0,\n",
       "  'closed load cent': 0.005555555555555555,\n",
       "  'open avg clust coeff': 0.0,\n",
       "  'closed avg clust coeff': 0.2333333333333333,\n",
       "  'open max clique size': 1,\n",
       "  'closed max clique size': 3,\n",
       "  'open connection density': 0.0,\n",
       "  'closed connection density': 0.08888888888888889,\n",
       "  'open local efficiency': 0.0,\n",
       "  'closed local efficiency': 0.38333333333333336,\n",
       "  'open global efficiency': 0.0,\n",
       "  'closed global efficiency': 0.1111111111111111}}"
      ]
     },
     "execution_count": 6,
     "metadata": {},
     "output_type": "execute_result"
    }
   ],
   "source": [
    "animal_network_measures"
   ]
  },
  {
   "cell_type": "code",
   "execution_count": 7,
   "metadata": {},
   "outputs": [],
   "source": [
    "import plotly\n",
    "import plotly.graph_objs as go\n",
    "\n",
    "def plot_network_measures(y, y2, title):\n",
    "\n",
    "    x = [\"drd87\", \"drd73\", \"drd77\", \"drd46\"]\n",
    "    \n",
    "    trace1 = go.Bar(\n",
    "        x=x,\n",
    "        y=y,\n",
    "        text=y,\n",
    "        textposition = 'auto',\n",
    "        name=\"Open Arms\",\n",
    "        marker=dict(\n",
    "            color='rgb(255, 0, 0)',\n",
    "            line=dict(\n",
    "                color='rgb(180, 0, 0)',\n",
    "                width=1.5),\n",
    "            ),\n",
    "        opacity=0.6\n",
    "    )\n",
    "\n",
    "    trace2 = go.Bar(\n",
    "        x=x,\n",
    "        y=y2,\n",
    "        text=y2,\n",
    "        textposition = 'auto',\n",
    "        name=\"Closed Arms\",\n",
    "        marker=dict(\n",
    "            color='rgb(58,200,225)',\n",
    "            line=dict(\n",
    "                color='rgb(8,48,107)',\n",
    "                width=1.5),\n",
    "            ),\n",
    "        opacity=0.6\n",
    "    )\n",
    "\n",
    "    data = [trace1, trace2]\n",
    "    layout = go.Layout(\n",
    "        title=title,\n",
    "    )\n",
    "    fig = go.Figure(data=data, layout=layout)\n",
    "    plotly.offline.iplot(fig)"
   ]
  },
  {
   "cell_type": "code",
   "execution_count": 8,
   "metadata": {},
   "outputs": [
    {
     "data": {
      "application/vnd.plotly.v1+json": {
       "data": [
        {
         "marker": {
          "color": "rgb(255, 0, 0)",
          "line": {
           "color": "rgb(180, 0, 0)",
           "width": 1.5
          }
         },
         "name": "Open Arms",
         "opacity": 0.6,
         "text": [
          0.015567940349403876,
          0.012922262922262923,
          0.011822660098522168,
          0
         ],
         "textposition": "auto",
         "type": "bar",
         "uid": "d67545",
         "x": [
          "drd87",
          "drd73",
          "drd77",
          "drd46"
         ],
         "y": [
          0.015567940349403876,
          0.012922262922262923,
          0.011822660098522168,
          0
         ]
        },
        {
         "marker": {
          "color": "rgb(58,200,225)",
          "line": {
           "color": "rgb(8,48,107)",
           "width": 1.5
          }
         },
         "name": "Closed Arms",
         "opacity": 0.6,
         "text": [
          0.024137623900955578,
          0.014652014652014652,
          0.011576354679802956,
          0.005555555555555555
         ],
         "textposition": "auto",
         "type": "bar",
         "uid": "38ff60",
         "x": [
          "drd87",
          "drd73",
          "drd77",
          "drd46"
         ],
         "y": [
          0.024137623900955578,
          0.014652014652014652,
          0.011576354679802956,
          0.005555555555555555
         ]
        }
       ],
       "layout": {
        "autosize": true,
        "title": "Mean Betweeness Centrality",
        "xaxis": {
         "autorange": true,
         "range": [
          -0.5,
          3.5
         ],
         "type": "category"
        },
        "yaxis": {
         "autorange": true,
         "range": [
          0,
          0.02540802515890061
         ],
         "type": "linear"
        }
       }
      }
     },
     "metadata": {},
     "output_type": "display_data"
    },
    {
     "data": {
      "application/vnd.plotly.v1+json": {
       "data": [
        {
         "marker": {
          "color": "rgb(255, 0, 0)",
          "line": {
           "color": "rgb(180, 0, 0)",
           "width": 1.5
          }
         },
         "name": "Open Arms",
         "opacity": 0.6,
         "text": [
          0.09036658141517477,
          0.0873015873015873,
          0.04827586206896551,
          0
         ],
         "textposition": "auto",
         "type": "bar",
         "uid": "34f982",
         "x": [
          "drd87",
          "drd73",
          "drd77",
          "drd46"
         ],
         "y": [
          0.09036658141517477,
          0.0873015873015873,
          0.04827586206896551,
          0
         ]
        },
        {
         "marker": {
          "color": "rgb(58,200,225)",
          "line": {
           "color": "rgb(8,48,107)",
           "width": 1.5
          }
         },
         "name": "Closed Arms",
         "opacity": 0.6,
         "text": [
          0.05370843989769821,
          0.060846560846560836,
          0.06206896551724137,
          0.08888888888888888
         ],
         "textposition": "auto",
         "type": "bar",
         "uid": "0f9d46",
         "x": [
          "drd87",
          "drd73",
          "drd77",
          "drd46"
         ],
         "y": [
          0.05370843989769821,
          0.060846560846560836,
          0.06206896551724137,
          0.08888888888888888
         ]
        }
       ],
       "layout": {
        "autosize": true,
        "title": "Mean Degree Centrality",
        "xaxis": {
         "autorange": true,
         "range": [
          -0.5,
          3.5
         ],
         "type": "category"
        },
        "yaxis": {
         "autorange": true,
         "range": [
          0,
          0.09512271727913134
         ],
         "type": "linear"
        }
       }
      }
     },
     "metadata": {},
     "output_type": "display_data"
    },
    {
     "data": {
      "application/vnd.plotly.v1+json": {
       "data": [
        {
         "marker": {
          "color": "rgb(255, 0, 0)",
          "line": {
           "color": "rgb(180, 0, 0)",
           "width": 1.5
          }
         },
         "name": "Open Arms",
         "opacity": 0.6,
         "text": [
          0.015567940349403876,
          0.012922262922262923,
          0.011822660098522168,
          0
         ],
         "textposition": "auto",
         "type": "bar",
         "uid": "c65043",
         "x": [
          "drd87",
          "drd73",
          "drd77",
          "drd46"
         ],
         "y": [
          0.015567940349403876,
          0.012922262922262923,
          0.011822660098522168,
          0
         ]
        },
        {
         "marker": {
          "color": "rgb(58,200,225)",
          "line": {
           "color": "rgb(8,48,107)",
           "width": 1.5
          }
         },
         "name": "Closed Arms",
         "opacity": 0.6,
         "text": [
          0.024137623900955578,
          0.014652014652014652,
          0.011576354679802956,
          0.005555555555555555
         ],
         "textposition": "auto",
         "type": "bar",
         "uid": "b8ad12",
         "x": [
          "drd87",
          "drd73",
          "drd77",
          "drd46"
         ],
         "y": [
          0.024137623900955578,
          0.014652014652014652,
          0.011576354679802956,
          0.005555555555555555
         ]
        }
       ],
       "layout": {
        "autosize": true,
        "title": "Mean Load Centrality",
        "xaxis": {
         "autorange": true,
         "range": [
          -0.5,
          3.5
         ],
         "type": "category"
        },
        "yaxis": {
         "autorange": true,
         "range": [
          0,
          0.02540802515890061
         ],
         "type": "linear"
        }
       }
      }
     },
     "metadata": {},
     "output_type": "display_data"
    },
    {
     "data": {
      "application/vnd.plotly.v1+json": {
       "data": [
        {
         "marker": {
          "color": "rgb(255, 0, 0)",
          "line": {
           "color": "rgb(180, 0, 0)",
           "width": 1.5
          }
         },
         "name": "Open Arms",
         "opacity": 0.6,
         "text": [
          0.47213303440251886,
          0.25,
          0.2111111111111111,
          0
         ],
         "textposition": "auto",
         "type": "bar",
         "uid": "01cb94",
         "x": [
          "drd87",
          "drd73",
          "drd77",
          "drd46"
         ],
         "y": [
          0.47213303440251886,
          0.25,
          0.2111111111111111,
          0
         ]
        },
        {
         "marker": {
          "color": "rgb(58,200,225)",
          "line": {
           "color": "rgb(8,48,107)",
           "width": 1.5
          }
         },
         "name": "Closed Arms",
         "opacity": 0.6,
         "text": [
          0.3660900291335074,
          0.2619047619047619,
          0.28111111111111114,
          0.2333333333333333
         ],
         "textposition": "auto",
         "type": "bar",
         "uid": "a134b5",
         "x": [
          "drd87",
          "drd73",
          "drd77",
          "drd46"
         ],
         "y": [
          0.3660900291335074,
          0.2619047619047619,
          0.28111111111111114,
          0.2333333333333333
         ]
        }
       ],
       "layout": {
        "autosize": true,
        "title": "Avg Clustering Coefficient",
        "xaxis": {
         "autorange": true,
         "range": [
          -0.5,
          3.5
         ],
         "type": "category"
        },
        "yaxis": {
         "autorange": true,
         "range": [
          0,
          0.4969821414763356
         ],
         "type": "linear"
        }
       }
      }
     },
     "metadata": {},
     "output_type": "display_data"
    },
    {
     "data": {
      "application/vnd.plotly.v1+json": {
       "data": [
        {
         "marker": {
          "color": "rgb(255, 0, 0)",
          "line": {
           "color": "rgb(180, 0, 0)",
           "width": 1.5
          }
         },
         "name": "Open Arms",
         "opacity": 0.6,
         "text": [
          11,
          4,
          3,
          1
         ],
         "textposition": "auto",
         "type": "bar",
         "uid": "084d9c",
         "x": [
          "drd87",
          "drd73",
          "drd77",
          "drd46"
         ],
         "y": [
          11,
          4,
          3,
          1
         ]
        },
        {
         "marker": {
          "color": "rgb(58,200,225)",
          "line": {
           "color": "rgb(8,48,107)",
           "width": 1.5
          }
         },
         "name": "Closed Arms",
         "opacity": 0.6,
         "text": [
          5,
          3,
          3,
          3
         ],
         "textposition": "auto",
         "type": "bar",
         "uid": "68f81e",
         "x": [
          "drd87",
          "drd73",
          "drd77",
          "drd46"
         ],
         "y": [
          5,
          3,
          3,
          3
         ]
        }
       ],
       "layout": {
        "autosize": true,
        "title": "Max Clique Size",
        "xaxis": {
         "autorange": true,
         "range": [
          -0.5,
          3.5
         ],
         "type": "category"
        },
        "yaxis": {
         "autorange": true,
         "range": [
          0,
          11.578947368421053
         ],
         "type": "linear"
        }
       }
      }
     },
     "metadata": {},
     "output_type": "display_data"
    },
    {
     "data": {
      "application/vnd.plotly.v1+json": {
       "data": [
        {
         "marker": {
          "color": "rgb(255, 0, 0)",
          "line": {
           "color": "rgb(180, 0, 0)",
           "width": 1.5
          }
         },
         "name": "Open Arms",
         "opacity": 0.6,
         "text": [
          0.09036658141517477,
          0.0873015873015873,
          0.04827586206896552,
          0
         ],
         "textposition": "auto",
         "type": "bar",
         "uid": "9e0d26",
         "x": [
          "drd87",
          "drd73",
          "drd77",
          "drd46"
         ],
         "y": [
          0.09036658141517477,
          0.0873015873015873,
          0.04827586206896552,
          0
         ]
        },
        {
         "marker": {
          "color": "rgb(58,200,225)",
          "line": {
           "color": "rgb(8,48,107)",
           "width": 1.5
          }
         },
         "name": "Closed Arms",
         "opacity": 0.6,
         "text": [
          0.05370843989769821,
          0.06084656084656084,
          0.06206896551724138,
          0.08888888888888889
         ],
         "textposition": "auto",
         "type": "bar",
         "uid": "ca5023",
         "x": [
          "drd87",
          "drd73",
          "drd77",
          "drd46"
         ],
         "y": [
          0.05370843989769821,
          0.06084656084656084,
          0.06206896551724138,
          0.08888888888888889
         ]
        }
       ],
       "layout": {
        "autosize": true,
        "title": "Connection Density",
        "xaxis": {
         "autorange": true,
         "range": [
          -0.5,
          3.5
         ],
         "type": "category"
        },
        "yaxis": {
         "autorange": true,
         "range": [
          0,
          0.09512271727913134
         ],
         "type": "linear"
        }
       }
      }
     },
     "metadata": {},
     "output_type": "display_data"
    },
    {
     "data": {
      "application/vnd.plotly.v1+json": {
       "data": [
        {
         "marker": {
          "color": "rgb(255, 0, 0)",
          "line": {
           "color": "rgb(180, 0, 0)",
           "width": 1.5
          }
         },
         "name": "Open Arms",
         "opacity": 0.6,
         "text": [
          0.7298713341518565,
          0.6955924036281179,
          0.675,
          0
         ],
         "textposition": "auto",
         "type": "bar",
         "uid": "46d0a0",
         "x": [
          "drd87",
          "drd73",
          "drd77",
          "drd46"
         ],
         "y": [
          0.7298713341518565,
          0.6955924036281179,
          0.675,
          0
         ]
        },
        {
         "marker": {
          "color": "rgb(58,200,225)",
          "line": {
           "color": "rgb(8,48,107)",
           "width": 1.5
          }
         },
         "name": "Closed Arms",
         "opacity": 0.6,
         "text": [
          0.7706079347383696,
          0.8047619047619047,
          0.6711111111111112,
          0.38333333333333336
         ],
         "textposition": "auto",
         "type": "bar",
         "uid": "2c4058",
         "x": [
          "drd87",
          "drd73",
          "drd77",
          "drd46"
         ],
         "y": [
          0.7706079347383696,
          0.8047619047619047,
          0.6711111111111112,
          0.38333333333333336
         ]
        }
       ],
       "layout": {
        "autosize": true,
        "title": "Local Efficiency",
        "xaxis": {
         "autorange": true,
         "range": [
          -0.5,
          3.5
         ],
         "type": "category"
        },
        "yaxis": {
         "autorange": true,
         "range": [
          0,
          0.8471177944862155
         ],
         "type": "linear"
        }
       }
      }
     },
     "metadata": {},
     "output_type": "display_data"
    },
    {
     "data": {
      "application/vnd.plotly.v1+json": {
       "data": [
        {
         "marker": {
          "color": "rgb(255, 0, 0)",
          "line": {
           "color": "rgb(180, 0, 0)",
           "width": 1.5
          }
         },
         "name": "Open Arms",
         "opacity": 0.6,
         "text": [
          0.27133418584825264,
          0.1675044091710757,
          0.0911932129173509,
          0
         ],
         "textposition": "auto",
         "type": "bar",
         "uid": "fc740c",
         "x": [
          "drd87",
          "drd73",
          "drd77",
          "drd46"
         ],
         "y": [
          0.27133418584825264,
          0.1675044091710757,
          0.0911932129173509,
          0
         ]
        },
        {
         "marker": {
          "color": "rgb(58,200,225)",
          "line": {
           "color": "rgb(8,48,107)",
           "width": 1.5
          }
         },
         "name": "Closed Arms",
         "opacity": 0.6,
         "text": [
          0.23861588113506585,
          0.10415406903502145,
          0.11072796934865901,
          0.1111111111111111
         ],
         "textposition": "auto",
         "type": "bar",
         "uid": "04f333",
         "x": [
          "drd87",
          "drd73",
          "drd77",
          "drd46"
         ],
         "y": [
          0.23861588113506585,
          0.10415406903502145,
          0.11072796934865901,
          0.1111111111111111
         ]
        }
       ],
       "layout": {
        "autosize": true,
        "title": "Global Efficiency",
        "xaxis": {
         "autorange": true,
         "range": [
          -0.5,
          3.5
         ],
         "type": "category"
        },
        "yaxis": {
         "autorange": true,
         "range": [
          0,
          0.2856149324718449
         ],
         "type": "linear"
        }
       }
      }
     },
     "metadata": {},
     "output_type": "display_data"
    }
   ],
   "source": [
    "titles = [\"Mean Betweeness Centrality\", \"Mean Degree Centrality\", \"Mean Load Centrality\", \"Avg Clustering Coefficient\", \"Max Clique Size\", \"Connection Density\", \"Local Efficiency\", \"Global Efficiency\"]\n",
    "mice_names = [\"drd87\", \"drd73\", \"drd77\", \"drd46\"]\n",
    "y = []\n",
    "y2 = []\n",
    "for mouse_name in mice_names:\n",
    "    y.append(animal_network_measures[mouse_name][\"open betw cent\"])\n",
    "    y2.append(animal_network_measures[mouse_name][\"closed betw cent\"])\n",
    "\n",
    "plot_network_measures(y, y2, titles[0])\n",
    "\n",
    "y = []\n",
    "y2 = []\n",
    "for mouse_name in mice_names:\n",
    "    y.append(animal_network_measures[mouse_name][\"open deg cent\"])\n",
    "    y2.append(animal_network_measures[mouse_name][\"closed deg cent\"])\n",
    "\n",
    "plot_network_measures(y, y2, titles[1])\n",
    "\n",
    "y = []\n",
    "y2 = []\n",
    "for mouse_name in mice_names:\n",
    "    y.append(animal_network_measures[mouse_name][\"open load cent\"])\n",
    "    y2.append(animal_network_measures[mouse_name][\"closed load cent\"])\n",
    "\n",
    "plot_network_measures(y, y2, titles[2])\n",
    "\n",
    "y = []\n",
    "y2 = []\n",
    "for mouse_name in mice_names:\n",
    "    y.append(animal_network_measures[mouse_name][\"open avg clust coeff\"])\n",
    "    y2.append(animal_network_measures[mouse_name][\"closed avg clust coeff\"])\n",
    "\n",
    "plot_network_measures(y, y2, titles[3])\n",
    "\n",
    "y = []\n",
    "y2 = []\n",
    "for mouse_name in mice_names:\n",
    "    y.append(animal_network_measures[mouse_name][\"open max clique size\"])\n",
    "    y2.append(animal_network_measures[mouse_name][\"closed max clique size\"])\n",
    "\n",
    "plot_network_measures(y, y2, titles[4])\n",
    "\n",
    "y = []\n",
    "y2 = []\n",
    "for mouse_name in mice_names:\n",
    "    y.append(animal_network_measures[mouse_name][\"open connection density\"])\n",
    "    y2.append(animal_network_measures[mouse_name][\"closed connection density\"])\n",
    "\n",
    "plot_network_measures(y, y2, titles[5])\n",
    "\n",
    "y = []\n",
    "y2 = []\n",
    "for mouse_name in mice_names:\n",
    "    y.append(animal_network_measures[mouse_name][\"open local efficiency\"])\n",
    "    y2.append(animal_network_measures[mouse_name][\"closed local efficiency\"])\n",
    "\n",
    "plot_network_measures(y, y2, titles[6])\n",
    "\n",
    "y = []\n",
    "y2 = []\n",
    "for mouse_name in mice_names:\n",
    "    y.append(animal_network_measures[mouse_name][\"open global efficiency\"])\n",
    "    y2.append(animal_network_measures[mouse_name][\"closed global efficiency\"])\n",
    "\n",
    "plot_network_measures(y, y2, titles[7])"
   ]
  }
 ],
 "metadata": {
  "kernelspec": {
   "display_name": "Python 3",
   "language": "python",
   "name": "python3"
  },
  "language_info": {
   "codemirror_mode": {
    "name": "ipython",
    "version": 3
   },
   "file_extension": ".py",
   "mimetype": "text/x-python",
   "name": "python",
   "nbconvert_exporter": "python",
   "pygments_lexer": "ipython3",
   "version": "3.6.5"
  }
 },
 "nbformat": 4,
 "nbformat_minor": 2
}
