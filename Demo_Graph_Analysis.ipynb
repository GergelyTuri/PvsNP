{
 "cells": [
  {
   "cell_type": "code",
   "execution_count": 1,
   "metadata": {},
   "outputs": [],
   "source": [
    "import os\n",
    "import pandas as pd\n",
    "import networkx as nx\n",
    "import numpy as np\n",
    "import seaborn as sns\n",
    "import SigProc\n",
    "from analysis.graph_analysis_utils import NeuronNetwork\n",
    "from analysis import analysis_utils as au\n",
    "from scipy import stats\n",
    "from IPython.core.interactiveshell import InteractiveShell"
   ]
  },
  {
   "cell_type": "code",
   "execution_count": 2,
   "metadata": {},
   "outputs": [],
   "source": [
    "InteractiveShell.ast_node_interactivity = \"all\"\n",
    "%matplotlib inline"
   ]
  },
  {
   "cell_type": "code",
   "execution_count": 3,
   "metadata": {},
   "outputs": [],
   "source": [
    "mouse_directory = os.path.join(os.path.expanduser(\"~\"), \"Hen_Lab/Mice/EPM\")\n",
    "\n",
    "if not os.path.exists(mouse_directory):\n",
    "    print(\"The mouse directory does not exist\", file=sys.stderr)\n",
    "\n",
    "animal_data_files = dict()\n",
    "\n",
    "for dir_name, subdir_list, file_list in os.walk(mouse_directory):\n",
    "    if subdir_list:\n",
    "        mice_directories = subdir_list\n",
    "\n",
    "    for file_name in file_list:\n",
    "        for mouse_name in mice_directories:\n",
    "            if file_name.endswith(\".csv\") and (mouse_name in file_name and \"behavior\" in file_name):\n",
    "                if mouse_name in animal_data_files:\n",
    "                    animal_data_files[mouse_name].update({\"behavior\": os.path.join(dir_name, file_name)})\n",
    "                else:\n",
    "                    animal_data_files[mouse_name] = {\"behavior\": os.path.join(dir_name, file_name)}\n",
    "            elif file_name.endswith(\".csv\") and (mouse_name in file_name and \"Raw\" in file_name):\n",
    "                if mouse_name in animal_data_files:\n",
    "                    animal_data_files[mouse_name].update({\"Raw\": os.path.join(dir_name, file_name)})\n",
    "                else:\n",
    "                    animal_data_files[mouse_name] = {\"Raw\": os.path.join(dir_name, file_name)}"
   ]
  },
  {
   "cell_type": "markdown",
   "metadata": {},
   "source": [
    "## Store all neuron activity and corresponding behavior dataframes, for each animal, in a dictionary"
   ]
  },
  {
   "cell_type": "code",
   "execution_count": 4,
   "metadata": {},
   "outputs": [
    {
     "name": "stdout",
     "output_type": "stream",
     "text": [
      "drd87\n",
      "drd73\n",
      "drd77\n",
      "drd46\n"
     ]
    }
   ],
   "source": [
    "animal_dataframes = dict()\n",
    "\n",
    "for animal_name in animal_data_files:\n",
    "    print(animal_name)\n",
    "    \n",
    "    data = pd.read_csv(animal_data_files[animal_name][\"Raw\"], header=None)\n",
    "    \n",
    "    if animal_name == \"drd73\" or animal_name == \"drd77\":\n",
    "        data = au.downsample_dataframe(data,2)\n",
    "    _, _, cell_transients_dataframe = SigProc.detect_ca_transients_mossy(data, 2, 0.5, 0.2, 10)\n",
    "    \n",
    "    # Rename all the columns from \"neuron_x\" --> \"x\". This makes the graphs neater by making sure the neuron names fit into the nodes\n",
    "    cell_transients_dataframe.columns = [i for i in range(1, len(cell_transients_dataframe.columns)+1)]\n",
    "    \n",
    "    behavior_column_names = ['Trial_time', 'Recording_time', 'X_center', 'Y_center', 'Area', 'Areachange', \n",
    "                         'Elongation', 'Distance_moved', 'Velocity', 'Arena_centerpoint',\n",
    "                         'Open1_centerpoint', 'Open2_centerpoint',\n",
    "                         'Closed1_centerpoint', 'Closed2_centerpoint',\n",
    "                         'OpenArms_centerpoint', 'ClosedArms_centerpoint', 'Result_1']\n",
    "\n",
    "    behavior_df = pd.read_csv(animal_data_files[animal_name][\"behavior\"], header=None)\n",
    "    behavior_df.columns = behavior_column_names\n",
    "    \n",
    "    # Only keep every 3rd row of the original behavior dataframe in order to downsample 30 fps --> 10 fps\n",
    "    behavior_df = au.downsample_dataframe(behavior_df, 3)\n",
    "\n",
    "    # Define cutoff for what constitutes as a running frame\n",
    "    VELOCITY_CUTOFF = 4;\n",
    "\n",
    "    # Adds \"Running_frames\" column to the end of the behavior dataframe \n",
    "    behavior_df[\"Running_frames\"] = np.where(behavior_df[\"Velocity\"] > VELOCITY_CUTOFF, 1, 0)\n",
    "    \n",
    "    neuron_concated_behavior = cell_transients_dataframe.join(behavior_df, how=\"left\")\n",
    "    \n",
    "    if not animal_name in animal_dataframes:\n",
    "        animal_dataframes[animal_name] = {\"cell transients\": cell_transients_dataframe, \"behavior\": behavior_df, \"neuron and beh\": neuron_concated_behavior}"
   ]
  },
  {
   "cell_type": "markdown",
   "metadata": {},
   "source": [
    "## Compute all network measures for each mouse, and store them in a dictionary"
   ]
  },
  {
   "cell_type": "code",
   "execution_count": 5,
   "metadata": {},
   "outputs": [],
   "source": [
    "import plotly\n",
    "import plotly.graph_objs as go\n",
    "\n",
    "def plot_network_measures(y, y2, *animal_names, **kwargs):\n",
    "    trace1 = go.Bar(\n",
    "        x=animal_names,\n",
    "        y=y,\n",
    "        text=y,\n",
    "        textposition = \"auto\",\n",
    "        name=\"Open Arms\",\n",
    "        marker=dict(color=\"rgb(255, 0, 0)\"),\n",
    "        opacity=0.6\n",
    "    )\n",
    "    trace2 = go.Bar(\n",
    "        x=animal_names,\n",
    "        y=y2,\n",
    "        text=y2,\n",
    "        textposition = \"auto\",\n",
    "        name=\"Closed Arms\",\n",
    "        marker=dict(color=\"rgb(58,200,225)\"),\n",
    "        opacity=0.6\n",
    "    )\n",
    "    data = [trace1, trace2]\n",
    "    layout = go.Layout(\n",
    "        title = kwargs[\"title\"],\n",
    "    )\n",
    "    fig = go.Figure(data=data, layout=layout)\n",
    "    plotly.offline.iplot(fig)"
   ]
  },
  {
   "cell_type": "code",
   "execution_count": 42,
   "metadata": {},
   "outputs": [],
   "source": [
    "def get_measures_for_plot():\n",
    "    \"\"\"Makeshift function that was implemented only for the prevention of repetition of code.\n",
    "    \n",
    "        This function simply runs through each animal's cell trasients events DataFrame and uses\n",
    "        that DataFrame to execute a certain network measure function on it, e.g. degree centrality.\n",
    "    \"\"\"\n",
    "    labels = list()\n",
    "    open_arms_measures = list()\n",
    "    closed_arms_measures = list()\n",
    "\n",
    "    for animal in animal_dataframes:\n",
    "        labels.append(animal)\n",
    "        indices = animal_dataframes[animal][\"neuron and beh\"].loc[animal_dataframes[animal][\"neuron and beh\"][\"OpenArms_centerpoint\"] != 0].index\n",
    "        open_arms_graph = NeuronNetwork(animal_dataframes[animal][\"cell transients\"].iloc[indices])\n",
    "\n",
    "        # Compute OpenArms Network measure\n",
    "        open_arms_measures.append(open_arms_graph.local_efficiency)\n",
    "\n",
    "        indices = animal_dataframes[animal][\"neuron and beh\"].loc[animal_dataframes[animal][\"neuron and beh\"][\"ClosedArms_centerpoint\"] != 0].index\n",
    "        closed_arms_graph = NeuronNetwork(animal_dataframes[animal][\"cell transients\"].iloc[indices])\n",
    "\n",
    "        # Compute ClosedArms Network measure\n",
    "        closed_arms_measures.append(closed_arms_graph.local_efficiency)\n",
    "\n",
    "    return labels, open_arms_measures, closed_arms_measures"
   ]
  },
  {
   "cell_type": "markdown",
   "metadata": {},
   "source": [
    "### *Hubs are nodes with high degree, or high centrality. The centrality of a node measures how many of the shortest paths between all other nodes pairs in the network pass through it. A node with high centrality is thus cruciail to efficinet communication.* (Bullmore and Sporns)\n",
    "\n",
    "### We took take the mean of the degree centrality of all the nodes in the networks of interest. As we can see, the mean degree centrality of the networks is higher when the mice were in the open arms of the EPM."
   ]
  },
  {
   "cell_type": "code",
   "execution_count": 31,
   "metadata": {},
   "outputs": [
    {
     "data": {
      "application/vnd.plotly.v1+json": {
       "data": [
        {
         "marker": {
          "color": "rgb(255, 0, 0)"
         },
         "name": "Open Arms",
         "opacity": 0.6,
         "text": [
          0.09036658141517477,
          0.06349206349206347,
          0.09885057471264366,
          0
         ],
         "textposition": "auto",
         "type": "bar",
         "uid": "160db9",
         "x": [
          "drd87",
          "drd73",
          "drd77",
          "drd46"
         ],
         "y": [
          0.09036658141517477,
          0.06349206349206347,
          0.09885057471264366,
          0
         ]
        },
        {
         "marker": {
          "color": "rgb(58,200,225)"
         },
         "name": "Closed Arms",
         "opacity": 0.6,
         "text": [
          0.05370843989769821,
          0.042328042328042326,
          0.04827586206896553,
          0.08888888888888888
         ],
         "textposition": "auto",
         "type": "bar",
         "uid": "5dbce5",
         "x": [
          "drd87",
          "drd73",
          "drd77",
          "drd46"
         ],
         "y": [
          0.05370843989769821,
          0.042328042328042326,
          0.04827586206896553,
          0.08888888888888888
         ]
        }
       ],
       "layout": {
        "autosize": true,
        "title": "Mean Degree Centrality",
        "xaxis": {
         "autorange": true,
         "range": [
          -0.5,
          3.5
         ],
         "type": "category"
        },
        "yaxis": {
         "autorange": true,
         "range": [
          0,
          0.10405323653962491
         ],
         "type": "linear"
        }
       }
      }
     },
     "metadata": {},
     "output_type": "display_data"
    }
   ],
   "source": [
    "labels, open_arms_measures, closed_arms_measures = get_measures_for_plot()\n",
    "plot_network_measures(open_arms_measures, closed_arms_measures, *labels, title=\"Mean Degree Centrality\")"
   ]
  },
  {
   "cell_type": "markdown",
   "metadata": {},
   "source": [
    "### *Connection density is the actual number of edges in the graph as a proportion of the total number of possible edges and is the simplest estimator of the physical cost — for example, the energy or other resource requirements — of a network.* (Bullmore and Sporns)\n",
    "\n",
    "### As one would expect, the connection density is greater when the mice were in the open arms of the EPM."
   ]
  },
  {
   "cell_type": "code",
   "execution_count": 33,
   "metadata": {},
   "outputs": [
    {
     "data": {
      "application/vnd.plotly.v1+json": {
       "data": [
        {
         "marker": {
          "color": "rgb(255, 0, 0)"
         },
         "name": "Open Arms",
         "opacity": 0.6,
         "text": [
          0.09036658141517477,
          0.06349206349206349,
          0.09885057471264368,
          0
         ],
         "textposition": "auto",
         "type": "bar",
         "uid": "a4d752",
         "x": [
          "drd87",
          "drd73",
          "drd77",
          "drd46"
         ],
         "y": [
          0.09036658141517477,
          0.06349206349206349,
          0.09885057471264368,
          0
         ]
        },
        {
         "marker": {
          "color": "rgb(58,200,225)"
         },
         "name": "Closed Arms",
         "opacity": 0.6,
         "text": [
          0.05370843989769821,
          0.042328042328042326,
          0.04827586206896552,
          0.08888888888888889
         ],
         "textposition": "auto",
         "type": "bar",
         "uid": "6b583c",
         "x": [
          "drd87",
          "drd73",
          "drd77",
          "drd46"
         ],
         "y": [
          0.05370843989769821,
          0.042328042328042326,
          0.04827586206896552,
          0.08888888888888889
         ]
        }
       ],
       "layout": {
        "autosize": true,
        "title": "Connection Density",
        "xaxis": {
         "autorange": true,
         "range": [
          -0.5,
          3.5
         ],
         "type": "category"
        },
        "yaxis": {
         "autorange": true,
         "range": [
          0,
          0.10405323653962492
         ],
         "type": "linear"
        }
       }
      }
     },
     "metadata": {},
     "output_type": "display_data"
    }
   ],
   "source": [
    "labels, open_arms_measures, closed_arms_measures = get_measures_for_plot()\n",
    "plot_network_measures(open_arms_measures, closed_arms_measures, *labels, title=\"Connection Density\")"
   ]
  },
  {
   "cell_type": "markdown",
   "metadata": {},
   "source": [
    "### *If the nearest neighbors of a node are also directly connected to each other they form a cluster. The clustering coefficient quantifies the number of connections that exist between the nearest neighbors of a node as a proportion of the maximum number of possible connections. Random networks have lowe average clustering whereas complex networks have high clustering (associated with high local efficiency of information transfer and robustness).* (Bullmore and Sporns)\n",
    "\n",
    "### As shown below, the clustering coefficient for all the networks was greater when the mice were in the open arms of the EPM."
   ]
  },
  {
   "cell_type": "code",
   "execution_count": 35,
   "metadata": {},
   "outputs": [
    {
     "data": {
      "application/vnd.plotly.v1+json": {
       "data": [
        {
         "marker": {
          "color": "rgb(255, 0, 0)"
         },
         "name": "Open Arms",
         "opacity": 0.6,
         "text": [
          0.28631123917100904,
          0.2393029151878059,
          0.17838235150189516,
          0
         ],
         "textposition": "auto",
         "type": "bar",
         "uid": "ac54a2",
         "x": [
          "drd87",
          "drd73",
          "drd77",
          "drd46"
         ],
         "y": [
          0.28631123917100904,
          0.2393029151878059,
          0.17838235150189516,
          0
         ]
        },
        {
         "marker": {
          "color": "rgb(58,200,225)"
         },
         "name": "Closed Arms",
         "opacity": 0.6,
         "text": [
          0.17299451627212878,
          0.17065749198053817,
          0.09921278961901445,
          0.19412351527972665
         ],
         "textposition": "auto",
         "type": "bar",
         "uid": "0271b8",
         "x": [
          "drd87",
          "drd73",
          "drd77",
          "drd46"
         ],
         "y": [
          0.17299451627212878,
          0.17065749198053817,
          0.09921278961901445,
          0.19412351527972665
         ]
        }
       ],
       "layout": {
        "autosize": true,
        "title": "Clustering Coefficient",
        "xaxis": {
         "autorange": true,
         "range": [
          -0.5,
          3.5
         ],
         "type": "category"
        },
        "yaxis": {
         "autorange": true,
         "range": [
          0,
          0.3013802517589569
         ],
         "type": "linear"
        }
       }
      }
     },
     "metadata": {},
     "output_type": "display_data"
    }
   ],
   "source": [
    "labels, open_arms_measures, closed_arms_measures = get_measures_for_plot()\n",
    "plot_network_measures(open_arms_measures, closed_arms_measures, *labels, title=\"Clustering Coefficient\")"
   ]
  },
  {
   "cell_type": "markdown",
   "metadata": {},
   "source": [
    "### *The 'small-world' property combines high levels of local clustering among nodes of a network (to form families or cliques) and short paths that globally link all nodes of a network. This means that all nodes of a large system are linked through relatively few intermediate steps, despite the fact that most nodes maintain only a few direct connections - mostly within a clique of neighbours.* (Bullmore and Sporns)\n",
    "\n",
    "### As shown below, we computed the mean clique size, as well as the maximum clique size, in all networks of interest. We observe that larger cliques of neurons were formed when the mice were in the open arms of the EPM."
   ]
  },
  {
   "cell_type": "code",
   "execution_count": 37,
   "metadata": {},
   "outputs": [
    {
     "data": {
      "application/vnd.plotly.v1+json": {
       "data": [
        {
         "marker": {
          "color": "rgb(255, 0, 0)"
         },
         "name": "Open Arms",
         "opacity": 0.6,
         "text": [
          5.518714555765595,
          1.7258064516129032,
          2.2280701754385963,
          1
         ],
         "textposition": "auto",
         "type": "bar",
         "uid": "685492",
         "x": [
          "drd87",
          "drd73",
          "drd77",
          "drd46"
         ],
         "y": [
          5.518714555765595,
          1.7258064516129032,
          2.2280701754385963,
          1
         ]
        },
        {
         "marker": {
          "color": "rgb(58,200,225)"
         },
         "name": "Closed Arms",
         "opacity": 0.6,
         "text": [
          2.3965014577259476,
          1.4680851063829787,
          1.6206896551724137,
          1.4
         ],
         "textposition": "auto",
         "type": "bar",
         "uid": "b6a3b8",
         "x": [
          "drd87",
          "drd73",
          "drd77",
          "drd46"
         ],
         "y": [
          2.3965014577259476,
          1.4680851063829787,
          1.6206896551724137,
          1.4
         ]
        }
       ],
       "layout": {
        "autosize": true,
        "title": "Mean Clique Size",
        "xaxis": {
         "autorange": true,
         "range": [
          -0.5,
          3.5
         ],
         "type": "category"
        },
        "yaxis": {
         "autorange": true,
         "range": [
          0,
          5.809173216595363
         ],
         "type": "linear"
        }
       }
      }
     },
     "metadata": {},
     "output_type": "display_data"
    }
   ],
   "source": [
    "labels, open_arms_measures, closed_arms_measures = get_measures_for_plot()\n",
    "plot_network_measures(open_arms_measures, closed_arms_measures, *labels, title=\"Mean Clique Size\")"
   ]
  },
  {
   "cell_type": "code",
   "execution_count": 39,
   "metadata": {},
   "outputs": [
    {
     "data": {
      "application/vnd.plotly.v1+json": {
       "data": [
        {
         "marker": {
          "color": "rgb(255, 0, 0)"
         },
         "name": "Open Arms",
         "opacity": 0.6,
         "text": [
          11,
          4,
          5,
          1
         ],
         "textposition": "auto",
         "type": "bar",
         "uid": "04288a",
         "x": [
          "drd87",
          "drd73",
          "drd77",
          "drd46"
         ],
         "y": [
          11,
          4,
          5,
          1
         ]
        },
        {
         "marker": {
          "color": "rgb(58,200,225)"
         },
         "name": "Closed Arms",
         "opacity": 0.6,
         "text": [
          5,
          3,
          4,
          3
         ],
         "textposition": "auto",
         "type": "bar",
         "uid": "74454c",
         "x": [
          "drd87",
          "drd73",
          "drd77",
          "drd46"
         ],
         "y": [
          5,
          3,
          4,
          3
         ]
        }
       ],
       "layout": {
        "autosize": true,
        "title": "Max Clique Size",
        "xaxis": {
         "autorange": true,
         "range": [
          -0.5,
          3.5
         ],
         "type": "category"
        },
        "yaxis": {
         "autorange": true,
         "range": [
          0,
          11.578947368421053
         ],
         "type": "linear"
        }
       }
      }
     },
     "metadata": {},
     "output_type": "display_data"
    }
   ],
   "source": [
    "labels, open_arms_measures, closed_arms_measures = get_measures_for_plot()\n",
    "plot_network_measures(open_arms_measures, closed_arms_measures, *labels, title=\"Max Clique Size\")"
   ]
  },
  {
   "cell_type": "markdown",
   "metadata": {},
   "source": [
    "### *Path length is the minimum number of edges that must be traversed to go from one node to another. Random and complex networks have short mean path lengths (high global efficiency of parallel information transfer) whereas regular lattices have long mean path lengths. Efficiency is inversely related to path length but is numerically easier to use to estimate topological distances between elements of disconnected graphs.* (Bullmore and Sporns)\n",
    "\n",
    "### We compute the global efficiency of all networks of interest, and we find that global efficiency was greater when the mice were in the open arms of the EPM."
   ]
  },
  {
   "cell_type": "code",
   "execution_count": 41,
   "metadata": {},
   "outputs": [
    {
     "data": {
      "application/vnd.plotly.v1+json": {
       "data": [
        {
         "marker": {
          "color": "rgb(255, 0, 0)"
         },
         "name": "Open Arms",
         "opacity": 0.6,
         "text": [
          0.27133418584825264,
          0.13226883345930962,
          0.25828133552271504,
          0
         ],
         "textposition": "auto",
         "type": "bar",
         "uid": "1dbb12",
         "x": [
          "drd87",
          "drd73",
          "drd77",
          "drd46"
         ],
         "y": [
          0.27133418584825264,
          0.13226883345930962,
          0.25828133552271504,
          0
         ]
        },
        {
         "marker": {
          "color": "rgb(58,200,225)"
         },
         "name": "Closed Arms",
         "opacity": 0.6,
         "text": [
          0.23861588113506585,
          0.057539682539682536,
          0.07049808429118776,
          0.1111111111111111
         ],
         "textposition": "auto",
         "type": "bar",
         "uid": "65ca90",
         "x": [
          "drd87",
          "drd73",
          "drd77",
          "drd46"
         ],
         "y": [
          0.23861588113506585,
          0.057539682539682536,
          0.07049808429118776,
          0.1111111111111111
         ]
        }
       ],
       "layout": {
        "autosize": true,
        "title": "Global Efficiency",
        "xaxis": {
         "autorange": true,
         "range": [
          -0.5,
          3.5
         ],
         "type": "category"
        },
        "yaxis": {
         "autorange": true,
         "range": [
          0,
          0.2856149324718449
         ],
         "type": "linear"
        }
       }
      }
     },
     "metadata": {},
     "output_type": "display_data"
    }
   ],
   "source": [
    "labels, open_arms_measures, closed_arms_measures = get_measures_for_plot()\n",
    "plot_network_measures(open_arms_measures, closed_arms_measures, *labels, title=\"Global Efficiency\")"
   ]
  },
  {
   "cell_type": "code",
   "execution_count": 43,
   "metadata": {},
   "outputs": [
    {
     "data": {
      "application/vnd.plotly.v1+json": {
       "data": [
        {
         "marker": {
          "color": "rgb(255, 0, 0)"
         },
         "name": "Open Arms",
         "opacity": 0.6,
         "text": [
          0.7298713341518565,
          0.5922619047619048,
          0.7553439153439154,
          0
         ],
         "textposition": "auto",
         "type": "bar",
         "uid": "a73cf6",
         "x": [
          "drd87",
          "drd73",
          "drd77",
          "drd46"
         ],
         "y": [
          0.7298713341518565,
          0.5922619047619048,
          0.7553439153439154,
          0
         ]
        },
        {
         "marker": {
          "color": "rgb(58,200,225)"
         },
         "name": "Closed Arms",
         "opacity": 0.6,
         "text": [
          0.7706079347383696,
          0.6577380952380952,
          0.6994444444444444,
          0.38333333333333336
         ],
         "textposition": "auto",
         "type": "bar",
         "uid": "5f3713",
         "x": [
          "drd87",
          "drd73",
          "drd77",
          "drd46"
         ],
         "y": [
          0.7706079347383696,
          0.6577380952380952,
          0.6994444444444444,
          0.38333333333333336
         ]
        }
       ],
       "layout": {
        "autosize": true,
        "title": "Local Efficiency",
        "xaxis": {
         "autorange": true,
         "range": [
          -0.5,
          3.5
         ],
         "type": "category"
        },
        "yaxis": {
         "autorange": true,
         "range": [
          0,
          0.8111662470930207
         ],
         "type": "linear"
        }
       }
      }
     },
     "metadata": {},
     "output_type": "display_data"
    }
   ],
   "source": [
    "labels, open_arms_measures, closed_arms_measures = get_measures_for_plot()\n",
    "plot_network_measures(open_arms_measures, closed_arms_measures, *labels, title=\"Local Efficiency\")"
   ]
  },
  {
   "cell_type": "code",
   "execution_count": null,
   "metadata": {},
   "outputs": [],
   "source": [
    "# labels, open_arms_measures, closed_arms_measures = get_measures_for_plot(gau.compute_mean_betweenness_centrality)\n",
    "# plot_network_measures(open_arms_measures, closed_arms_measures, *labels, title=\"Mean Betweenness Centrality\")"
   ]
  },
  {
   "cell_type": "code",
   "execution_count": null,
   "metadata": {},
   "outputs": [],
   "source": [
    "# labels, open_arms_measures, closed_arms_measures = get_measures_for_plot(gau.compute_mean_load_centrality)\n",
    "# plot_network_measures(open_arms_measures, closed_arms_measures, *labels, title=\"Mean Load Centrality\")"
   ]
  }
 ],
 "metadata": {
  "kernelspec": {
   "display_name": "Python 3",
   "language": "python",
   "name": "python3"
  },
  "language_info": {
   "codemirror_mode": {
    "name": "ipython",
    "version": 3
   },
   "file_extension": ".py",
   "mimetype": "text/x-python",
   "name": "python",
   "nbconvert_exporter": "python",
   "pygments_lexer": "ipython3",
   "version": "3.6.5"
  }
 },
 "nbformat": 4,
 "nbformat_minor": 2
}
