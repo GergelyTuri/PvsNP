{
 "cells": [
  {
   "cell_type": "markdown",
   "metadata": {},
   "source": [
    "# Analysis of neuron networks, as they change over time."
   ]
  },
  {
   "cell_type": "code",
   "execution_count": 1,
   "metadata": {},
   "outputs": [],
   "source": [
    "from analysis import analysis_utils as au\n",
    "from analysis import resampling as rs\n",
    "from analysis.graph_analysis_utils import neuron_network\n",
    "from IPython.core.interactiveshell import InteractiveShell\n",
    "import matplotlib.pyplot as plt\n",
    "import numpy as np\n",
    "import os\n",
    "import pandas as pd\n",
    "import random\n",
    "from scipy import stats\n",
    "import seaborn as sns\n",
    "import SigProc\n",
    "import sys"
   ]
  },
  {
   "cell_type": "code",
   "execution_count": 2,
   "metadata": {},
   "outputs": [],
   "source": [
    "%matplotlib inline\n",
    "InteractiveShell.ast_node_interactivity = \"all\""
   ]
  },
  {
   "cell_type": "code",
   "execution_count": 3,
   "metadata": {},
   "outputs": [],
   "source": [
    "sns.set_style(\"darkgrid\")"
   ]
  },
  {
   "cell_type": "code",
   "execution_count": 4,
   "metadata": {},
   "outputs": [
    {
     "name": "stdout",
     "output_type": "stream",
     "text": [
      "0. full path of: behavior_drd87.csv is: /Users/saveliyyusufov/Hen_Lab/Mice/EPM/drd87/behavior_drd87.csv\n",
      "1. full path of: Raw_EPM_drd87.csv is: /Users/saveliyyusufov/Hen_Lab/Mice/EPM/drd87/Raw_EPM_drd87.csv\n",
      "2. full path of: Raw_EPM_drd73.csv is: /Users/saveliyyusufov/Hen_Lab/Mice/EPM/drd73/Raw_EPM_drd73.csv\n",
      "3. full path of: behavior_drd73.csv is: /Users/saveliyyusufov/Hen_Lab/Mice/EPM/drd73/behavior_drd73.csv\n",
      "4. full path of: Raw_EPM_drd77.csv is: /Users/saveliyyusufov/Hen_Lab/Mice/EPM/drd77/Raw_EPM_drd77.csv\n",
      "5. full path of: behavior_drd77.csv is: /Users/saveliyyusufov/Hen_Lab/Mice/EPM/drd77/behavior_drd77.csv\n",
      "6. full path of: behavior_drd46.csv is: /Users/saveliyyusufov/Hen_Lab/Mice/EPM/drd46/behavior_drd46.csv\n",
      "7. full path of: Raw_EPM_drd46.csv is: /Users/saveliyyusufov/Hen_Lab/Mice/EPM/drd46/Raw_EPM_drd46.csv\n"
     ]
    }
   ],
   "source": [
    "mouse_directory = os.path.join(os.path.expanduser(\"~\"), \"Hen_Lab/Mice/EPM\")\n",
    "\n",
    "if not os.path.exists(mouse_directory):\n",
    "    print(\"The mouse directory does not exist\", file=sys.stderr)\n",
    "\n",
    "file_num = 0\n",
    "raw_files = list()\n",
    "for dir_name, subdir_list, file_list in os.walk(mouse_directory):\n",
    "    for file_name in file_list:\n",
    "        if file_name.endswith(\".csv\"):\n",
    "            print(\"{}. full path of: {} is: {}\".format(file_num, file_name, os.path.join(dir_name, file_name)))\n",
    "            file_num += 1\n",
    "            raw_files.append(os.path.join(dir_name, file_name))"
   ]
  },
  {
   "cell_type": "code",
   "execution_count": 5,
   "metadata": {
    "scrolled": false
   },
   "outputs": [],
   "source": [
    "data = pd.read_csv(raw_files[1], header=None)\n",
    "_, AUC_dataframe, cell_transients_dataframe = SigProc.detect_ca_transients_mossy(data, 2, 0.5, 0.2, 10)"
   ]
  },
  {
   "cell_type": "code",
   "execution_count": 6,
   "metadata": {},
   "outputs": [],
   "source": [
    "behavior_column_names = [\"Trial_time\", 'Recording_time', 'X_center', 'Y_center', 'Area', 'Areachange', \n",
    "                         'Elongation', 'Distance_moved', 'Velocity', 'Arena_centerpoint',\n",
    "                         'Open1_centerpoint', 'Open2_centerpoint',\n",
    "                         'Closed1_centerpoint', 'Closed2_centerpoint',\n",
    "                         'OpenArms_centerpoint', 'ClosedArms_centerpoint', 'Result_1']\n",
    "\n",
    "behavior_df = pd.read_csv(raw_files[0], header=None)\n",
    "behavior_df.columns = behavior_column_names\n",
    "behavior_df = au.downsample_dataframe(behavior_df, 3)\n",
    "\n",
    "# Define what constitutes as a running frame\n",
    "VELOCITY_CUTOFF = 4;\n",
    "\n",
    "# Adds \"Running_frames\" column to the end of the behavior Dataframe \n",
    "behavior_df[\"Running_frames\"] = np.where(behavior_df[\"Velocity\"] > VELOCITY_CUTOFF, 1, 0)\n",
    "\n",
    "# Rename all the columns from \"neuron_x\" --> \"x\". This makes the graphs neater by making sure the neuron names fit into the nodes\n",
    "cell_transients_dataframe.columns = [i for i in range(1, len(cell_transients_dataframe.columns)+1)]"
   ]
  },
  {
   "cell_type": "code",
   "execution_count": 7,
   "metadata": {},
   "outputs": [],
   "source": [
    "neuron_concated_behavior = AUC_dataframe.join(behavior_df, how=\"left\")"
   ]
  },
  {
   "cell_type": "code",
   "execution_count": 8,
   "metadata": {},
   "outputs": [],
   "source": [
    "def bin_by_time(dataframe, **kwargs):\n",
    "    \"\"\"Split dataframe by frequency\n",
    "    \n",
    "    Split up the time series data into specified time bins. \n",
    "    \n",
    "    Args: \n",
    "        dataframe: DataFrame\n",
    "        \n",
    "            a pandas DataFrame of the signal data for \n",
    "            all the imaged neurons of a given animal activity.\n",
    "        \n",
    "        freq: string, optional\n",
    "            \n",
    "            If specified, this is the frequency by which the \n",
    "            passed DataFrame will be split. The default is \n",
    "            1Min.\n",
    "    \n",
    "    Returns: \n",
    "        time_bins: dictionary\n",
    "            \n",
    "            All of the DataFrames that encompasse the passed-in\n",
    "            DataFrame.\n",
    "    \"\"\"\n",
    "    \n",
    "    # Create copy of the dataframe for a certain behavior\n",
    "    time_binned_df = dataframe.copy()\n",
    "    time_binned_df.reset_index(drop=True, inplace=True)\n",
    "    \n",
    "    # Add a column of the trial time in the form of time deltas\n",
    "    x = pd.to_timedelta(\"0.1s\")\n",
    "    time_binned_df.loc[:, \"TIME\"] = pd.Series(x*i for i in (time_binned_df.index))\n",
    "    \n",
    "    # Group the dataframe by 1 minute intervals\n",
    "    grouped = time_binned_df.set_index(\"TIME\").groupby(pd.Grouper(freq=kwargs.get(\"freq\", \"1Min\")))\n",
    "    \n",
    "    # Place each dataframe that contains the data for every 1 minute intervals into a dictionary\n",
    "    time_bins = {}\n",
    "    freq = 0\n",
    "    for name, group in grouped:\n",
    "        time_bins[freq] = grouped.get_group(name)\n",
    "        freq += 1\n",
    "        \n",
    "    return time_bins"
   ]
  },
  {
   "cell_type": "markdown",
   "metadata": {},
   "source": [
    "# We begin by plotting the networks, over time, for activity recorded in the **OpenArms**, and in the **ClosedArms**"
   ]
  },
  {
   "cell_type": "markdown",
   "metadata": {},
   "source": [
    "## In accordance with Network neuroscience (Bassett & Sporns 2017), we plot the state of the network of neurons for DRD87 for the duration of the EPM experiment."
   ]
  },
  {
   "cell_type": "code",
   "execution_count": null,
   "metadata": {},
   "outputs": [],
   "source": [
    "time_binned_dfs = bin_by_time(cell_transients_dataframe, freq=\"1Min\")\n",
    "\n",
    "for i in range(len(time_binned_dfs)):\n",
    "    open_graph = neuron_network(time_binned_dfs[i].reset_index(drop=True))\n",
    "    open_graph.plot_network(figsize=(35,35), node_color=\"pink\", node_size=1000)"
   ]
  },
  {
   "cell_type": "markdown",
   "metadata": {},
   "source": [
    "## We get all of the indices in which DRD87 was marked as in the **OpenArms**, and we establish all the 1 minute intervals of that behavior. Namely, we create a separate dataframe for each minute of activity in the **OpenArms**.\n",
    "\n",
    "## Then, we loop through all of the dataframes we created, and we plot their representations as graphs. Note: we reset (and drop the old) index prior to passing it to the `create_graph()` function."
   ]
  },
  {
   "cell_type": "code",
   "execution_count": null,
   "metadata": {},
   "outputs": [],
   "source": [
    "indices = neuron_concated_behavior.loc[neuron_concated_behavior[\"OpenArms_centerpoint\"] != 0].index\n",
    "time_binned_dfs = bin_by_time(cell_transients_dataframe.iloc[indices])\n",
    "\n",
    "for i in range(len(time_binned_dfs)):\n",
    "    open_graph = gau.create_graph(time_binned_dfs[i].reset_index(drop=True))\n",
    "    gau.plot_cluster_graph(open_graph, figsize=(35,35), node_color=\"pink\", node_size=1000)"
   ]
  },
  {
   "cell_type": "markdown",
   "metadata": {},
   "source": [
    "## Now we repeat the same exact procedure, but for the **ClosedArms**"
   ]
  },
  {
   "cell_type": "code",
   "execution_count": null,
   "metadata": {},
   "outputs": [],
   "source": [
    "indices = neuron_concated_behavior.loc[neuron_concated_behavior[\"ClosedArms_centerpoint\"] != 0].index\n",
    "time_binned_dfs = bin_by_time(cell_transients_dataframe.iloc[indices], freq=\"15s\")\n",
    "\n",
    "for i in range(len(time_binned_dfs)):\n",
    "    open_graph = gau.create_graph(time_binned_dfs[i].reset_index(drop=True))\n",
    "    gau.plot_cluster_graph(open_graph, figsize=(35,35), node_color=\"lightgreen\", node_size=1000)"
   ]
  },
  {
   "cell_type": "markdown",
   "metadata": {},
   "source": [
    "# Now, we plot the networks, over time, for *continous* activity, for certain behaviors. E.g., $5$ seconds of activity in the **OpenArms**"
   ]
  },
  {
   "cell_type": "code",
   "execution_count": null,
   "metadata": {},
   "outputs": [],
   "source": [
    "def get_nodes_with_degree(graph):\n",
    "    nodes = set()\n",
    "    \n",
    "    for node in graph.degree():\n",
    "        if node[1] > 0:\n",
    "            nodes.add(node[0])\n",
    "            \n",
    "    return nodes"
   ]
  },
  {
   "cell_type": "code",
   "execution_count": 9,
   "metadata": {},
   "outputs": [],
   "source": [
    "import networkx as nx\n",
    "\n",
    "def get_continuous_beh_graphs(neuron_concated_behavior, cell_transients_dataframe, behavior, **kwargs):\n",
    "    num_of_sec = kwargs.get(\"seconds\", 5)\n",
    "    framerate = kwargs.get(\"framerate\", 10)\n",
    "    graphs = list()\n",
    "    \n",
    "    continuous_beh = dict()\n",
    "    for row in neuron_concated_behavior.itertuples():\n",
    "        if getattr(row, behavior) == 1:\n",
    "            continuous_beh[row[0]] = 1\n",
    "        else:\n",
    "            if len(continuous_beh) >= num_of_sec*framerate:\n",
    "\n",
    "                # Note the start frame, and the end frame for when the animal entered the area.\n",
    "                begin = list(continuous_beh.keys())[0]\n",
    "                end = list(continuous_beh.keys())[len(list(continuous_beh.keys()))-1]\n",
    "\n",
    "                # time_binned_dfs = bin_by_time(cell_transients_dataframe.loc[begin:end], freq=\"1Min\")\n",
    "                graphs.append(neuron_network(cell_transients_dataframe.loc[begin:end]))\n",
    "\n",
    "                continuous_beh.clear()\n",
    "            else:\n",
    "                continuous_beh.clear()\n",
    "                \n",
    "    return graphs"
   ]
  },
  {
   "cell_type": "code",
   "execution_count": 10,
   "metadata": {},
   "outputs": [],
   "source": [
    "import plotly\n",
    "import plotly.graph_objs as go\n",
    "\n",
    "def plot_network_measures(y1, y2, x, **kwargs):\n",
    "    trace1 = go.Scatter(\n",
    "        x=x,\n",
    "        y=y1,\n",
    "        text=y1,\n",
    "        textposition=\"auto\",\n",
    "        name=\"Open Arms\",\n",
    "        mode=\"lines+markers\",\n",
    "        marker=dict(color=\"rgb(255, 0, 0)\"),\n",
    "        opacity=0.6\n",
    "    )\n",
    "    trace2 = go.Scatter(\n",
    "        x=x,\n",
    "        y=y2,\n",
    "        text=y2,\n",
    "        textposition=\"auto\",\n",
    "        name=\"Closed Arms\",\n",
    "        mode=\"lines+markers\",\n",
    "        marker=dict(color=\"rgb(58,200,225)\"),\n",
    "        opacity=0.6\n",
    "    )\n",
    "    data = [trace1, trace2]\n",
    "    layout = go.Layout(\n",
    "        title = kwargs.get(\"title\", \"Title Goes Here\"),\n",
    "    )\n",
    "    fig = go.Figure(data=data, layout=layout)\n",
    "    plotly.offline.iplot(fig)"
   ]
  },
  {
   "cell_type": "code",
   "execution_count": 11,
   "metadata": {},
   "outputs": [
    {
     "data": {
      "text/plain": [
       "0.042436298190773894"
      ]
     },
     "execution_count": 11,
     "metadata": {},
     "output_type": "execute_result"
    },
    {
     "data": {
      "text/plain": [
       "0.04006820119352088"
      ]
     },
     "execution_count": 11,
     "metadata": {},
     "output_type": "execute_result"
    },
    {
     "data": {
      "application/vnd.plotly.v1+json": {
       "data": [
        {
         "marker": {
          "color": "rgb(255, 0, 0)"
         },
         "mode": "lines+markers",
         "name": "Open Arms",
         "opacity": 0.6,
         "text": [
          0.028132992327365724,
          0.11636828644501279,
          0.03751065643648763,
          0.05285592497868712,
          0.04092071611253197,
          0.04688832054560954,
          0.0025575447570332483,
          0.022591645353793693,
          0.0341005967604433
         ],
         "textposition": "middle center",
         "type": "scatter",
         "uid": "c82580",
         "x": 17,
         "y": [
          0.028132992327365724,
          0.11636828644501279,
          0.03751065643648763,
          0.05285592497868712,
          0.04092071611253197,
          0.04688832054560954,
          0.0025575447570332483,
          0.022591645353793693,
          0.0341005967604433
         ]
        },
        {
         "marker": {
          "color": "rgb(58,200,225)"
         },
         "mode": "lines+markers",
         "name": "Closed Arms",
         "opacity": 0.6,
         "text": [
          0.12276214833759588,
          0.04219948849104859,
          0.0370843989769821,
          0.0341005967604433,
          0.10571184995737425,
          0.06138107416879794,
          0.04646206308610401,
          0.06351236146632565,
          0.025149190110826936,
          0.0349531116794544,
          0.022165387894288145,
          0.028132992327365727,
          0.01023017902813299,
          0.004262574595055414,
          0.007246376811594203,
          0.004688832054560955,
          0.03111679454390452
         ],
         "textposition": "middle center",
         "type": "scatter",
         "uid": "fc3e94",
         "x": 17,
         "y": [
          0.12276214833759588,
          0.04219948849104859,
          0.0370843989769821,
          0.0341005967604433,
          0.10571184995737425,
          0.06138107416879794,
          0.04646206308610401,
          0.06351236146632565,
          0.025149190110826936,
          0.0349531116794544,
          0.022165387894288145,
          0.028132992327365727,
          0.01023017902813299,
          0.004262574595055414,
          0.007246376811594203,
          0.004688832054560955,
          0.03111679454390452
         ]
        }
       ],
       "layout": {
        "autosize": true,
        "title": "DRD87 Mean Degree Centrality",
        "xaxis": {
         "autorange": true,
         "range": [
          -0.9611797874647582,
          16.961179787464758
         ]
        },
        "yaxis": {
         "autorange": true,
         "range": [
          -0.006247251046638536,
          0.13156694414126766
         ],
         "type": "linear"
        }
       }
      }
     },
     "metadata": {},
     "output_type": "display_data"
    }
   ],
   "source": [
    "open_arms_graphs = get_continuous_beh_graphs(neuron_concated_behavior, cell_transients_dataframe, \"OpenArms_centerpoint\", seconds=3)\n",
    "closed_arms_graphs = get_continuous_beh_graphs(neuron_concated_behavior, cell_transients_dataframe, \"ClosedArms_centerpoint\", seconds=3)\n",
    "\n",
    "open_degree_centralities = list()\n",
    "for graph in open_arms_graphs:\n",
    "    open_degree_centralities.append(graph.compute_mean_degree_cent())\n",
    "\n",
    "np.mean(open_degree_centralities)\n",
    "    \n",
    "closed_degree_centralities = list()\n",
    "for graph in closed_arms_graphs:\n",
    "    closed_degree_centralities.append(graph.compute_mean_degree_cent())\n",
    "\n",
    "np.mean(closed_degree_centralities)\n",
    "\n",
    "x_axis = max(len(open_degree_centralities), len(closed_degree_centralities))\n",
    "plot_network_measures(open_degree_centralities, closed_degree_centralities, x_axis, title=\"DRD87 Mean Degree Centrality\")"
   ]
  },
  {
   "cell_type": "code",
   "execution_count": 12,
   "metadata": {},
   "outputs": [
    {
     "data": {
      "text/plain": [
       "0.042436298190773894"
      ]
     },
     "execution_count": 12,
     "metadata": {},
     "output_type": "execute_result"
    },
    {
     "data": {
      "text/plain": [
       "0.04006820119352089"
      ]
     },
     "execution_count": 12,
     "metadata": {},
     "output_type": "execute_result"
    },
    {
     "data": {
      "application/vnd.plotly.v1+json": {
       "data": [
        {
         "marker": {
          "color": "rgb(255, 0, 0)"
         },
         "mode": "lines+markers",
         "name": "Open Arms",
         "opacity": 0.6,
         "text": [
          0.028132992327365727,
          0.11636828644501279,
          0.03751065643648764,
          0.05285592497868713,
          0.04092071611253197,
          0.04688832054560955,
          0.0025575447570332483,
          0.022591645353793693,
          0.03410059676044331
         ],
         "textposition": "middle center",
         "type": "scatter",
         "uid": "e168dc",
         "x": 17,
         "y": [
          0.028132992327365727,
          0.11636828644501279,
          0.03751065643648764,
          0.05285592497868713,
          0.04092071611253197,
          0.04688832054560955,
          0.0025575447570332483,
          0.022591645353793693,
          0.03410059676044331
         ]
        },
        {
         "marker": {
          "color": "rgb(58,200,225)"
         },
         "mode": "lines+markers",
         "name": "Closed Arms",
         "opacity": 0.6,
         "text": [
          0.12276214833759591,
          0.04219948849104859,
          0.0370843989769821,
          0.03410059676044331,
          0.10571184995737426,
          0.061381074168797956,
          0.046462063086104004,
          0.06351236146632566,
          0.02514919011082694,
          0.03495311167945439,
          0.02216538789428815,
          0.028132992327365727,
          0.010230179028132993,
          0.004262574595055414,
          0.007246376811594203,
          0.004688832054560955,
          0.03111679454390452
         ],
         "textposition": "middle center",
         "type": "scatter",
         "uid": "53a154",
         "x": 17,
         "y": [
          0.12276214833759591,
          0.04219948849104859,
          0.0370843989769821,
          0.03410059676044331,
          0.10571184995737426,
          0.061381074168797956,
          0.046462063086104004,
          0.06351236146632566,
          0.02514919011082694,
          0.03495311167945439,
          0.02216538789428815,
          0.028132992327365727,
          0.010230179028132993,
          0.004262574595055414,
          0.007246376811594203,
          0.004688832054560955,
          0.03111679454390452
         ]
        }
       ],
       "layout": {
        "autosize": true,
        "title": "DRD87 Connection Density",
        "xaxis": {
         "autorange": true,
         "range": [
          -0.9611797874647582,
          16.961179787464758
         ]
        },
        "yaxis": {
         "autorange": true,
         "range": [
          -0.006247251046638537,
          0.13156694414126768
         ],
         "type": "linear"
        }
       }
      }
     },
     "metadata": {},
     "output_type": "display_data"
    }
   ],
   "source": [
    "open_connection_densities = list()\n",
    "for graph in open_arms_graphs:\n",
    "    open_connection_densities.append(graph.compute_connection_density())\n",
    "\n",
    "np.mean(open_connection_densities)\n",
    "    \n",
    "closed_connection_densities = list()\n",
    "for graph in closed_arms_graphs:\n",
    "    closed_connection_densities.append(graph.compute_connection_density())\n",
    "\n",
    "np.mean(closed_connection_densities)\n",
    "\n",
    "x_axis = max(len(open_connection_densities), len(closed_connection_densities))\n",
    "plot_network_measures(open_connection_densities, closed_connection_densities, x_axis, title=\"DRD87 Connection Density\")"
   ]
  },
  {
   "cell_type": "code",
   "execution_count": 13,
   "metadata": {},
   "outputs": [
    {
     "data": {
      "text/plain": [
       "7.888888888888889"
      ]
     },
     "execution_count": 13,
     "metadata": {},
     "output_type": "execute_result"
    },
    {
     "data": {
      "text/plain": [
       "7.235294117647059"
      ]
     },
     "execution_count": 13,
     "metadata": {},
     "output_type": "execute_result"
    },
    {
     "data": {
      "application/vnd.plotly.v1+json": {
       "data": [
        {
         "marker": {
          "color": "rgb(255, 0, 0)"
         },
         "mode": "lines+markers",
         "name": "Open Arms",
         "opacity": 0.6,
         "text": [
          9,
          13,
          7,
          9,
          8,
          9,
          3,
          6,
          7
         ],
         "textposition": "middle center",
         "type": "scatter",
         "uid": "72f1a0",
         "x": 17,
         "y": [
          9,
          13,
          7,
          9,
          8,
          9,
          3,
          6,
          7
         ]
        },
        {
         "marker": {
          "color": "rgb(58,200,225)"
         },
         "mode": "lines+markers",
         "name": "Closed Arms",
         "opacity": 0.6,
         "text": [
          16,
          8,
          8,
          6,
          11,
          7,
          8,
          7,
          7,
          7,
          6,
          8,
          5,
          5,
          5,
          4,
          5
         ],
         "textposition": "middle center",
         "type": "scatter",
         "uid": "be6390",
         "x": 17,
         "y": [
          16,
          8,
          8,
          6,
          11,
          7,
          8,
          7,
          7,
          7,
          6,
          8,
          5,
          5,
          5,
          4,
          5
         ]
        }
       ],
       "layout": {
        "autosize": true,
        "title": "DRD87 Max Clique Size",
        "xaxis": {
         "autorange": true,
         "range": [
          -0.9611797874647582,
          16.961179787464758
         ]
        },
        "yaxis": {
         "autorange": true,
         "range": [
          2.0477707006369426,
          16.952229299363058
         ],
         "type": "linear"
        }
       }
      }
     },
     "metadata": {},
     "output_type": "display_data"
    }
   ],
   "source": [
    "open_measures = list()\n",
    "for graph in open_arms_graphs:\n",
    "    open_measures.append(graph.compute_max_clique_size())\n",
    "\n",
    "np.mean(open_measures)\n",
    "    \n",
    "closed_measures = list()\n",
    "for graph in closed_arms_graphs:\n",
    "    closed_measures.append(graph.compute_max_clique_size())\n",
    "\n",
    "np.mean(closed_measures)\n",
    "\n",
    "x_axis = max(len(open_measures), len(closed_measures))\n",
    "plot_network_measures(open_measures, closed_measures, x_axis, title=\"DRD87 Max Clique Size\")"
   ]
  },
  {
   "cell_type": "code",
   "execution_count": 14,
   "metadata": {},
   "outputs": [
    {
     "data": {
      "text/plain": [
       "3.8865239849884046"
      ]
     },
     "execution_count": 14,
     "metadata": {},
     "output_type": "execute_result"
    },
    {
     "data": {
      "text/plain": [
       "3.362448365106171"
      ]
     },
     "execution_count": 14,
     "metadata": {},
     "output_type": "execute_result"
    },
    {
     "data": {
      "application/vnd.plotly.v1+json": {
       "data": [
        {
         "marker": {
          "color": "rgb(255, 0, 0)"
         },
         "mode": "lines+markers",
         "name": "Open Arms",
         "opacity": 0.6,
         "text": [
          4.0016,
          7.167103369935631,
          3.5055821371610847,
          5.6864893062076165,
          3.604285714285714,
          4.338064516129032,
          1.12987012987013,
          2.672064777327935,
          2.8736559139784945
         ],
         "textposition": "middle center",
         "type": "scatter",
         "uid": "a5795b",
         "x": 17,
         "y": [
          4.0016,
          7.167103369935631,
          3.5055821371610847,
          5.6864893062076165,
          3.604285714285714,
          4.338064516129032,
          1.12987012987013,
          2.672064777327935,
          2.8736559139784945
         ]
        },
        {
         "marker": {
          "color": "rgb(58,200,225)"
         },
         "mode": "lines+markers",
         "name": "Closed Arms",
         "opacity": 0.6,
         "text": [
          7.904068899521531,
          4.62219730941704,
          3.2954545454545454,
          2.7983193277310923,
          6.880437689969605,
          3.342368045649073,
          4.929327126534067,
          3.015228426395939,
          2.8047945205479454,
          2.9033942558746735,
          2.2176165803108807,
          3.6322701688555346,
          1.9481481481481482,
          1.5157894736842106,
          1.6261682242990654,
          1.2790697674418605,
          2.446969696969697
         ],
         "textposition": "middle center",
         "type": "scatter",
         "uid": "5a2131",
         "x": 17,
         "y": [
          7.904068899521531,
          4.62219730941704,
          3.2954545454545454,
          2.7983193277310923,
          6.880437689969605,
          3.342368045649073,
          4.929327126534067,
          3.015228426395939,
          2.8047945205479454,
          2.9033942558746735,
          2.2176165803108807,
          3.6322701688555346,
          1.9481481481481482,
          1.5157894736842106,
          1.6261682242990654,
          1.2790697674418605,
          2.446969696969697
         ]
        }
       ],
       "layout": {
        "autosize": true,
        "title": "DRD87 Mean Clique Size",
        "xaxis": {
         "autorange": true,
         "range": [
          -0.9611797874647582,
          16.961179787464758
         ]
        },
        "yaxis": {
         "autorange": true,
         "range": [
          0.6336708569338809,
          8.40026817245778
         ],
         "type": "linear"
        }
       }
      }
     },
     "metadata": {},
     "output_type": "display_data"
    }
   ],
   "source": [
    "open_measures = list()\n",
    "for graph in open_arms_graphs:\n",
    "    open_measures.append(graph.compute_mean_clique_size())\n",
    "\n",
    "np.mean(open_measures)\n",
    "    \n",
    "closed_measures = list()\n",
    "for graph in closed_arms_graphs:\n",
    "    closed_measures.append(graph.compute_mean_clique_size())\n",
    "\n",
    "np.mean(closed_measures)\n",
    "\n",
    "x_axis = max(len(open_measures), len(closed_measures))\n",
    "plot_network_measures(open_measures, closed_measures, x_axis, title=\"DRD87 Mean Clique Size\")"
   ]
  },
  {
   "cell_type": "code",
   "execution_count": 15,
   "metadata": {},
   "outputs": [
    {
     "data": {
      "text/plain": [
       "0.2922841169655456"
      ]
     },
     "execution_count": 15,
     "metadata": {},
     "output_type": "execute_result"
    },
    {
     "data": {
      "text/plain": [
       "0.2890326605101633"
      ]
     },
     "execution_count": 15,
     "metadata": {},
     "output_type": "execute_result"
    },
    {
     "data": {
      "application/vnd.plotly.v1+json": {
       "data": [
        {
         "marker": {
          "color": "rgb(255, 0, 0)"
         },
         "mode": "lines+markers",
         "name": "Open Arms",
         "opacity": 0.6,
         "text": [
          0.2595374030156639,
          0.4661705251320274,
          0.31319405232448716,
          0.2697337568181558,
          0.32441672659063964,
          0.311476607128781,
          0.08695652173913043,
          0.2770186335403727,
          0.3220528264006525
         ],
         "textposition": "middle center",
         "type": "scatter",
         "uid": "a89237",
         "x": 17,
         "y": [
          0.2595374030156639,
          0.4661705251320274,
          0.31319405232448716,
          0.2697337568181558,
          0.32441672659063964,
          0.311476607128781,
          0.08695652173913043,
          0.2770186335403727,
          0.3220528264006525
         ]
        },
        {
         "marker": {
          "color": "rgb(58,200,225)"
         },
         "mode": "lines+markers",
         "name": "Closed Arms",
         "opacity": 0.6,
         "text": [
          0.4506832056756268,
          0.25547886091364347,
          0.33123494862625297,
          0.34838969404186804,
          0.43811751019915857,
          0.47213020473890055,
          0.2990033316120273,
          0.47855888073279373,
          0.26284794110881066,
          0.3372095698182655,
          0.292408557625949,
          0.26783988957902,
          0.09951690821256039,
          0.07246376811594203,
          0.13043478260869565,
          0.10144927536231885,
          0.27578789970094314
         ],
         "textposition": "middle center",
         "type": "scatter",
         "uid": "33e93b",
         "x": 17,
         "y": [
          0.4506832056756268,
          0.25547886091364347,
          0.33123494862625297,
          0.34838969404186804,
          0.43811751019915857,
          0.47213020473890055,
          0.2990033316120273,
          0.47855888073279373,
          0.26284794110881066,
          0.3372095698182655,
          0.292408557625949,
          0.26783988957902,
          0.09951690821256039,
          0.07246376811594203,
          0.13043478260869565,
          0.10144927536231885,
          0.27578789970094314
         ]
        }
       ],
       "layout": {
        "autosize": true,
        "title": "DRD87 Clustering Coefficient",
        "xaxis": {
         "autorange": true,
         "range": [
          -0.9611797874647582,
          16.961179787464758
         ]
        },
        "yaxis": {
         "autorange": true,
         "range": [
          0.04271794776502614,
          0.5083047010837096
         ],
         "type": "linear"
        }
       }
      }
     },
     "metadata": {},
     "output_type": "display_data"
    }
   ],
   "source": [
    "open_measures = list()\n",
    "for graph in open_arms_graphs:\n",
    "    open_measures.append(nx.average_clustering(graph.graph))\n",
    "\n",
    "np.mean(open_measures)\n",
    "    \n",
    "closed_measures = list()\n",
    "for graph in closed_arms_graphs:\n",
    "    closed_measures.append(nx.average_clustering(graph.graph))\n",
    "\n",
    "np.mean(closed_measures)\n",
    "\n",
    "x_axis = max(len(open_measures), len(closed_measures))\n",
    "plot_network_measures(open_measures, closed_measures, x_axis, title=\"DRD87 Clustering Coefficient\")"
   ]
  },
  {
   "cell_type": "code",
   "execution_count": 16,
   "metadata": {},
   "outputs": [
    {
     "data": {
      "text/plain": [
       "0.3420874698289783"
      ]
     },
     "execution_count": 16,
     "metadata": {},
     "output_type": "execute_result"
    },
    {
     "data": {
      "text/plain": [
       "0.3892493462968492"
      ]
     },
     "execution_count": 16,
     "metadata": {},
     "output_type": "execute_result"
    },
    {
     "data": {
      "application/vnd.plotly.v1+json": {
       "data": [
        {
         "marker": {
          "color": "rgb(255, 0, 0)"
         },
         "mode": "lines+markers",
         "name": "Open Arms",
         "opacity": 0.6,
         "text": [
          0.3229228098793316,
          0.5316668710782992,
          0.3524273230794969,
          0.32828116517374833,
          0.3798038917604135,
          0.34144746155615713,
          0.08695652173913043,
          0.3553657694962043,
          0.37991541469802337
         ],
         "textposition": "middle center",
         "type": "scatter",
         "uid": "ef37de",
         "x": 17,
         "y": [
          0.3229228098793316,
          0.5316668710782992,
          0.3524273230794969,
          0.32828116517374833,
          0.3798038917604135,
          0.34144746155615713,
          0.08695652173913043,
          0.3553657694962043,
          0.37991541469802337
         ]
        },
        {
         "marker": {
          "color": "rgb(58,200,225)"
         },
         "mode": "lines+markers",
         "name": "Closed Arms",
         "opacity": 0.6,
         "text": [
          0.5314441793443884,
          0.29408578184153633,
          0.42711837277054665,
          0.4057625948930297,
          0.5482375220630217,
          0.689563858042119,
          0.5017643990470079,
          0.6560592386679343,
          0.35538772821381515,
          0.4191161093335005,
          0.39370255348516225,
          0.36264090177133657,
          0.18002070393374742,
          0.07246376811594203,
          0.15942028985507245,
          0.15942028985507245,
          0.46103059581320444
         ],
         "textposition": "middle center",
         "type": "scatter",
         "uid": "9d664d",
         "x": 17,
         "y": [
          0.5314441793443884,
          0.29408578184153633,
          0.42711837277054665,
          0.4057625948930297,
          0.5482375220630217,
          0.689563858042119,
          0.5017643990470079,
          0.6560592386679343,
          0.35538772821381515,
          0.4191161093335005,
          0.39370255348516225,
          0.36264090177133657,
          0.18002070393374742,
          0.07246376811594203,
          0.15942028985507245,
          0.15942028985507245,
          0.46103059581320444
         ]
        }
       ],
       "layout": {
        "autosize": true,
        "title": "DRD87 Local Efficiency",
        "xaxis": {
         "autorange": true,
         "range": [
          -0.9611797874647582,
          16.961179787464758
         ]
        },
        "yaxis": {
         "autorange": true,
         "range": [
          0.027262169172304868,
          0.7347654569857561
         ],
         "type": "linear"
        }
       }
      }
     },
     "metadata": {},
     "output_type": "display_data"
    }
   ],
   "source": [
    "open_measures = list()\n",
    "for graph in open_arms_graphs:\n",
    "    open_measures.append(nx.local_efficiency(graph.graph))\n",
    "\n",
    "np.mean(open_measures)\n",
    "    \n",
    "closed_measures = list()\n",
    "for graph in closed_arms_graphs:\n",
    "    closed_measures.append(nx.local_efficiency(graph.graph))\n",
    "\n",
    "np.mean(closed_measures)\n",
    "\n",
    "x_axis = max(len(open_measures), len(closed_measures))\n",
    "plot_network_measures(open_measures, closed_measures, x_axis, title=\"DRD87 Local Efficiency\")"
   ]
  },
  {
   "cell_type": "code",
   "execution_count": 17,
   "metadata": {},
   "outputs": [
    {
     "data": {
      "text/plain": [
       "0.07024057610161624"
      ]
     },
     "execution_count": 17,
     "metadata": {},
     "output_type": "execute_result"
    },
    {
     "data": {
      "text/plain": [
       "0.08077074393269705"
      ]
     },
     "execution_count": 17,
     "metadata": {},
     "output_type": "execute_result"
    },
    {
     "data": {
      "application/vnd.plotly.v1+json": {
       "data": [
        {
         "marker": {
          "color": "rgb(255, 0, 0)"
         },
         "mode": "lines+markers",
         "name": "Open Arms",
         "opacity": 0.6,
         "text": [
          0.05849673202614375,
          0.18970588235294214,
          0.05588235294117651,
          0.0674197215117931,
          0.08280051150895121,
          0.059889173060528586,
          0.0025575447570332483,
          0.039009661835748825,
          0.07640360492022878
         ],
         "textposition": "middle center",
         "type": "scatter",
         "uid": "ad223d",
         "x": 17,
         "y": [
          0.05849673202614375,
          0.18970588235294214,
          0.05588235294117651,
          0.0674197215117931,
          0.08280051150895121,
          0.059889173060528586,
          0.0025575447570332483,
          0.039009661835748825,
          0.07640360492022878
         ]
        },
        {
         "marker": {
          "color": "rgb(58,200,225)"
         },
         "mode": "lines+markers",
         "name": "Closed Arms",
         "opacity": 0.6,
         "text": [
          0.20906507530548576,
          0.06514634839443026,
          0.0922186024168119,
          0.06656111720050327,
          0.16654589371980727,
          0.20198852487855257,
          0.07419721511793118,
          0.21254617789144908,
          0.04364977875208055,
          0.06449275362318838,
          0.04583840782689881,
          0.03623188405797099,
          0.011935208866155157,
          0.004262574595055414,
          0.007246376811594203,
          0.004688832054560955,
          0.06648787534337391
         ],
         "textposition": "middle center",
         "type": "scatter",
         "uid": "24cdf7",
         "x": 17,
         "y": [
          0.20906507530548576,
          0.06514634839443026,
          0.0922186024168119,
          0.06656111720050327,
          0.16654589371980727,
          0.20198852487855257,
          0.07419721511793118,
          0.21254617789144908,
          0.04364977875208055,
          0.06449275362318838,
          0.04583840782689881,
          0.03623188405797099,
          0.011935208866155157,
          0.004262574595055414,
          0.007246376811594203,
          0.004688832054560955,
          0.06648787534337391
         ]
        }
       ],
       "layout": {
        "autosize": true,
        "title": "DRD87 Global Efficiency",
        "xaxis": {
         "autorange": true,
         "range": [
          -0.9611797874647582,
          16.961179787464758
         ]
        },
        "yaxis": {
         "autorange": true,
         "range": [
          -0.012823788243258357,
          0.22792751089174068
         ],
         "type": "linear"
        }
       }
      }
     },
     "metadata": {},
     "output_type": "display_data"
    }
   ],
   "source": [
    "open_measures = list()\n",
    "for graph in open_arms_graphs:\n",
    "    open_measures.append(nx.global_efficiency(graph.graph))\n",
    "\n",
    "np.mean(open_measures)\n",
    "    \n",
    "closed_measures = list()\n",
    "for graph in closed_arms_graphs:\n",
    "    closed_measures.append(nx.global_efficiency(graph.graph))\n",
    "\n",
    "np.mean(closed_measures)\n",
    "\n",
    "x_axis = max(len(open_measures), len(closed_measures))\n",
    "plot_network_measures(open_measures, closed_measures, x_axis, title=\"DRD87 Global Efficiency\")"
   ]
  }
 ],
 "metadata": {
  "kernelspec": {
   "display_name": "Python 3",
   "language": "python",
   "name": "python3"
  },
  "language_info": {
   "codemirror_mode": {
    "name": "ipython",
    "version": 3
   },
   "file_extension": ".py",
   "mimetype": "text/x-python",
   "name": "python",
   "nbconvert_exporter": "python",
   "pygments_lexer": "ipython3",
   "version": "3.6.5"
  }
 },
 "nbformat": 4,
 "nbformat_minor": 2
}
